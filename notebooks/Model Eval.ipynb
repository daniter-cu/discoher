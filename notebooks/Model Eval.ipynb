{
 "cells": [
  {
   "cell_type": "code",
   "execution_count": 4,
   "metadata": {},
   "outputs": [],
   "source": [
    "import sys\n",
    "sys.path.append(\"../src/\")"
   ]
  },
  {
   "cell_type": "code",
   "execution_count": 5,
   "metadata": {},
   "outputs": [],
   "source": [
    "%load_ext autoreload\n",
    "%autoreload 2\n",
    "import training\n",
    "from training import ModelRunner"
   ]
  },
  {
   "cell_type": "code",
   "execution_count": 8,
   "metadata": {},
   "outputs": [],
   "source": [
    "args = \"\"\"--emsize 768 --nhid 1536 --nlayers 2 --contrasts=16 --emsize 768 --nhid 1536 \n",
    "--bptt 50 --batch_size 2 --val_data ../data/train/ --restore ../checkpoints/chkpt-1-2000-model.pt\"\"\"\n",
    "runner = ModelRunner(args.split())"
   ]
  },
  {
   "cell_type": "code",
   "execution_count": 9,
   "metadata": {},
   "outputs": [
    {
     "name": "stderr",
     "output_type": "stream",
     "text": [
      "  1%|          | 21/3039 [00:33<1:20:40,  1.60s/it]\n"
     ]
    },
    {
     "data": {
      "text/plain": [
       "(1.8119939728216692, 0.5254545)"
      ]
     },
     "execution_count": 9,
     "metadata": {},
     "output_type": "execute_result"
    }
   ],
   "source": [
    "runner.evaluate(20)"
   ]
  },
  {
   "cell_type": "markdown",
   "metadata": {},
   "source": [
    "# There is a bug where we reload the model and it's much worse than training\n",
    "\n",
    "* [x] check that the bert embeddings are the same between different runs and the cluster\n",
    "* restart training from the checkpoint and check if it's the same\n",
    "* [x] check the parameters in the model\n",
    "* add validation to the training run\n",
    "* try training on cpu for a few cycles and see if it quickly improves"
   ]
  },
  {
   "cell_type": "code",
   "execution_count": 28,
   "metadata": {},
   "outputs": [],
   "source": [
    "import data\n",
    "import glob\n",
    "import torch\n",
    "from torch.utils.data import DataLoader\n"
   ]
  },
  {
   "cell_type": "code",
   "execution_count": 40,
   "metadata": {},
   "outputs": [],
   "source": [
    "val_data_files = glob.glob(\"../data/test/\"+\"/\"+training.DATANAME_WILDCARD)\n",
    "valid_dataset = data.HierLMDataset(val_data_files, runner.args.bptt, torch.device('cpu'))\n",
    "valid_data_loader = DataLoader(valid_dataset, batch_size=runner.args.batch_size,\n",
    "                                    num_workers=0)"
   ]
  },
  {
   "cell_type": "code",
   "execution_count": 41,
   "metadata": {},
   "outputs": [
    {
     "name": "stdout",
     "output_type": "stream",
     "text": [
      "torch.Size([2, 51, 768])\n"
     ]
    }
   ],
   "source": [
    "for x in valid_data_loader:\n",
    "    print(x.shape)\n",
    "    break"
   ]
  },
  {
   "cell_type": "code",
   "execution_count": 39,
   "metadata": {},
   "outputs": [
    {
     "name": "stdout",
     "output_type": "stream",
     "text": [
      "tensor([[ 0.0000,  0.0000,  0.0000,  0.0000,  0.0000,  0.0000,  0.0000,  0.0000,\n",
      "          0.0000,  0.0000],\n",
      "        [-0.7935, -0.0909, -1.0857, -0.8614,  1.6374, -0.5583,  0.6060,  0.6450,\n",
      "          0.2494, -0.1281],\n",
      "        [-0.2442, -0.1593, -0.7816, -0.8825,  1.7064, -0.3027,  0.2993,  0.6249,\n",
      "          0.0533, -0.1491]])\n",
      "tensor([[ 0.0000,  0.0000,  0.0000,  0.0000,  0.0000,  0.0000,  0.0000,  0.0000,\n",
      "          0.0000,  0.0000],\n",
      "        [-0.2954,  0.0696,  0.4350,  0.0439,  0.2796,  0.4314,  0.0597,  1.0496,\n",
      "          0.0784, -0.4132],\n",
      "        [-0.0771, -0.1494,  0.0512, -0.3159,  0.3643,  0.2208,  0.0433,  0.5378,\n",
      "         -0.1664, -0.5099]])\n"
     ]
    }
   ],
   "source": [
    "print(x[0,:3,:10])\n",
    "print(x[1,:3,:10])"
   ]
  },
  {
   "cell_type": "code",
   "execution_count": 42,
   "metadata": {},
   "outputs": [
    {
     "name": "stdout",
     "output_type": "stream",
     "text": [
      "tensor([[ 0.0000,  0.0000,  0.0000,  0.0000,  0.0000,  0.0000,  0.0000,  0.0000,\n",
      "          0.0000,  0.0000],\n",
      "        [-0.7935, -0.0909, -1.0857, -0.8614,  1.6374, -0.5583,  0.6060,  0.6450,\n",
      "          0.2494, -0.1281],\n",
      "        [-0.2442, -0.1593, -0.7816, -0.8825,  1.7064, -0.3027,  0.2993,  0.6249,\n",
      "          0.0533, -0.1491]])\n",
      "tensor([[ 0.0000,  0.0000,  0.0000,  0.0000,  0.0000,  0.0000,  0.0000,  0.0000,\n",
      "          0.0000,  0.0000],\n",
      "        [-0.2954,  0.0696,  0.4350,  0.0439,  0.2796,  0.4314,  0.0597,  1.0496,\n",
      "          0.0784, -0.4132],\n",
      "        [-0.0771, -0.1494,  0.0512, -0.3159,  0.3643,  0.2208,  0.0433,  0.5378,\n",
      "         -0.1664, -0.5099]])\n"
     ]
    }
   ],
   "source": [
    "print(x[0,:3,:10])\n",
    "print(x[1,:3,:10])"
   ]
  },
  {
   "cell_type": "code",
   "execution_count": 2,
   "metadata": {},
   "outputs": [],
   "source": [
    "import torch"
   ]
  },
  {
   "cell_type": "code",
   "execution_count": 6,
   "metadata": {},
   "outputs": [],
   "source": [
    "with open(\"../checkpoints/chkpt-1-2000-model.pt\", 'rb') as f:\n",
    "    model = torch.load(f, map_location=torch.device('cpu'))"
   ]
  },
  {
   "cell_type": "code",
   "execution_count": 7,
   "metadata": {},
   "outputs": [
    {
     "name": "stdout",
     "output_type": "stream",
     "text": [
      "transformer_encoder.layers.0.self_attn.in_proj_weight\n",
      "transformer_encoder.layers.0.self_attn.in_proj_bias\n",
      "transformer_encoder.layers.0.self_attn.out_proj.weight\n",
      "transformer_encoder.layers.0.self_attn.out_proj.bias\n",
      "transformer_encoder.layers.0.linear1.weight\n",
      "transformer_encoder.layers.0.linear1.bias\n",
      "transformer_encoder.layers.0.linear2.weight\n",
      "transformer_encoder.layers.0.linear2.bias\n",
      "transformer_encoder.layers.0.norm1.weight\n",
      "transformer_encoder.layers.0.norm1.bias\n",
      "transformer_encoder.layers.0.norm2.weight\n",
      "transformer_encoder.layers.0.norm2.bias\n",
      "transformer_encoder.layers.1.self_attn.in_proj_weight\n",
      "transformer_encoder.layers.1.self_attn.in_proj_bias\n",
      "transformer_encoder.layers.1.self_attn.out_proj.weight\n",
      "transformer_encoder.layers.1.self_attn.out_proj.bias\n",
      "transformer_encoder.layers.1.linear1.weight\n",
      "transformer_encoder.layers.1.linear1.bias\n",
      "transformer_encoder.layers.1.linear2.weight\n",
      "transformer_encoder.layers.1.linear2.bias\n",
      "transformer_encoder.layers.1.norm1.weight\n",
      "transformer_encoder.layers.1.norm1.bias\n",
      "transformer_encoder.layers.1.norm2.weight\n",
      "transformer_encoder.layers.1.norm2.bias\n"
     ]
    }
   ],
   "source": [
    "for name, p in model.named_parameters():\n",
    "    print(name)"
   ]
  },
  {
   "cell_type": "code",
   "execution_count": null,
   "metadata": {},
   "outputs": [],
   "source": []
  }
 ],
 "metadata": {
  "kernelspec": {
   "display_name": "Python [conda env:discoher]",
   "language": "python",
   "name": "conda-env-discoher-py"
  },
  "language_info": {
   "codemirror_mode": {
    "name": "ipython",
    "version": 3
   },
   "file_extension": ".py",
   "mimetype": "text/x-python",
   "name": "python",
   "nbconvert_exporter": "python",
   "pygments_lexer": "ipython3",
   "version": "3.7.9"
  }
 },
 "nbformat": 4,
 "nbformat_minor": 4
}
