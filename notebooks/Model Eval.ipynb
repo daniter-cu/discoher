{
 "cells": [
  {
   "cell_type": "code",
   "execution_count": 4,
   "metadata": {},
   "outputs": [],
   "source": [
    "import sys\n",
    "sys.path.append(\"../src/\")"
   ]
  },
  {
   "cell_type": "code",
   "execution_count": 5,
   "metadata": {},
   "outputs": [],
   "source": [
    "%load_ext autoreload\n",
    "%autoreload 2\n",
    "import training\n",
    "from training import ModelRunner"
   ]
  },
  {
   "cell_type": "code",
   "execution_count": 12,
   "metadata": {},
   "outputs": [],
   "source": [
    "args = \"\"\"--emsize 768 --nhid 1536 --nlayers 2 --contrasts=16 --emsize 768 --nhid 1536 \n",
    "--bptt 32 --batch_size 16 --val_data ../data/train/ --restore ../checkpoints/chkpt-1-2000-model.pt\"\"\"\n",
    "runner = ModelRunner(args.split())"
   ]
  },
  {
   "cell_type": "code",
   "execution_count": 13,
   "metadata": {},
   "outputs": [
    {
     "name": "stderr",
     "output_type": "stream",
     "text": [
      "  0%|          | 21/4490 [02:44<9:42:37,  7.82s/it] \n"
     ]
    },
    {
     "data": {
      "text/plain": [
       "(0.7611403654922139, 0.76864344)"
      ]
     },
     "execution_count": 13,
     "metadata": {},
     "output_type": "execute_result"
    }
   ],
   "source": [
    "runner.evaluate(20)"
   ]
  },
  {
   "cell_type": "markdown",
   "metadata": {},
   "source": [
    "# Note about accuracy and loss\n",
    "* Since it is contrastive the actual numbers depend on the negatives. Few batches and shorter seq length actually makes it harder because it's coming from the same sentences."
   ]
  },
  {
   "cell_type": "markdown",
   "metadata": {},
   "source": [
    "# Eval\n",
    "* For test set, \n",
    "    * eval binary sentence ordering\n",
    "    * eval greedy paragraph reconstruction\n",
    "    * visually spot check\n"
   ]
  },
  {
   "cell_type": "code",
   "execution_count": 15,
   "metadata": {},
   "outputs": [],
   "source": [
    "import pickle\n",
    "import glob"
   ]
  },
  {
   "cell_type": "code",
   "execution_count": 16,
   "metadata": {
    "collapsed": true
   },
   "outputs": [
    {
     "name": "stdout",
     "output_type": "stream",
     "text": [
      "['../data/test/wiki40b_srl_20000_30000.pkl']\n"
     ]
    },
    {
     "ename": "NameError",
     "evalue": "name 'UnpicklingError' is not defined",
     "output_type": "error",
     "traceback": [
      "\u001b[0;31m---------------------------------------------------------------------------\u001b[0m",
      "\u001b[0;31mEOFError\u001b[0m                                  Traceback (most recent call last)",
      "\u001b[0;32m<ipython-input-16-aac0aeb0812d>\u001b[0m in \u001b[0;36m<module>\u001b[0;34m\u001b[0m\n\u001b[1;32m      8\u001b[0m             \u001b[0;32mtry\u001b[0m\u001b[0;34m:\u001b[0m\u001b[0;34m\u001b[0m\u001b[0;34m\u001b[0m\u001b[0m\n\u001b[0;32m----> 9\u001b[0;31m                 \u001b[0mall_spans\u001b[0m\u001b[0;34m.\u001b[0m\u001b[0mappend\u001b[0m\u001b[0;34m(\u001b[0m\u001b[0munpickler\u001b[0m\u001b[0;34m.\u001b[0m\u001b[0mload\u001b[0m\u001b[0;34m(\u001b[0m\u001b[0;34m)\u001b[0m\u001b[0;34m)\u001b[0m\u001b[0;34m\u001b[0m\u001b[0;34m\u001b[0m\u001b[0m\n\u001b[0m\u001b[1;32m     10\u001b[0m             \u001b[0;32mexcept\u001b[0m \u001b[0;34m(\u001b[0m\u001b[0mEOFError\u001b[0m\u001b[0;34m,\u001b[0m \u001b[0mUnpicklingError\u001b[0m\u001b[0;34m)\u001b[0m\u001b[0;34m:\u001b[0m\u001b[0;34m\u001b[0m\u001b[0;34m\u001b[0m\u001b[0m\n",
      "\u001b[0;31mEOFError\u001b[0m: Ran out of input",
      "\nDuring handling of the above exception, another exception occurred:\n",
      "\u001b[0;31mNameError\u001b[0m                                 Traceback (most recent call last)",
      "\u001b[0;32m<ipython-input-16-aac0aeb0812d>\u001b[0m in \u001b[0;36m<module>\u001b[0;34m\u001b[0m\n\u001b[1;32m      8\u001b[0m             \u001b[0;32mtry\u001b[0m\u001b[0;34m:\u001b[0m\u001b[0;34m\u001b[0m\u001b[0;34m\u001b[0m\u001b[0m\n\u001b[1;32m      9\u001b[0m                 \u001b[0mall_spans\u001b[0m\u001b[0;34m.\u001b[0m\u001b[0mappend\u001b[0m\u001b[0;34m(\u001b[0m\u001b[0munpickler\u001b[0m\u001b[0;34m.\u001b[0m\u001b[0mload\u001b[0m\u001b[0;34m(\u001b[0m\u001b[0;34m)\u001b[0m\u001b[0;34m)\u001b[0m\u001b[0;34m\u001b[0m\u001b[0;34m\u001b[0m\u001b[0m\n\u001b[0;32m---> 10\u001b[0;31m             \u001b[0;32mexcept\u001b[0m \u001b[0;34m(\u001b[0m\u001b[0mEOFError\u001b[0m\u001b[0;34m,\u001b[0m \u001b[0mUnpicklingError\u001b[0m\u001b[0;34m)\u001b[0m\u001b[0;34m:\u001b[0m\u001b[0;34m\u001b[0m\u001b[0;34m\u001b[0m\u001b[0m\n\u001b[0m\u001b[1;32m     11\u001b[0m                 \u001b[0;32mbreak\u001b[0m\u001b[0;34m\u001b[0m\u001b[0;34m\u001b[0m\u001b[0m\n",
      "\u001b[0;31mNameError\u001b[0m: name 'UnpicklingError' is not defined"
     ]
    }
   ],
   "source": [
    "filenames = glob.glob(\"../data/test/*.pkl\")\n",
    "print(filenames)\n",
    "all_spans = []\n",
    "for fname in filenames:\n",
    "    with open(fname, 'rb') as f:\n",
    "        unpickler = pickle.Unpickler(f)\n",
    "        while True:\n",
    "            try:\n",
    "                all_spans.append(unpickler.load())\n",
    "            except:\n",
    "                break"
   ]
  },
  {
   "cell_type": "code",
   "execution_count": 17,
   "metadata": {},
   "outputs": [
    {
     "data": {
      "text/plain": [
       "221181"
      ]
     },
     "execution_count": 17,
     "metadata": {},
     "output_type": "execute_result"
    }
   ],
   "source": [
    "len(all_spans)"
   ]
  },
  {
   "cell_type": "code",
   "execution_count": 21,
   "metadata": {},
   "outputs": [
    {
     "name": "stdout",
     "output_type": "stream",
     "text": [
      "Nothing is known of Marshall's life beyond references to his career as an engraver.\n",
      "Marshall's earliest known work is the frontispiece to the book A Solemne Joviall Disposition Briefly Shadowing the Law of Drinking, which was published in 1617.\n",
      "In the 1630s he produced a number of portrait engravings and book frontispieces, depicting Puritan divines, poets, and figures associated with the High Church establishment of the day, such as William Laud.\n",
      "His most ambitious work was the highly elaborate frontispiece to George Wither's 1635 Collection of Emblemes, Ancient and Moderne, an unusually complex example of the Emblem book.\n",
      "Wither left the design to Marshall, having given general instructions, but expressed himself exasperated with the result, on the grounds that its symbolism was thoroughly incoherent.\n",
      "As he wrote,\n",
      "Instead thereof, the Workman brought to light,\n",
      "\n",
      "What, here, you see;\n",
      "therein, mistaking quite\n",
      "\n",
      "The true Design:\n",
      "And, so (with pains, and cost)\n",
      "\n",
      "The first intended FRONTISPIECE, is lost.\n",
      "Wither's lengthy poem on the engraving claims that its apparently inconsistent symbolism revealed, unintentionally, a deeper truth.\n",
      "The lower part of the frontispiece depicts people wandering in confusion in a cave, apparently having emerged from a womb-like pool in which babies are shown swimming.\n",
      "They exit the cave to draw lots given to them by the goddess of Fortune, symbolic of their allotted place in life.\n",
      "They then climb up a mountain, which divides into two peaks, symbolic of the right and the wrong paths in life.\n",
      "The path to the peak on the right appears more attractive at first, but then becomes rocky and finally leads only to death;\n",
      "the path on the left is at first harder, but eventually becomes pleasant and leads to paradise.\n",
      "A Christian church is depicted on the left and a Pagan temple on the right.\n",
      "Marshall also created forty-one of the seventy-nine plates in Francis Quarles's Emblems of the life of man.\n",
      "In 1640 he created the image of William Shakespeare for John Benson's (notoriously inaccurate) edition of the poet's sonnets.\n",
      "This was an adapted and reversed version of the original Martin Droeshout print.\n",
      "Five years later, he created the image of John Milton surrounded by four muses for Milton's 1645 Poems.\n",
      "The muses are Melpomene (tragedy), Erato, (lyric poetry), Urania, (astronomy), and Clio (history).\n",
      "Like Wither, Milton was unimpressed by Marshall's work, considering the portrait to be deeply unflattering.\n",
      "He had Marshall engrave satirical verses written in Greek underneath the image.\n",
      "It is assumed that this was a practical joke on Marshall, who is unlikely to have known that he was engraving insults directed at himself.\n",
      "The verses read in translation,\n",
      "Looking at the form of the original, you could say, perhaps, that this likeness had been drawn by a rank beginner;\n",
      "but, my friends, since you do not recognize what is pictured here, have a chuckle at a caricature by a useless artist.\n",
      "Venezuela has been producing oil for nearly a century and was an OPEC founder-member.\n",
      "In 2005, Venezuela produced 162 million tons of oil, which is 4.1% of world's total production.\n",
      "By the oil production Venezuela ranks seventh in the world.\n",
      "Venezuela is the world's eight oil exporter and fifth largest net exporter.\n",
      "In 2012, 11 percent of US oil imports came from Venezuela.\n",
      "Since 2010, when the heavy oil from the Orinoco Belt was considered to be economically recoverable, Venezuela has had the largest proved reserves of petroleum in the world, about 298 billion barrels.\n",
      "Oil accounts for about half of total government revenues.\n",
      "The leading oil company is Petrleos de Venezuela S.A. (PDVSA), which according to Venezuelan authorities produces 3.3 million barrels per day (520,000m/d).\n",
      "However, oil industry analysts and the U.S. Energy Information Administration believe it to be only 2.8-2.9 million barrels per day (460,000m/d).\n",
      "Venezuela's main oil fields are located at four major sedimentary basins:\n",
      "Maracaibo, Falcon, Apure, and Oriental.\n",
      "PdVSA has 1.28 million barrels per day (204,000m/d) of crude oil refining capacity.\n",
      "The major facilities are the Paraguan Refining Center, Puerto de la Cruz, and El Palito.\n",
      "\n",
      "As of 2013, Venezuela has the eighth-largest proved gas reserves in the world and the largest in South America.\n",
      "Proved reserves were estimated at 5.5 trillion cubic meters (tcm).\n",
      "However, inadequate transportation and distribution infrastructure has prevented it from making the most of its resources.\n",
      "More than 70% of domestic gas production is consumed by the petroleum industry.\n",
      "Nearly 35% of gross natural gas output are re-injected in order to boost or maintain reservoir pressures, while smaller\n",
      "amounts (5%) are vented or flared.\n",
      "About 10% of production volumes are subject to shrinkage as a result of the extraction of NGLs.\n",
      "The 2010 estimate is 176trillion cubic feet (5,000km), and the nation reportedly produced about 848billion cubic feet (2.4010m) in 2008.\n",
      "The leading gas company is PdVSA.\n",
      "The largest private natural gas producer is Repsol-YPF, who supplies 80-megawatt (MW) power station in Portuguesa, and plans to develop a 450-MW power plant in Obispos.\n",
      "\n",
      "Venezuela has recoverable coal reserves of approximately 528 million short tons (Mmst), most of which is bituminous.\n",
      "Coal production was at 9.254 million short tons as of 2007.\n",
      "Most coal exports go to Latin American countries, the United States and Europe.\n",
      "The main coal company in Venezuelas is Carbozulia, a former subsidiary of PdVSA, which is controlled by Venezuela's state development agency Corpozulia.\n",
      "The major coal-producing region in Venezuela is the Guasare Basin, which is located near the Colombian border.\n",
      "The coal industry development plans include the construction of a railway linking coal mines to the coast and a new deepwater port.\n",
      "\n",
      "The main electricity source is hydropower, which accounts for 71% in 2004.\n",
      "A gross theoretical capability of hydropower is 320 TWh per annum, of which 130 TWh per annum is considered as economically feasible.\n",
      "In 2004, Venezuela produced 70 TWh of hydropower, which accounts 2.5% of world's total.\n",
      "At the end of 2002, total installed hydroelectric generating capacity accounted 13.76 GW with additional 4.5 GW under construction and 7.4 GW of planned capacity.\n",
      "Hydroelectricity production is concentrated on the Caron River in Guayana Region.\n",
      "Today it has 4 different dams.\n",
      "The largest hydroplant is the Guri dam with 10,200 MW of installed capacity, which makes it the third-largest hydroelectric plant in the world.\n",
      "Other facilities on the Caron are Caruachi, Macagua I, Macagua II and Macagua III, with a total of 15.910 MW of installed capacity in 2003.\n",
      "New dams, Tocoma (2 160 MW) and Tayucay (2 450 MW), are currently under construction between Guri and Caruachi.\n",
      "With a projected installed capacity for the whole Hydroelectric Complex (upstream Caroni River and downstream Caroni River), between 17.250 and 20.000 MW in 2010.\n",
      "The largest power companies are state-owned CVG Electrificacin del Caron (EDELCA), a subsidiary of the mining company Corporacin Venezolana de Guayana (CVG), and Compania Anonima de Administracion y Fomento Electrico (CADAFE) accounting respectively for approximately 63% and 18% of generating capacities.\n",
      "Other state-owned power companies are ENELBAR and ENELVEN-ENELCO (approximately 8% of capacities).\n",
      "In 2007, PDVSA bought 82.14% percent of Electricidad de Caracas (EDC) from AES Corporation as part of a renationalization program.\n",
      "Subsequently, the ownership share rose to 93.62% (December 2008).\n",
      "EDC has 11% of Venezuelan capacity, and owns the majority of conventional thermal power plants.\n",
      "The rest of the power production is owned by private companies.\n",
      "The national transmission system (Sistema Inrterconectado Nacional- SIN) is composed by four interconnected regional transmission systems operated by EDELCA, CADAFE, EDC and ENELVEN-ENELCO.\n",
      "Oficina de Operacion de Sistema Interconectados (OPSIS), jointly owned by the four vertical integrated electric companies, operate the SIN under an RTPA regime.\n",
      "\n",
      "Venezuela has pushed the creation of regional oil initiatives for the Caribbean (Petrocaribe), the Andean region (Petroandino), and South America (Petrosur), and Latin America (Petroamerica).\n",
      "The initiatives include assistance for oil developments, investments in refining capacity, and preferential oil pricing.\n",
      "The most developed of these three is the Petrocaribe initiative, with 13 nations signed agreement in 2005.\n",
      "Under Petrocaribe, Venezuela will offer crude oil and petroleum products to Caribbean nations under preferential terms and prices.\n",
      "The payment system allows for a few nations to buy oil on market value but only a certain amount is needed up front;\n"
     ]
    }
   ],
   "source": [
    "for i in range(80):\n",
    "    print(all_spans[i][0])"
   ]
  },
  {
   "cell_type": "code",
   "execution_count": 33,
   "metadata": {},
   "outputs": [],
   "source": [
    "import data\n",
    "from torch.utils.data import DataLoader"
   ]
  },
  {
   "cell_type": "code",
   "execution_count": 49,
   "metadata": {},
   "outputs": [],
   "source": [
    "test_data_files = glob.glob(\"../data/test/*.pkl\")\n",
    "test_dataset = data.BSODataset(test_data_files, 100, torch.device('cpu'))\n",
    "test_dataloader = DataLoader(test_dataset, batch_size=1, num_workers=0)"
   ]
  },
  {
   "cell_type": "code",
   "execution_count": 37,
   "metadata": {},
   "outputs": [],
   "source": [
    "args = \"\"\"--emsize 768 --nhid 1536 --nlayers 2 --contrasts=10 --emsize 768 --nhid 1536 \n",
    "--bptt 50 --batch_size 1 --val_data ../data/train/ --restore ../checkpoints/chkpt-1-2000-model.pt\"\"\"\n",
    "runner = ModelRunner(args.split())"
   ]
  },
  {
   "cell_type": "code",
   "execution_count": 62,
   "metadata": {},
   "outputs": [
    {
     "name": "stderr",
     "output_type": "stream",
     "text": [
      "  0%|          | 301/221180 [01:02<12:45:36,  4.81it/s]\n"
     ]
    },
    {
     "data": {
      "text/plain": [
       "0.8547297297297297"
      ]
     },
     "execution_count": 62,
     "metadata": {},
     "output_type": "execute_result"
    }
   ],
   "source": [
    "runner.evaluate_bso(test_dataloader, 300)"
   ]
  },
  {
   "cell_type": "code",
   "execution_count": null,
   "metadata": {},
   "outputs": [],
   "source": []
  }
 ],
 "metadata": {
  "kernelspec": {
   "display_name": "Python [conda env:discoher]",
   "language": "python",
   "name": "conda-env-discoher-py"
  },
  "language_info": {
   "codemirror_mode": {
    "name": "ipython",
    "version": 3
   },
   "file_extension": ".py",
   "mimetype": "text/x-python",
   "name": "python",
   "nbconvert_exporter": "python",
   "pygments_lexer": "ipython3",
   "version": "3.7.9"
  }
 },
 "nbformat": 4,
 "nbformat_minor": 4
}
