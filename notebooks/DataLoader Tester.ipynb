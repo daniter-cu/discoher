{
 "cells": [
  {
   "cell_type": "code",
   "execution_count": 12,
   "metadata": {},
   "outputs": [],
   "source": [
    "import sys\n",
    "sys.path.append(\"../src/\")"
   ]
  },
  {
   "cell_type": "code",
   "execution_count": 13,
   "metadata": {},
   "outputs": [
    {
     "name": "stdout",
     "output_type": "stream",
     "text": [
      "The autoreload extension is already loaded. To reload it, use:\n",
      "  %reload_ext autoreload\n"
     ]
    }
   ],
   "source": [
    "%load_ext autoreload\n",
    "%autoreload 2\n",
    "import data"
   ]
  },
  {
   "cell_type": "code",
   "execution_count": 51,
   "metadata": {},
   "outputs": [],
   "source": [
    "fnames = [\"../data/wiki40b_srl_0_1000.pkl\",\"../data/wiki40b_srl_1000_2000.pkl\",\"../data/wiki40b_srl_2000_3000.pkl\"]\n",
    "dataset = data.HierLMDataset(fnames, 128)"
   ]
  },
  {
   "cell_type": "code",
   "execution_count": 52,
   "metadata": {},
   "outputs": [],
   "source": [
    "vecs = dataset[1]"
   ]
  },
  {
   "cell_type": "code",
   "execution_count": 53,
   "metadata": {},
   "outputs": [
    {
     "data": {
      "text/plain": [
       "torch.Size([129, 768])"
      ]
     },
     "execution_count": 53,
     "metadata": {},
     "output_type": "execute_result"
    }
   ],
   "source": [
    "vecs.shape"
   ]
  },
  {
   "cell_type": "code",
   "execution_count": 55,
   "metadata": {},
   "outputs": [],
   "source": [
    "from torch.utils.data import DataLoader\n"
   ]
  },
  {
   "cell_type": "code",
   "execution_count": 61,
   "metadata": {},
   "outputs": [],
   "source": [
    "dl = DataLoader(dataset, batch_size=4,  shuffle=True, num_workers=0)"
   ]
  },
  {
   "cell_type": "code",
   "execution_count": 62,
   "metadata": {},
   "outputs": [
    {
     "name": "stdout",
     "output_type": "stream",
     "text": [
      "tensor([[[ 0.0000e+00,  0.0000e+00,  0.0000e+00,  ...,  0.0000e+00,\n",
      "           0.0000e+00,  0.0000e+00],\n",
      "         [-2.6582e-01, -5.5866e-02, -2.1921e-01,  ..., -4.9266e-01,\n",
      "          -1.1271e-01,  3.3790e-03],\n",
      "         [ 1.5370e-01,  9.6883e-02,  1.0652e-02,  ..., -7.6100e-02,\n",
      "          -8.3254e-02,  3.2292e-01],\n",
      "         ...,\n",
      "         [-8.3611e-02,  2.9391e-01, -1.9633e-01,  ...,  3.8758e-01,\n",
      "          -2.0133e-01, -5.4392e-01],\n",
      "         [ 3.2947e-01, -2.4936e-01,  1.2452e-01,  ..., -5.5271e-01,\n",
      "           3.1129e-01, -7.3919e-01],\n",
      "         [ 5.1006e-01,  4.7602e-02, -1.0635e+00,  ..., -9.1182e-02,\n",
      "           5.3687e-02,  1.4648e-01]],\n",
      "\n",
      "        [[ 0.0000e+00,  0.0000e+00,  0.0000e+00,  ...,  0.0000e+00,\n",
      "           0.0000e+00,  0.0000e+00],\n",
      "         [-1.5470e-01, -1.4830e-01,  2.2362e-02,  ..., -4.9192e-01,\n",
      "           1.0026e+00, -1.8981e-02],\n",
      "         [ 1.9729e-01, -1.7817e-01, -7.5231e-03,  ..., -4.8875e-01,\n",
      "          -1.0179e-01, -1.0097e-01],\n",
      "         ...,\n",
      "         [ 6.6499e-01,  6.6771e-02,  5.5794e-05,  ...,  1.0399e+00,\n",
      "           4.4490e-01, -1.6662e-01],\n",
      "         [ 2.1884e-01,  4.3580e-01, -4.1753e-01,  ...,  5.2464e-01,\n",
      "           6.5657e-01,  2.4777e-01],\n",
      "         [ 3.3750e-01, -2.0087e-01, -8.1121e-01,  ...,  3.8589e-01,\n",
      "          -4.4404e-01,  1.2778e-01]],\n",
      "\n",
      "        [[ 0.0000e+00,  0.0000e+00,  0.0000e+00,  ...,  0.0000e+00,\n",
      "           0.0000e+00,  0.0000e+00],\n",
      "         [-3.4106e-01, -7.0838e-01,  4.8769e-01,  ..., -5.2046e-01,\n",
      "           3.3570e-01, -6.5784e-01],\n",
      "         [-3.3180e-02, -4.0090e-01,  2.2217e-01,  ..., -6.7502e-01,\n",
      "           3.9632e-01, -6.4345e-01],\n",
      "         ...,\n",
      "         [ 3.1643e-01, -5.7433e-01,  1.1267e+00,  ..., -1.0927e-01,\n",
      "           9.2460e-02, -3.1412e-01],\n",
      "         [ 1.0556e+00, -6.0781e-01,  9.5138e-01,  ..., -1.7200e-01,\n",
      "           3.0497e-01,  1.6694e-02],\n",
      "         [-6.4567e-01, -9.7442e-01, -2.7459e-01,  ...,  4.7175e-01,\n",
      "           1.3246e-01, -1.8612e-01]],\n",
      "\n",
      "        [[ 0.0000e+00,  0.0000e+00,  0.0000e+00,  ...,  0.0000e+00,\n",
      "           0.0000e+00,  0.0000e+00],\n",
      "         [ 1.7243e-01, -2.8521e-01, -7.0496e-02,  ..., -8.5736e-02,\n",
      "          -3.4589e-01, -4.8053e-01],\n",
      "         [ 6.8257e-02,  1.2493e-01, -2.4264e-01,  ..., -1.2119e+00,\n",
      "          -2.4485e-01,  1.5675e+00],\n",
      "         ...,\n",
      "         [ 3.5283e-01,  7.5384e-01,  1.0078e-01,  ..., -1.0339e-01,\n",
      "          -1.3964e-01,  1.3937e-01],\n",
      "         [-1.5717e-01,  4.4321e-01,  2.5896e-01,  ..., -3.6098e-01,\n",
      "          -7.7006e-02,  3.6634e-01],\n",
      "         [-1.3861e-01,  5.7274e-01,  2.6447e-01,  ..., -5.7499e-01,\n",
      "          -2.1411e-01,  1.0686e-01]]], grad_fn=<StackBackward>)\n"
     ]
    }
   ],
   "source": [
    "for x in dl:\n",
    "    print(x)\n",
    "    break"
   ]
  },
  {
   "cell_type": "code",
   "execution_count": 64,
   "metadata": {},
   "outputs": [
    {
     "data": {
      "text/plain": [
       "tensor([[[ 0.0000e+00,  0.0000e+00,  0.0000e+00,  ...,  0.0000e+00,\n",
       "           0.0000e+00,  0.0000e+00],\n",
       "         [-2.6582e-01, -5.5866e-02, -2.1921e-01,  ..., -4.9266e-01,\n",
       "          -1.1271e-01,  3.3790e-03],\n",
       "         [ 1.5370e-01,  9.6883e-02,  1.0652e-02,  ..., -7.6100e-02,\n",
       "          -8.3254e-02,  3.2292e-01],\n",
       "         ...,\n",
       "         [-8.3611e-02,  2.9391e-01, -1.9633e-01,  ...,  3.8758e-01,\n",
       "          -2.0133e-01, -5.4392e-01],\n",
       "         [ 3.2947e-01, -2.4936e-01,  1.2452e-01,  ..., -5.5271e-01,\n",
       "           3.1129e-01, -7.3919e-01],\n",
       "         [ 5.1006e-01,  4.7602e-02, -1.0635e+00,  ..., -9.1182e-02,\n",
       "           5.3687e-02,  1.4648e-01]],\n",
       "\n",
       "        [[ 0.0000e+00,  0.0000e+00,  0.0000e+00,  ...,  0.0000e+00,\n",
       "           0.0000e+00,  0.0000e+00],\n",
       "         [-1.5470e-01, -1.4830e-01,  2.2362e-02,  ..., -4.9192e-01,\n",
       "           1.0026e+00, -1.8981e-02],\n",
       "         [ 1.9729e-01, -1.7817e-01, -7.5231e-03,  ..., -4.8875e-01,\n",
       "          -1.0179e-01, -1.0097e-01],\n",
       "         ...,\n",
       "         [ 6.6499e-01,  6.6771e-02,  5.5794e-05,  ...,  1.0399e+00,\n",
       "           4.4490e-01, -1.6662e-01],\n",
       "         [ 2.1884e-01,  4.3580e-01, -4.1753e-01,  ...,  5.2464e-01,\n",
       "           6.5657e-01,  2.4777e-01],\n",
       "         [ 3.3750e-01, -2.0087e-01, -8.1121e-01,  ...,  3.8589e-01,\n",
       "          -4.4404e-01,  1.2778e-01]],\n",
       "\n",
       "        [[ 0.0000e+00,  0.0000e+00,  0.0000e+00,  ...,  0.0000e+00,\n",
       "           0.0000e+00,  0.0000e+00],\n",
       "         [-3.4106e-01, -7.0838e-01,  4.8769e-01,  ..., -5.2046e-01,\n",
       "           3.3570e-01, -6.5784e-01],\n",
       "         [-3.3180e-02, -4.0090e-01,  2.2217e-01,  ..., -6.7502e-01,\n",
       "           3.9632e-01, -6.4345e-01],\n",
       "         ...,\n",
       "         [ 3.1643e-01, -5.7433e-01,  1.1267e+00,  ..., -1.0927e-01,\n",
       "           9.2460e-02, -3.1412e-01],\n",
       "         [ 1.0556e+00, -6.0781e-01,  9.5138e-01,  ..., -1.7200e-01,\n",
       "           3.0497e-01,  1.6694e-02],\n",
       "         [-6.4567e-01, -9.7442e-01, -2.7459e-01,  ...,  4.7175e-01,\n",
       "           1.3246e-01, -1.8612e-01]],\n",
       "\n",
       "        [[ 0.0000e+00,  0.0000e+00,  0.0000e+00,  ...,  0.0000e+00,\n",
       "           0.0000e+00,  0.0000e+00],\n",
       "         [ 1.7243e-01, -2.8521e-01, -7.0496e-02,  ..., -8.5736e-02,\n",
       "          -3.4589e-01, -4.8053e-01],\n",
       "         [ 6.8257e-02,  1.2493e-01, -2.4264e-01,  ..., -1.2119e+00,\n",
       "          -2.4485e-01,  1.5675e+00],\n",
       "         ...,\n",
       "         [ 3.5283e-01,  7.5384e-01,  1.0078e-01,  ..., -1.0339e-01,\n",
       "          -1.3964e-01,  1.3937e-01],\n",
       "         [-1.5717e-01,  4.4321e-01,  2.5896e-01,  ..., -3.6098e-01,\n",
       "          -7.7006e-02,  3.6634e-01],\n",
       "         [-1.3861e-01,  5.7274e-01,  2.6447e-01,  ..., -5.7499e-01,\n",
       "          -2.1411e-01,  1.0686e-01]]], grad_fn=<StackBackward>)"
      ]
     },
     "execution_count": 64,
     "metadata": {},
     "output_type": "execute_result"
    }
   ],
   "source": [
    "x"
   ]
  },
  {
   "cell_type": "code",
   "execution_count": null,
   "metadata": {},
   "outputs": [],
   "source": []
  },
  {
   "cell_type": "code",
   "execution_count": null,
   "metadata": {},
   "outputs": [],
   "source": []
  },
  {
   "cell_type": "code",
   "execution_count": null,
   "metadata": {},
   "outputs": [],
   "source": []
  },
  {
   "cell_type": "code",
   "execution_count": 23,
   "metadata": {},
   "outputs": [
    {
     "data": {
      "text/plain": [
       "torch.Size([17, 79, 768])"
      ]
     },
     "execution_count": 23,
     "metadata": {},
     "output_type": "execute_result"
    }
   ],
   "source": [
    "vecs['last_hidden_state'].shape"
   ]
  },
  {
   "cell_type": "code",
   "execution_count": 25,
   "metadata": {},
   "outputs": [
    {
     "data": {
      "text/plain": [
       "{'seq_len': 128,\n",
       " 'text_spans': ['Amazon was hosted by the Herreshoff Marine Museum at Bristol, Rhode Island in October 2009.',\n",
       "  'She spent time in Narragansett Bay.',\n",
       "  'The yacht subsequently travelled to Mystic Seaport in late 2009  and was based there in early 2011.',\n",
       "  'Amazon remained at Mystic Seaport until mid-2011.',\n",
       "  'Amazon acted as Flagship for the Commodore of the Mystic River Yacht Club for a charity regatta in Long Island Sound in June 2011 and visited Canada in July 2011 \\nIn August 2011 the yacht made a trans-Atlantic passage from Newfoundland to Ireland, and arrived at Waterford on 2 September 2011 where she was described by a local boat owner as the \"classiest motor boat I have ever seen!\".',\n",
       "  'She remained at Waterford for the winter.',\n",
       "  'In May 2012 she visited Bristol before sailing to London, where she took part in the Thames Diamond Jubilee Pageant on Sunday 3 June 2012.',\n",
       "  'She was the only vessel present that had also witnessed the Diamond Jubilee Fleet Review for Queen Victoria at Spithead on 26 June 1897.',\n",
       "  \"The Director of National Historic Ships referred to her in his public letter of criticism concerning the BBC's coverage of the event.\",\n",
       "  'She was subsequently at the Ramsgate Maritime Museum until late June, at Shoreham on 28 June 2012, then at Cowes and in the Bassin Vauban at St Malo, France in late July 2012.',\n",
       "  'In August and September 2012, Amazon was in the Channel Islands, visiting Alderney in August and Jersey in September, berthing in St Helier and Gorey Harbours;',\n",
       "  \"on 13 September she was in St Aubin's Bay to watch the 2012 Jersey International Air Display.\",\n",
       "  'She was in Bristol during the winter and at the Southampton Maritime Festival on 5 & 6 May 2013.',\n",
       "  \"On 23 May she was in the Bristol Channel en route to Gloucester where she arrived on 24 May for the city's Tall Ships Festival on 25 & 26 May, and was on the Gloucester and Sharpness Canal during June.\",\n",
       "  'She was at Gorey, Jersey on 22 July 2013 and had returned to Malta by October that year.',\n",
       "  'Kasturba Road is a street in Bangalore, the capital of Karnataka, India, which is connected to M G Road to the north and J C Road to the south.',\n",
       "  'Some important landmarks situated along Kasturba Road are Sree Kanteerava Stadium, Kanteerava Indoor Stadium, Cubbon Park, Government Museum, Venkatappa Art Gallery, Visvesvaraya Industrial and Technological Museum and UB City.'],\n",
       " 'reprs': [[('V', [2]),\n",
       "   ('V', [3]),\n",
       "   ('ARG0', [4, 5, 6, 7, 8, 9, 10, 11, 12, 13, 14, 15]),\n",
       "   ('ARG1', [1]),\n",
       "   ('ARGM', [16, 17, 18])],\n",
       "  [('V', [2]), ('ARG0', [1]), ('ARG1', [3]), ('ARGM', [4, 5, 6, 7, 8, 9])],\n",
       "  [('V', [4]),\n",
       "   ('ARG0', [1, 2]),\n",
       "   ('ARG1', [5, 6, 7, 8]),\n",
       "   ('ARGM', [3, 9, 10, 11]),\n",
       "   ('V', [13]),\n",
       "   ('V', [14]),\n",
       "   ('ARG1', [1, 2]),\n",
       "   ('ARGM', [15, 16, 17, 18])],\n",
       "  [('V', [2]), ('ARG1', [1]), ('ARG3', [3, 4, 5, 6]), ('ARGM', [7, 8, 9, 10])],\n",
       "  [('V', [2]),\n",
       "   ('ARG0', [1]),\n",
       "   ('ARG1', [3, 4, 5, 6, 7, 8, 9, 10, 11, 12, 13, 14]),\n",
       "   ('ARGM', [15, 16, 17, 18, 19, 20, 21, 22, 23, 24]),\n",
       "   ('V', [26]),\n",
       "   ('ARG0', [1]),\n",
       "   ('ARG1', [27]),\n",
       "   ('ARGM', [28, 29, 30, 31, 32, 33]),\n",
       "   ('V', [36]),\n",
       "   ('ARG0', [34, 35]),\n",
       "   ('ARG1', [37, 38, 39, 40, 41, 42, 43, 44, 45]),\n",
       "   ('ARGM', [31]),\n",
       "   ('V', [48]),\n",
       "   ('ARG1', [34, 35]),\n",
       "   ('ARG4', [49, 50]),\n",
       "   ('ARGM', [51, 52, 53, 54]),\n",
       "   ('V', [57]),\n",
       "   ('V', [58]),\n",
       "   ('ARG0', [59, 60, 61, 62, 63]),\n",
       "   ('ARG1', [56]),\n",
       "   ('ARG2', [64, 65, 66, 67, 68, 69, 70, 71, 72, 73, 74]),\n",
       "   ('ARGM', [50, 52, 53, 54]),\n",
       "   ('V', [72]),\n",
       "   ('V', [74]),\n",
       "   ('ARG0', [71]),\n",
       "   ('ARG1', [65, 66, 67, 68, 69, 70]),\n",
       "   ('ARGM', [73])],\n",
       "  [('V', [2]), ('ARG1', [1]), ('ARG3', [3, 4]), ('ARGM', [5, 6, 7])],\n",
       "  [('V', [5]),\n",
       "   ('ARG0', [4]),\n",
       "   ('ARG1', [6]),\n",
       "   ('ARGM',\n",
       "    [1,\n",
       "     2,\n",
       "     3,\n",
       "     7,\n",
       "     8,\n",
       "     9,\n",
       "     10,\n",
       "     11,\n",
       "     12,\n",
       "     13,\n",
       "     14,\n",
       "     15,\n",
       "     16,\n",
       "     17,\n",
       "     18,\n",
       "     19,\n",
       "     20,\n",
       "     21,\n",
       "     22,\n",
       "     23,\n",
       "     24,\n",
       "     25,\n",
       "     26]),\n",
       "   ('V', [14]),\n",
       "   ('ARG0', [13]),\n",
       "   ('ARG1', [15]),\n",
       "   ('ARGM', [10, 16, 17, 18, 19, 20, 21, 22, 23, 24, 25, 26])],\n",
       "  [('V', [2]),\n",
       "   ('ARG1', [1]),\n",
       "   ('ARG2',\n",
       "    [3,\n",
       "     4,\n",
       "     5,\n",
       "     6,\n",
       "     7,\n",
       "     8,\n",
       "     9,\n",
       "     10,\n",
       "     11,\n",
       "     12,\n",
       "     13,\n",
       "     14,\n",
       "     15,\n",
       "     16,\n",
       "     17,\n",
       "     18,\n",
       "     19,\n",
       "     20,\n",
       "     21,\n",
       "     22,\n",
       "     23,\n",
       "     24,\n",
       "     25]),\n",
       "   ('V', [8]),\n",
       "   ('V', [10]),\n",
       "   ('ARG0', [3, 4, 5]),\n",
       "   ('ARG1', [11, 12, 13, 14, 15, 16, 17, 18, 19, 20, 21, 22, 23, 24, 25]),\n",
       "   ('ARGM', [9])],\n",
       "  [('V', [7]),\n",
       "   ('ARG0', [1, 2, 3, 4, 5, 6]),\n",
       "   ('ARG1', [8, 9]),\n",
       "   ('ARGM', [10, 11, 12, 13, 14, 15, 16, 17, 18, 19, 20, 21, 22, 23, 24]),\n",
       "   ('V', [16]),\n",
       "   ('ARG0', [11, 12, 13, 14, 15]),\n",
       "   ('ARG1', [17, 18, 19, 20, 21, 22, 23, 24])],\n",
       "  [('V', [2]),\n",
       "   ('ARG1', [1]),\n",
       "   ('ARG2', [4, 5, 6, 7, 8, 9]),\n",
       "   ('ARGM', [3, 10, 11, 12, 17, 18])],\n",
       "  [('V', [8]),\n",
       "   ('ARG1', [7]),\n",
       "   ('ARG2', [9, 10, 11, 12]),\n",
       "   ('ARGM',\n",
       "    [1,\n",
       "     2,\n",
       "     3,\n",
       "     4,\n",
       "     5,\n",
       "     14,\n",
       "     15,\n",
       "     16,\n",
       "     17,\n",
       "     18,\n",
       "     19,\n",
       "     20,\n",
       "     21,\n",
       "     22,\n",
       "     23,\n",
       "     24,\n",
       "     25,\n",
       "     26,\n",
       "     27,\n",
       "     28,\n",
       "     29,\n",
       "     30,\n",
       "     31,\n",
       "     32,\n",
       "     33,\n",
       "     34,\n",
       "     35]),\n",
       "   ('V', [14]),\n",
       "   ('ARG0', [7]),\n",
       "   ('ARG1', [15, 16, 17]),\n",
       "   ('ARGM', [18, 19, 22, 23]),\n",
       "   ('V', [25, 26]),\n",
       "   ('ARG0', [7]),\n",
       "   ('ARGM', [27, 28, 29, 30, 31, 32, 33, 34, 35])],\n",
       "  [('V', [5]),\n",
       "   ('ARG1', [4]),\n",
       "   ('ARG2', [6, 7, 8, 9, 10, 11, 12]),\n",
       "   ('ARGM', [1, 2, 3, 13, 14, 15, 16, 17, 18, 19, 20]),\n",
       "   ('V', [14]),\n",
       "   ('ARG0', [4]),\n",
       "   ('ARG1', [15, 16, 17, 18, 19, 20])],\n",
       "  [('V', [2]), ('ARG1', [1]), ('ARG2', [3, 4]), ('ARGM', [5, 6, 7])],\n",
       "  [('V', [5]),\n",
       "   ('ARG1', [4]),\n",
       "   ('ARG2',\n",
       "    [6,\n",
       "     7,\n",
       "     8,\n",
       "     9,\n",
       "     10,\n",
       "     11,\n",
       "     12,\n",
       "     13,\n",
       "     14,\n",
       "     15,\n",
       "     16,\n",
       "     17,\n",
       "     18,\n",
       "     19,\n",
       "     20,\n",
       "     21,\n",
       "     22,\n",
       "     23,\n",
       "     24,\n",
       "     25,\n",
       "     26,\n",
       "     27,\n",
       "     28,\n",
       "     29,\n",
       "     30,\n",
       "     31,\n",
       "     32,\n",
       "     33,\n",
       "     34,\n",
       "     35,\n",
       "     36,\n",
       "     37,\n",
       "     38,\n",
       "     39,\n",
       "     40,\n",
       "     41,\n",
       "     42,\n",
       "     43,\n",
       "     44]),\n",
       "   ('ARGM', [1, 2, 3]),\n",
       "   ('V', [16]),\n",
       "   ('ARG1', [15]),\n",
       "   ('ARGM',\n",
       "    [14, 17, 18, 19, 20, 21, 22, 23, 24, 25, 26, 27, 28, 29, 30, 31, 32]),\n",
       "   ('V', [35]),\n",
       "   ('ARG1', [15]),\n",
       "   ('ARG2', [36, 37, 38, 39, 40, 41, 42]),\n",
       "   ('ARGM', [43, 44])],\n",
       "  [('V', [2]),\n",
       "   ('ARG1', [1]),\n",
       "   ('ARG2', [3, 4, 5, 6, 7]),\n",
       "   ('ARGM', [8, 9, 10, 11]),\n",
       "   ('V', [13]),\n",
       "   ('V', [14]),\n",
       "   ('ARG1', [1]),\n",
       "   ('ARG4', [15, 16]),\n",
       "   ('ARGM', [17, 18, 19, 20])],\n",
       "  [('V', [6]),\n",
       "   ('ARG1', [1, 2, 3, 4, 5]),\n",
       "   ('ARG2',\n",
       "    [7,\n",
       "     8,\n",
       "     9,\n",
       "     10,\n",
       "     11,\n",
       "     12,\n",
       "     13,\n",
       "     14,\n",
       "     15,\n",
       "     16,\n",
       "     17,\n",
       "     18,\n",
       "     19,\n",
       "     20,\n",
       "     21,\n",
       "     22,\n",
       "     23,\n",
       "     24,\n",
       "     25,\n",
       "     26,\n",
       "     27,\n",
       "     28,\n",
       "     29,\n",
       "     30,\n",
       "     31,\n",
       "     32,\n",
       "     33,\n",
       "     34,\n",
       "     35]),\n",
       "   ('V', [20]),\n",
       "   ('V', [21]),\n",
       "   ('ARG1', [7, 8, 22, 23, 24, 25, 26, 27, 28, 29, 30, 31, 32, 33, 34, 35])],\n",
       "  [('V', [4])]]}"
      ]
     },
     "execution_count": 25,
     "metadata": {},
     "output_type": "execute_result"
    }
   ],
   "source": [
    "vars(ex)"
   ]
  },
  {
   "cell_type": "code",
   "execution_count": 27,
   "metadata": {},
   "outputs": [
    {
     "data": {
      "text/plain": [
       "17"
      ]
     },
     "execution_count": 27,
     "metadata": {},
     "output_type": "execute_result"
    }
   ],
   "source": [
    "len(ex.reprs)"
   ]
  },
  {
   "cell_type": "code",
   "execution_count": 28,
   "metadata": {},
   "outputs": [
    {
     "data": {
      "text/plain": [
       "[('V', [2]),\n",
       " ('V', [3]),\n",
       " ('ARG0', [4, 5, 6, 7, 8, 9, 10, 11, 12, 13, 14, 15]),\n",
       " ('ARG1', [1]),\n",
       " ('ARGM', [16, 17, 18])]"
      ]
     },
     "execution_count": 28,
     "metadata": {},
     "output_type": "execute_result"
    }
   ],
   "source": [
    "ex.reprs[0]"
   ]
  },
  {
   "cell_type": "code",
   "execution_count": 36,
   "metadata": {},
   "outputs": [],
   "source": [
    "import torch"
   ]
  },
  {
   "cell_type": "code",
   "execution_count": 40,
   "metadata": {},
   "outputs": [
    {
     "data": {
      "text/plain": [
       "torch.Size([768])"
      ]
     },
     "execution_count": 40,
     "metadata": {},
     "output_type": "execute_result"
    }
   ],
   "source": [
    "torch.mean(vecs['last_hidden_state'][0][[4]], axis=0).shape"
   ]
  },
  {
   "cell_type": "code",
   "execution_count": 48,
   "metadata": {},
   "outputs": [
    {
     "data": {
      "text/plain": [
       "768"
      ]
     },
     "execution_count": 48,
     "metadata": {},
     "output_type": "execute_result"
    }
   ],
   "source": [
    "vecs.size(1)"
   ]
  },
  {
   "cell_type": "code",
   "execution_count": null,
   "metadata": {},
   "outputs": [],
   "source": []
  }
 ],
 "metadata": {
  "kernelspec": {
   "display_name": "Python [conda env:discoher]",
   "language": "python",
   "name": "conda-env-discoher-py"
  },
  "language_info": {
   "codemirror_mode": {
    "name": "ipython",
    "version": 3
   },
   "file_extension": ".py",
   "mimetype": "text/x-python",
   "name": "python",
   "nbconvert_exporter": "python",
   "pygments_lexer": "ipython3",
   "version": "3.7.9"
  }
 },
 "nbformat": 4,
 "nbformat_minor": 4
}
