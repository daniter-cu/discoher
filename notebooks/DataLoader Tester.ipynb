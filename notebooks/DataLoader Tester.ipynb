{
 "cells": [
  {
   "cell_type": "code",
   "execution_count": 1,
   "metadata": {},
   "outputs": [],
   "source": [
    "import sys\n",
    "sys.path.append(\"../src/\")"
   ]
  },
  {
   "cell_type": "code",
   "execution_count": 2,
   "metadata": {},
   "outputs": [],
   "source": [
    "%load_ext autoreload\n",
    "%autoreload 2\n",
    "import data"
   ]
  },
  {
   "cell_type": "code",
   "execution_count": 10,
   "metadata": {},
   "outputs": [],
   "source": [
    "fnames = [\"../data/wiki40b_srl_0_1000.pkl\",\"../data/wiki40b_srl_1000_2000.pkl\",\"../data/wiki40b_srl_2000_3000.pkl\"]\n",
    "dataset = data.HierLMDataset(fnames, 10)"
   ]
  },
  {
   "cell_type": "code",
   "execution_count": 11,
   "metadata": {},
   "outputs": [
    {
     "data": {
      "text/plain": [
       "{'seq_len': 10,\n",
       " 'text_spans': [\"Amazon's engine and boiler were supplied by the adjacent works of Day, Summers and Company.\",\n",
       "  'Amazon was used for summer cruising, to attend sailing regattas along the south coast of England, and to visit France.'],\n",
       " 'reprs': [[('V', [7]),\n",
       "   ('V', [8]),\n",
       "   ('ARG0', [9, 10, 11, 12, 13, 14, 15, 16, 17, 18]),\n",
       "   ('ARG1', [1, 2, 3, 4, 5, 6])],\n",
       "  [('V', [2]),\n",
       "   ('V', [3]),\n",
       "   ('ARG1', [1]),\n",
       "   ('ARG2',\n",
       "    [4,\n",
       "     5,\n",
       "     6,\n",
       "     7,\n",
       "     8,\n",
       "     9,\n",
       "     10,\n",
       "     11,\n",
       "     12,\n",
       "     13,\n",
       "     14,\n",
       "     15,\n",
       "     16,\n",
       "     17,\n",
       "     18,\n",
       "     19,\n",
       "     20,\n",
       "     21,\n",
       "     22,\n",
       "     23]),\n",
       "   ('V', [6]),\n",
       "   ('ARGM', [5])]]}"
      ]
     },
     "execution_count": 11,
     "metadata": {},
     "output_type": "execute_result"
    }
   ],
   "source": [
    "vars(dataset[1])"
   ]
  },
  {
   "cell_type": "code",
   "execution_count": null,
   "metadata": {},
   "outputs": [],
   "source": []
  }
 ],
 "metadata": {
  "kernelspec": {
   "display_name": "Python [conda env:discoher]",
   "language": "python",
   "name": "conda-env-discoher-py"
  },
  "language_info": {
   "codemirror_mode": {
    "name": "ipython",
    "version": 3
   },
   "file_extension": ".py",
   "mimetype": "text/x-python",
   "name": "python",
   "nbconvert_exporter": "python",
   "pygments_lexer": "ipython3",
   "version": "3.7.9"
  }
 },
 "nbformat": 4,
 "nbformat_minor": 4
}
