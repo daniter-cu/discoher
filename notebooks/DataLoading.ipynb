{
 "cells": [
  {
   "cell_type": "code",
   "execution_count": 93,
   "metadata": {},
   "outputs": [
    {
     "name": "stderr",
     "output_type": "stream",
     "text": [
      "WARNING:root:Nah\n"
     ]
    }
   ],
   "source": [
    "import logging\n",
    "\n",
    "logger = logging.getLogger()\n",
    "logger.setLevel(logging.WARN)\n",
    "logging.debug(\"Howdy\")\n",
    "logging.warning(\"Nah\")"
   ]
  },
  {
   "cell_type": "code",
   "execution_count": 34,
   "metadata": {},
   "outputs": [],
   "source": [
    "import tensorflow_datasets as tfds"
   ]
  },
  {
   "cell_type": "code",
   "execution_count": 35,
   "metadata": {},
   "outputs": [
    {
     "name": "stderr",
     "output_type": "stream",
     "text": [
      "INFO:absl:No config specified, defaulting to first: wiki40b/en\n",
      "INFO:absl:Load dataset info from gs://tfds-data/datasets/wiki40b/en/1.3.0\n",
      "INFO:absl:Field info.config_name from disk and from code do not match. Keeping the one from code.\n",
      "INFO:absl:Field info.config_description from disk and from code do not match. Keeping the one from code.\n",
      "INFO:absl:Field info.splits from disk and from code do not match. Keeping the one from code.\n",
      "INFO:absl:Field info.module_name from disk and from code do not match. Keeping the one from code.\n",
      "INFO:absl:Reusing dataset wiki40b (gs://tfds-data/datasets/wiki40b/en/1.3.0)\n",
      "INFO:absl:Constructing tf.data.Dataset for split train[:100], from gs://tfds-data/datasets/wiki40b/en/1.3.0\n"
     ]
    }
   ],
   "source": [
    "ds = tfds.load('wiki40b', split='train[:100]', shuffle_files=True, try_gcs=True)"
   ]
  },
  {
   "cell_type": "code",
   "execution_count": 36,
   "metadata": {},
   "outputs": [
    {
     "name": "stdout",
     "output_type": "stream",
     "text": [
      "4\n"
     ]
    }
   ],
   "source": [
    "for ex in ds:\n",
    "    print(ex['text'].numpy().decode('utf-8').count(\"_START_PARAGRAPH_\"))\n",
    "    break"
   ]
  },
  {
   "cell_type": "code",
   "execution_count": 37,
   "metadata": {},
   "outputs": [
    {
     "name": "stdout",
     "output_type": "stream",
     "text": [
      "\n",
      "_START_ARTICLE_\n",
      "Fluor-liddicoatite\n",
      "_START_SECTION_\n",
      "Crystal habit\n",
      "_START_PARAGRAPH_\n",
      "Crystals are stout prismatic, with a curved convex trigonal outline, generally elongated and striated parallel to the c axis.  Crystals are hemimorphic, meaning that the two ends of the crystal have different forms.  Fluor-liddicoatite usually has a pedion (a single crystal face) opposite one or two pyramids.\n",
      "_START_SECTION_\n",
      "Physical properties\n",
      "_START_PARAGRAPH_\n",
      "The color is usually smoky brown, but also pink, red, green, blue, or rarely white.  Color zoning is abundant at the type locality, parallel to pyramid faces. This is due to changes in the solution during crystal growth. As the concentration of trace elements that serve as coloring agents changes, there will be areas of less or more color in different parts of the crystal. When the crystal is sliced perpendicular to the c axis, triangular zoning may be seen, together with a trigonal star that radiates from the centre of the crystal, with the three rays directed towards the corners of the triangular color patterns.  _NEWLINE_The pink-red color is due to the manganese Mn³⁺ content, and the green color is due to intervalence charge transfer transactions between iron Fe²⁺ and titanium Ti⁴⁺._NEWLINE__NEWLINE_The streak is white to very light brown, lighter than the mass color, luster is vitreous and crystals are transparent to translucent._NEWLINE_ _NEWLINE_Cleavage is poor perpendicular to the c crystal axis, or it may be totally absent. The mineral is brittle, with an  uneven to conchoidal fracture.  It is very hard, with hardness ​7 ¹⁄₂, a little harder than zircon, making it suitable for use as a gemstone.  Specific gravity is 3.02, a little lighter than fluorite.  It is neither fluorescent nor radioactive.\n",
      "_START_SECTION_\n",
      "Optical properties\n",
      "_START_PARAGRAPH_\n",
      "Fluor-liddicoatite is uniaxial (-), with  _NEWLINE_refractive Indices Nₒ = 1.637 and Nₑ = 1.621 for the type specimen.  The refractive indices, however, will vary from specimen to specimen, as they depend on the content of iron and manganese, which are usually present as trace elements.Pleochroism is strong: O dark brown or pink, E light brown or pale pink.\n",
      "_START_SECTION_\n",
      "Environment\n",
      "_START_PARAGRAPH_\n",
      "Fluor-liddicoatite is detrital in soil at the type locality, presumably derived from the weathering of granitic pegmatites.  Associated minerals are quartz, elbaite, albite and micas.\n"
     ]
    }
   ],
   "source": [
    "print(ex['text'].numpy().decode('utf-8'))"
   ]
  },
  {
   "cell_type": "code",
   "execution_count": 38,
   "metadata": {},
   "outputs": [],
   "source": [
    "num_para = []\n",
    "data = []\n",
    "for ex in ds:\n",
    "    c = ex['text'].numpy().decode('utf-8').count(\"_START_PARAGRAPH_\")\n",
    "    # print(c)\n",
    "    num_para.append(c)\n",
    "    data.append(ex)\n",
    "    if len(num_para) == 100:\n",
    "        break"
   ]
  },
  {
   "cell_type": "code",
   "execution_count": 39,
   "metadata": {},
   "outputs": [
    {
     "data": {
      "text/plain": [
       "(3.0, 2.0)"
      ]
     },
     "execution_count": 39,
     "metadata": {},
     "output_type": "execute_result"
    }
   ],
   "source": [
    "import numpy as np\n",
    "np.mean(num_para),  np.median(num_para)"
   ]
  },
  {
   "cell_type": "code",
   "execution_count": 41,
   "metadata": {},
   "outputs": [
    {
     "name": "stdout",
     "output_type": "stream",
     "text": [
      "\n",
      "_START_ARTICLE_\n",
      "Castlerigg stone circle\n",
      "_START_SECTION_\n",
      "Description\n",
      "_START_PARAGRAPH_\n",
      "The stones are glacial erratic boulders composed of volcanic rock from the Borrowdale Volcanic Group. Both andesitic lavas and tuffs (volcanic ashes) are represented. Castle Rigg sits on a deposit of glacial till, and it is likely that the boulders were originally part of this deposit. The stones are set in a flattened circle, measuring 32.6 m (107 ft) at its widest and 29.5 m (97 ft) at its narrowest. The heaviest stone has been estimated to weigh around 16 tons and the tallest stone measures approximately 2.3m high. There is a 3.3m wide gap in its northern edge, which may have been an entrance. Within the circle, abutting its eastern quadrant, is a roughly rectangular setting of a further 10 stones. The circle was probably constructed around 3200 BC (Late Neolithic/Early Bronze-Age), making it one of the earliest stone circles in Britain and possibly in Europe. It is important to archaeoastronomers who have noted that the sunrise during the Autumn equinox appears over the top of Threlkeld Knott, a hill 3.5 km to the east. Some stones in the circle have been aligned with the midwinter sunrise and various lunar positions._NEWLINE_There is a tradition that it is impossible to count the number of stones within Castlerigg; every attempt will result in a different answer. This tradition, however, may not be far from the truth. Due to erosion of the soil around the stones, caused by the large number of visitors to the monument, several smaller stones have ‘appeared’ next to some of the larger stones. Because these stones are so small, they are likely to have been packing stones used to support the larger stones when the circle was constructed and would originally have been buried. Differences in opinion as to the exact number of stones within Castlerigg are usually down to whether the observer counts these small packing stones, or not; some count 38 and others, 42. The ‘official’ number of stones, as represented on the National Trust information board at the monument, is 40._NEWLINE_In the early 20th century, a single outlying stone was erected by a farmer approximately 90m to the south west of Castlerigg. This stone has many linear ‘scars’ along its side from being repeatedly struck by a plough, suggesting that it was once buried below the surface and also why the farmer dug it up. It is not possible to say whether this stone was originally part of the circle, or just a naturally deposited boulder.\n",
      "_START_SECTION_\n",
      "Archaeological speculation\n",
      "_START_PARAGRAPH_\n",
      "The original motives behind the construction of Castlerigg, its subsequent uses, and how these may have changed over time are not known. Current thinking has linked Castlerigg with the Neolithic Langdale axe industry in the nearby Langdale fells: the circle may have been a meeting place where these axes were traded or exchanged. Ritually deposited stone axes have been found all over Britain, suggesting that their uses went far beyond their practical capabilities. Exchange or trading of stone axes may not have been possible without first taking part in a ritual or ceremony.\n",
      "_START_SECTION_\n",
      "Antiquarian study of Castlerigg\n",
      "_START_PARAGRAPH_\n",
      "Two of Britain's earliest antiquarians, John Aubrey (1626–97) and William Camden (1551–1623), visited Cumbria with an interest in studying the area's megalithic monuments. Both described Long Meg and Her Daughters, another large stone circle, and recounted local legend and folklore associated with this monument, but neither writers mentions a visit to Castlerigg or the area around Keswick. John Aubrey was also the first writer to erroneously connect Neolithic and Bronze-Age megalithic monuments with the Iron-Age Druids._NEWLINE_It was not until the early 18th century that Castlerigg came to the attention of the wider public, when William Stukeley (1687–1765) visited the site, in 1725._NEWLINE_Stukeley's account of his visit to Castlerigg is brief and was published in his Itinerarium Curiosum in 1776, 11 years after his death. Stukeley's visit is important, as it is the earliest written record of the stone circle at Castlerigg:_NEWLINE_…for a mile before we came to Keswick, on an eminence in the middle of a great concavity of those rude hills, and not far from the banks of the river Greata, I observed another Celtic work, very intire: it is 100 foot in diameter, and consists of forty stones, some very large. At the east end of it is a grave, made of such other stones, in number about ten: this is placed in the very east point of the circle, and within it: there is not a stone wanting, though some are removed a little out of their first station: they call it the Carsles, and, corruptly I suppose, Castle-rig. There seemed to be another larger circle in the next pasture toward the town._NEWLINE_(Stukeley 1969 Vol. II, 48)._NEWLINE_Stukeley could be describing the circle as it stands today, as it has changed little in the three centuries since his visit. The rectangular enclosure within the circle, that Stukeley took to be a grave, still consists of 10 stones. It is not clear, however, why Stukeley believed the circle was not missing a single stone. Today there are several large gaps in the circle, suggesting that a number of stones may have indeed been either moved into a different position (possibly after the stone had fallen or been removed completely). Of course, there is no certainty today as to the original appearance of the circle, or how much it may have changed in the preceding millennia, prior to Stukeley's visit. It is believed, however, that the circle survives today in a relatively intact state, changed certainly, but not so far from its original design._NEWLINE_Stukeley's observation of a second circle in the next field is a great revelation that places the stones at Castlerigg in a whole new light; that he fails to deliver a description demonstrates well the frustration felt by modern researchers when dealing with the works of antiquarians. This account could easily be dismissed today as pure fancy or it could be thought that he had mistakenly described a natural feature, as there is no evidence of it today, either above ground or in the observations of later scholars.\n",
      "_START_SECTION_\n",
      "The 19th century\n",
      "_START_PARAGRAPH_\n",
      "The apparently unspoilt and seemingly timeless landscape setting of Castlerigg stone circle provided inspiration for the poets, painters and writers of the 19th century Romantic movement. In John Keats’ Hyperion the passage “Scarce images of life, one here, one there,/Lay vast and edgeways; like a dismal cirque/Of Druid stones, upon a forlorn moor…“ is alleged to have been inspired by his visit to the stones; a visit, it seems, with which he was less than impressed. Samuel Taylor Coleridge, in 1799, visited Castlerigg with William Wordsworth and wrote of it, that a mile and a half from Keswick stands “…a Druidical circle [where] the mountains stand one behind the other, in orderly array as if evoked by and attentive to the assembly of white-vested wizards”._NEWLINE_An early description of Castlerigg stone circle can be found in the 1843 book The Wonders of the World in Nature, Art and Mind, by Robert Sears. In the passage quoted below, Sears also quotes an earlier description of the circle by Ann Radcliffe (Mrs. Radcliffe)._NEWLINE_The Druidical Circle, represented in the accompanying plate, is to be found on the summit of a bold and commanding eminence called Castle-Rigg, about a mile and a half on the old road, leading from Keswick, over the hills to Penrith,—a situation so wild, vast, and beautiful, that one cannot, perhaps, find better terms to convey an idea of it than by adopting the language of a celebrated female writer, (Mrs. Radclifle,) who, travelling over the same ground years ago, thus described the scene: \"Whether our judgment,\" she says, \" was influenced by the authority of a Druid's choice, or that the place itself commanded the opinion, we thought this situation the most severely grand of any hitherto passed. There is, perhaps, not a single object in the scene that interrupts the solemn tone of feeling impressed by its general character of profound solitude, greatness, and awful wildness. Castle-Rigg is the centre point of three valleys that dart immediately under it from the eye, and whose mountains form part of an amphitheatre, which is completed by those of Borrowdale on the west, and by the precipices of Skiddaw and Saddleback, close on the north. The hue which pervades all these mountains is that of dark heath or rock; they are thrown into every form and direction that fancy would suggest, and are at that distance which allows all their grandeur to prevail. Such seclusion and sublimity were indeed well suited to the dark and wild mysteries of the Druids.\"_NEWLINE_Sears then continues his description:_NEWLINE_The one here represented is of the first, or simple class, and consists, at present, of about forty stones of different sizes, all, or most of them, of dark granite,— the highest about seven feet, several about four, and others considerably less ; the few fir-trees in the centre are, of course, of very modern growth. The form may, with more propriety, be called an oval, being thirty-five yards in one direction, and thirty-three yards in another, in which respect it assimilates exactly to that of Rollrich; but what distinguishes this from all other Druidical remains of a similar nature, is the rectangular enclosure on the eastward side of the circle, including a space of about eight feet by four. The object of this is a matter of conjecture ;—by some it is supposed to have been a sort of Holy of Holies where the Druids met, separated from the vulgar, to perform their rites, their divinations, or sit in council to determine controversies ; others consider it to have been for the purposes of burial; probably it might have been intended for both._NEWLINE_The later 19th century saw an increase in research into Castlerigg stone circle. C W Dymond visited the circle in 1878 and 1881, from which visits he produced the first accurate plan of the stones. He marked the position of one of the internal cairns, showing that it was clearly visible at that time, but missed the other two cairns observed by Benjamin Williams in 1856 showing that these two features have never been clearly defined._NEWLINE_The only known archaeological excavation at Castlerigg was carried out by W K Dover in 1882, one year before the site was scheduled. His excavation targeted the internal rectangular enclosure at the eastern side of the circle and his account of his excavation is brief and hidden within details of a day trip to the circle on 5 October 1882, by members of the Cumberland and Westmorland Antiquarian and Archaeological Society, which was published in 1883:_NEWLINE_Prior to the visit of the Society some excavations had been made under the superintendence of Mr. W Kinsey Dover, with the view of finding whether the subsoil would disclose anything that might lead to some conclusion as to the age or object of the circle. The following is Mr. Dover’s report: Length of inclosure within the Keswick stone circle, 22 feet, east and west; breadth, 11 feet, north and south. Length opened out, 18 feet to 19 feet; breadth, 3 feet 3 inches, with two cross cuts of about 2 feet. Depth of dark superficial soil to where the yellow undisturbed soil appears, 14 inches, with the exception of a small portion at the west end where the black soil mixed with stones continued to a depth of 3 feet. Near the bottom here, I found what I think to be a few small pieces of burned wood or charcoal, also some dark unctuous sort of earth, a sample of both I brought away. (Dover 1883, 505)._NEWLINE_What subsequently happened to the samples of ‘burned wood or charcoal’ and the ‘dark unctuous sort of earth’ is unknown, other than they are now likely to be lost or, if not, too contaminated to be worth modern scientific analysis. Nevertheless, Dover's excavation is the only one to have been carried out at Castlerigg. It is, however, believed by some, based on the dimensions given by Dover, that if any stratigraphy exists within the rectangular enclosure it would not have been completely destroyed and the potential to create a relative sequence between the circle and the enclosure should still be possible. It is unlikely that further excavation around the stones would be permitted today as it is neither threatened by farming or development and erosion of the ground surface by the many visitors to the site is kept in check and is not sufficient to affect the integrity of the stones.\n",
      "_START_SECTION_\n",
      "Recent research\n",
      "_START_PARAGRAPH_\n",
      "Much of our knowledge and understanding of Castlerigg stone circle has been passed down to us by the work of 18th century antiquarians and 19th century amateurs. Considering that the stone circles of Cumbria in general are of such antiquity, being the earliest stone circles in the whole of Europe, it is surprising that so little work has been carried out here under modern conditions and that none of the stone circles of Cumbria have so far been scientifically dated._NEWLINE_Since the 1960s, the names Aubrey Burl and Alexander Thom have become synonymous with stone circles and both men have contributed significantly to the literature on this subject, whilst taking opposing sides regarding their purpose and significance. The works of Burl strongly support the idea that any geometry within the circle, or astronomical alignments, are either purely coincidental or symbolic in nature. Thom, on the other hand, is a proponent of the circle builders being adept astronomers and mathematicians and suggests that these skills can be seen in all stone circles, everywhere. While neither Burl's nor Thom's works deal with Castlerigg exclusively, they do attempt to place all the stone circles of Britain in context to each other and to explain their purpose._NEWLINE_English Heritage subjected the scheduled area and the field to its immediate west to a geophysical survey in 1985 in order to improve our understanding of the stone circle and to provide a better interpretation for visitors. A full report of the findings from 1985 has still to be published._NEWLINE_In 2004, Dr Margarita Díaz-Andreu, of the Department of Archaeology at Durham University, commissioned a survey of the stones at Castlerigg in response to claims that prehistoric rock art had been discovered there. A pioneering survey technique that used a laser to record three-dimensional images of the stones was employed. Unfortunately, only graffiti from more recent times was discovered and no trace of the alleged prehistoric carvings was found.\n",
      "_START_SECTION_\n",
      "Pagan connections\n",
      "_START_PARAGRAPH_\n",
      "Castlerigg has a solar alignment and is used in solstice celebrations.\n",
      "_START_SECTION_\n",
      "Conservation history\n",
      "_START_PARAGRAPH_\n",
      "Castlerigg stone circle was one of the monuments included in the Ancient Monuments Protection Act 1882, which included a 'Schedule' of 68 sites in Great Britain and Ireland. It thus became one of the first scheduled ancient monuments. The following year the stone circle was 'taken in to state care'. Under the 1882 act a deed of guardianship could be entered into by a landowner, in which the monument, but not the land it stands on, becomes the property of the state. As one of the first such sites to enter into such an agreement it occupies a small place in the history of archaeological conservation. In 1913, Canon Hardwicke Rawnsley, one of the founders of the National Trust, was among the prime organisers of a public subscription which bought the field in which the stone circle stands, which he then donated to the National Trust. Responsibility for the stone circle remains with English Heritage, the successor body to the Ministry of Works, whilst ownership of the site is retained by the National Trust.\n",
      "##############################\n"
     ]
    }
   ],
   "source": [
    "for s, d in zip(num_para, data):\n",
    "    if s == 7:\n",
    "        print(d['text'].numpy().decode('utf-8'))\n",
    "        print(\"#\"*30)"
   ]
  },
  {
   "cell_type": "code",
   "execution_count": null,
   "metadata": {},
   "outputs": [],
   "source": []
  },
  {
   "cell_type": "markdown",
   "metadata": {},
   "source": [
    "# AllenNLP"
   ]
  },
  {
   "cell_type": "code",
   "execution_count": 6,
   "metadata": {},
   "outputs": [
    {
     "data": {
      "text/plain": [
       "{'verbs': [{'verb': 'Did',\n",
       "   'description': '[V: Did] Uriah honestly think he could beat the game in under three hours ?',\n",
       "   'tags': ['B-V',\n",
       "    'O',\n",
       "    'O',\n",
       "    'O',\n",
       "    'O',\n",
       "    'O',\n",
       "    'O',\n",
       "    'O',\n",
       "    'O',\n",
       "    'O',\n",
       "    'O',\n",
       "    'O',\n",
       "    'O',\n",
       "    'O']},\n",
       "  {'verb': 'think',\n",
       "   'description': 'Did [ARG0: Uriah] [ARGM-ADV: honestly] [V: think] [ARG1: he could beat the game in under three hours] ?',\n",
       "   'tags': ['O',\n",
       "    'B-ARG0',\n",
       "    'B-ARGM-ADV',\n",
       "    'B-V',\n",
       "    'B-ARG1',\n",
       "    'I-ARG1',\n",
       "    'I-ARG1',\n",
       "    'I-ARG1',\n",
       "    'I-ARG1',\n",
       "    'I-ARG1',\n",
       "    'I-ARG1',\n",
       "    'I-ARG1',\n",
       "    'I-ARG1',\n",
       "    'O']},\n",
       "  {'verb': 'could',\n",
       "   'description': 'Did Uriah honestly think he [V: could] beat the game in under three hours ?',\n",
       "   'tags': ['O',\n",
       "    'O',\n",
       "    'O',\n",
       "    'O',\n",
       "    'O',\n",
       "    'B-V',\n",
       "    'O',\n",
       "    'O',\n",
       "    'O',\n",
       "    'O',\n",
       "    'O',\n",
       "    'O',\n",
       "    'O',\n",
       "    'O']},\n",
       "  {'verb': 'beat',\n",
       "   'description': 'Did Uriah honestly think [ARG0: he] [ARGM-MOD: could] [V: beat] [ARG1: the game] [ARGM-TMP: in under three hours] ?',\n",
       "   'tags': ['O',\n",
       "    'O',\n",
       "    'O',\n",
       "    'O',\n",
       "    'B-ARG0',\n",
       "    'B-ARGM-MOD',\n",
       "    'B-V',\n",
       "    'B-ARG1',\n",
       "    'I-ARG1',\n",
       "    'B-ARGM-TMP',\n",
       "    'I-ARGM-TMP',\n",
       "    'I-ARGM-TMP',\n",
       "    'I-ARGM-TMP',\n",
       "    'O']}],\n",
       " 'words': ['Did',\n",
       "  'Uriah',\n",
       "  'honestly',\n",
       "  'think',\n",
       "  'he',\n",
       "  'could',\n",
       "  'beat',\n",
       "  'the',\n",
       "  'game',\n",
       "  'in',\n",
       "  'under',\n",
       "  'three',\n",
       "  'hours',\n",
       "  '?']}"
      ]
     },
     "execution_count": 6,
     "metadata": {},
     "output_type": "execute_result"
    }
   ],
   "source": [
    "from allennlp.predictors.predictor import Predictor\n",
    "predictor = Predictor.from_path(\"https://storage.googleapis.com/allennlp-public-models/structured-prediction-srl-bert.2020.12.15.tar.gz\")\n",
    "predictor.predict(\n",
    "  sentence=\"Did Uriah honestly think he could beat the game in under three hours?\"\n",
    ")"
   ]
  },
  {
   "cell_type": "code",
   "execution_count": 7,
   "metadata": {},
   "outputs": [],
   "source": [
    "out = predictor.predict(\n",
    "  sentence=\"Did Uriah honestly think he could beat the game in under three hours?\"\n",
    ")"
   ]
  },
  {
   "cell_type": "code",
   "execution_count": 8,
   "metadata": {},
   "outputs": [
    {
     "data": {
      "text/plain": [
       "[{'verb': 'Did',\n",
       "  'description': '[V: Did] Uriah honestly think he could beat the game in under three hours ?',\n",
       "  'tags': ['B-V',\n",
       "   'O',\n",
       "   'O',\n",
       "   'O',\n",
       "   'O',\n",
       "   'O',\n",
       "   'O',\n",
       "   'O',\n",
       "   'O',\n",
       "   'O',\n",
       "   'O',\n",
       "   'O',\n",
       "   'O',\n",
       "   'O']},\n",
       " {'verb': 'think',\n",
       "  'description': 'Did [ARG0: Uriah] [ARGM-ADV: honestly] [V: think] [ARG1: he could beat the game in under three hours] ?',\n",
       "  'tags': ['O',\n",
       "   'B-ARG0',\n",
       "   'B-ARGM-ADV',\n",
       "   'B-V',\n",
       "   'B-ARG1',\n",
       "   'I-ARG1',\n",
       "   'I-ARG1',\n",
       "   'I-ARG1',\n",
       "   'I-ARG1',\n",
       "   'I-ARG1',\n",
       "   'I-ARG1',\n",
       "   'I-ARG1',\n",
       "   'I-ARG1',\n",
       "   'O']},\n",
       " {'verb': 'could',\n",
       "  'description': 'Did Uriah honestly think he [V: could] beat the game in under three hours ?',\n",
       "  'tags': ['O',\n",
       "   'O',\n",
       "   'O',\n",
       "   'O',\n",
       "   'O',\n",
       "   'B-V',\n",
       "   'O',\n",
       "   'O',\n",
       "   'O',\n",
       "   'O',\n",
       "   'O',\n",
       "   'O',\n",
       "   'O',\n",
       "   'O']},\n",
       " {'verb': 'beat',\n",
       "  'description': 'Did Uriah honestly think [ARG0: he] [ARGM-MOD: could] [V: beat] [ARG1: the game] [ARGM-TMP: in under three hours] ?',\n",
       "  'tags': ['O',\n",
       "   'O',\n",
       "   'O',\n",
       "   'O',\n",
       "   'B-ARG0',\n",
       "   'B-ARGM-MOD',\n",
       "   'B-V',\n",
       "   'B-ARG1',\n",
       "   'I-ARG1',\n",
       "   'B-ARGM-TMP',\n",
       "   'I-ARGM-TMP',\n",
       "   'I-ARGM-TMP',\n",
       "   'I-ARGM-TMP',\n",
       "   'O']}]"
      ]
     },
     "execution_count": 8,
     "metadata": {},
     "output_type": "execute_result"
    }
   ],
   "source": [
    "out['verbs']"
   ]
  },
  {
   "cell_type": "code",
   "execution_count": 9,
   "metadata": {},
   "outputs": [
    {
     "name": "stdout",
     "output_type": "stream",
     "text": [
      "14\n",
      "14\n",
      "14\n",
      "14\n"
     ]
    }
   ],
   "source": [
    "for ex in out['verbs']:\n",
    "    print(len(ex['tags']))"
   ]
  },
  {
   "cell_type": "code",
   "execution_count": 29,
   "metadata": {},
   "outputs": [
    {
     "data": {
      "text/plain": [
       "['Did',\n",
       " 'Uriah',\n",
       " 'honestly',\n",
       " 'think',\n",
       " 'he',\n",
       " 'could',\n",
       " 'beat',\n",
       " 'the',\n",
       " 'game',\n",
       " 'in',\n",
       " 'under',\n",
       " 'three',\n",
       " 'hours',\n",
       " '?']"
      ]
     },
     "execution_count": 29,
     "metadata": {},
     "output_type": "execute_result"
    }
   ],
   "source": [
    "out['words']"
   ]
  },
  {
   "cell_type": "code",
   "execution_count": 10,
   "metadata": {},
   "outputs": [
    {
     "data": {
      "text/plain": [
       "14"
      ]
     },
     "execution_count": 10,
     "metadata": {},
     "output_type": "execute_result"
    }
   ],
   "source": [
    "len(out['words'])"
   ]
  },
  {
   "cell_type": "code",
   "execution_count": 123,
   "metadata": {},
   "outputs": [],
   "source": [
    "from transformers import BertTokenizer, BertModel\n",
    "tokenizer = BertTokenizer.from_pretrained('bert-base-uncased')\n",
    "model = BertModel.from_pretrained(\"bert-base-uncased\")\n",
    "model.eval()\n",
    "text = \"Did Uriah honestly think he could beat the game in under three hours?\"\n",
    "encoded_input = tokenizer(text, return_tensors='pt')\n",
    "output = model(**encoded_input)"
   ]
  },
  {
   "cell_type": "code",
   "execution_count": 2,
   "metadata": {},
   "outputs": [
    {
     "data": {
      "text/plain": [
       "odict_keys(['last_hidden_state', 'pooler_output'])"
      ]
     },
     "execution_count": 2,
     "metadata": {},
     "output_type": "execute_result"
    }
   ],
   "source": [
    "output.keys()"
   ]
  },
  {
   "cell_type": "code",
   "execution_count": 124,
   "metadata": {},
   "outputs": [
    {
     "data": {
      "text/plain": [
       "torch.Size([17, 768])"
      ]
     },
     "execution_count": 124,
     "metadata": {},
     "output_type": "execute_result"
    }
   ],
   "source": [
    "output['last_hidden_state'][0].shape"
   ]
  },
  {
   "cell_type": "code",
   "execution_count": 126,
   "metadata": {},
   "outputs": [
    {
     "ename": "RuntimeError",
     "evalue": "Can't call numpy() on Tensor that requires grad. Use tensor.detach().numpy() instead.",
     "output_type": "error",
     "traceback": [
      "\u001b[0;31m---------------------------------------------------------------------------\u001b[0m",
      "\u001b[0;31mRuntimeError\u001b[0m                              Traceback (most recent call last)",
      "\u001b[0;32m<ipython-input-126-11db4fb84088>\u001b[0m in \u001b[0;36m<module>\u001b[0;34m\u001b[0m\n\u001b[0;32m----> 1\u001b[0;31m \u001b[0moutput\u001b[0m\u001b[0;34m[\u001b[0m\u001b[0;34m'last_hidden_state'\u001b[0m\u001b[0;34m]\u001b[0m\u001b[0;34m[\u001b[0m\u001b[0;36m0\u001b[0m\u001b[0;34m]\u001b[0m\u001b[0;34m[\u001b[0m\u001b[0;36m3\u001b[0m\u001b[0;34m]\u001b[0m\u001b[0;34m.\u001b[0m\u001b[0mnumpy\u001b[0m\u001b[0;34m(\u001b[0m\u001b[0;34m)\u001b[0m\u001b[0;34m\u001b[0m\u001b[0;34m\u001b[0m\u001b[0m\n\u001b[0m",
      "\u001b[0;31mRuntimeError\u001b[0m: Can't call numpy() on Tensor that requires grad. Use tensor.detach().numpy() instead."
     ]
    }
   ],
   "source": [
    "output['last_hidden_state'][0][3].numpy()"
   ]
  },
  {
   "cell_type": "code",
   "execution_count": 4,
   "metadata": {},
   "outputs": [
    {
     "data": {
      "text/plain": [
       "15"
      ]
     },
     "execution_count": 4,
     "metadata": {},
     "output_type": "execute_result"
    }
   ],
   "source": [
    "len(tokenizer.tokenize(text))"
   ]
  },
  {
   "cell_type": "code",
   "execution_count": null,
   "metadata": {
    "collapsed": true
   },
   "outputs": [],
   "source": []
  },
  {
   "cell_type": "code",
   "execution_count": 24,
   "metadata": {},
   "outputs": [
    {
     "data": {
      "text/plain": [
       "array([[  101,  2106, 24471, 12215,  9826,  2228,  2002,  2071,  3786,\n",
       "         1996,  2208,  1999,  2104,  2093,  2847,  1029,   102]])"
      ]
     },
     "execution_count": 24,
     "metadata": {},
     "output_type": "execute_result"
    }
   ],
   "source": [
    "encoded_input['input_ids'].numpy()"
   ]
  },
  {
   "cell_type": "code",
   "execution_count": 26,
   "metadata": {},
   "outputs": [
    {
     "data": {
      "text/plain": [
       "['[CLS]',\n",
       " 'did',\n",
       " 'ur',\n",
       " '##iah',\n",
       " 'honestly',\n",
       " 'think',\n",
       " 'he',\n",
       " 'could',\n",
       " 'beat',\n",
       " 'the',\n",
       " 'game',\n",
       " 'in',\n",
       " 'under',\n",
       " 'three',\n",
       " 'hours',\n",
       " '?',\n",
       " '[SEP]']"
      ]
     },
     "execution_count": 26,
     "metadata": {},
     "output_type": "execute_result"
    }
   ],
   "source": [
    "tokenizer.convert_ids_to_tokens(encoded_input['input_ids'].numpy()[0])"
   ]
  },
  {
   "cell_type": "code",
   "execution_count": null,
   "metadata": {},
   "outputs": [],
   "source": []
  },
  {
   "cell_type": "code",
   "execution_count": null,
   "metadata": {},
   "outputs": [],
   "source": []
  },
  {
   "cell_type": "markdown",
   "metadata": {},
   "source": [
    "# Representation of a sentence\n",
    "\n",
    "A sentence is composed of many tokens / words but there are few verbs. Each verb has a set of arguments.  \n",
    "S -> [verb_repr]  \n",
    "verb_repr -> [verb, arg0, arg1, ...]  \n",
    "verb -> v  \n",
    "arg_x -> f([v_tok])  \n",
    "f -> some function that converts a list of a vectors to a single vector (ie. mean)  \n",
    "\n",
    "Note that for each verb_repr we know the arg-type for each position and the verb that are refers to. "
   ]
  },
  {
   "cell_type": "code",
   "execution_count": 102,
   "metadata": {},
   "outputs": [],
   "source": [
    "# Map token vectors from BERT to 'words' from SRL\n",
    "from collections import defaultdict\n",
    "special = ['-']\n",
    "def map_words_to_vectors(words, tokenized_words):\n",
    "    words = [w.lower() for w in words]\n",
    "    logging.debug(words)\n",
    "    logging.debug(tokenized_words)\n",
    "    word2veclist = defaultdict(list)\n",
    "    index = 0\n",
    "    for token_index, tword in enumerate(tokenized_words):\n",
    "        if tword in  ['[SEP]', '[CLS]']:\n",
    "            logging.debug(\"skipping\" + tword)\n",
    "            continue\n",
    "        if tword == words[index]:\n",
    "            logging.debug(\"Adding \" + tword  + \"for \"+ words[index])\n",
    "            word2veclist[index].append(token_index)\n",
    "            index += 1\n",
    "        elif tword.startswith(\"##\") or words[index].startswith(tword) or tword in special:\n",
    "            word2veclist[index].append(token_index)\n",
    "            logging.debug(\"Adding \"+ tword+ \"for \"+ words[index])\n",
    "            #print(words[index], tword[2:], words[index].endswith(tword[:2]))\n",
    "            if tword.startswith(\"##\") and words[index].endswith(tword[2:]):\n",
    "                index += 1\n",
    "        elif tokenized_words[token_index - 1] in special:\n",
    "            word2veclist[index].append(token_index)\n",
    "            logging.debug(\"Adding \" + tword + \"for \" + words[index])\n",
    "            if words[index].endswith(tword[2:]):\n",
    "                index += 1\n",
    "        else:\n",
    "            logging.debug(\"Word \" + words[index])\n",
    "            logging.debug(\"Token \" + tword)\n",
    "            raise Exception(\"Tokens and words don't line up.\")\n",
    "    return word2veclist\n"
   ]
  },
  {
   "cell_type": "code",
   "execution_count": 98,
   "metadata": {},
   "outputs": [],
   "source": [
    "word2veclist = map_words_to_vectors(out['words'], \n",
    "                     tokenizer.convert_ids_to_tokens(encoded_input['input_ids'].numpy()[0]),\n",
    "                    output['last_hidden_state'][0])\n",
    "\n",
    "\n"
   ]
  },
  {
   "cell_type": "code",
   "execution_count": 129,
   "metadata": {},
   "outputs": [
    {
     "name": "stdout",
     "output_type": "stream",
     "text": [
      "defaultdict(<class 'list'>, {0: [1, 2, 3, 4], 1: [5], 2: [6], 3: [7], 4: [8], 5: [9], 6: [10], 7: [11], 8: [12], 9: [13], 10: [14], 11: [15], 12: [16], 13: [17], 14: [18], 15: [19], 16: [20], 17: [21], 18: [22], 19: [23], 20: [24], 21: [25], 22: [26], 23: [27], 24: [28], 25: [29], 26: [30], 27: [31], 28: [32], 29: [33], 30: [34], 31: [35], 32: [36], 33: [37], 34: [38], 35: [39], 36: [40], 37: [41], 38: [42, 43, 44, 45], 39: [46], 40: [47], 41: [48, 49], 42: [50, 51, 52], 43: [53], 44: [54], 45: [55, 56, 57], 46: [58], 47: [59], 48: [60], 49: [61, 62], 50: [63], 51: [64], 52: [65], 53: [66], 54: [67], 55: [68, 69, 70, 71], 56: [72], 57: [73], 58: [74], 59: [75, 76, 77, 78], 60: [79], 61: [80], 62: [81], 63: [82], 64: [83], 65: [84, 85], 66: [86], 67: [87], 68: [88], 69: [89, 90, 91], 70: [92], 71: [93], 72: [94, 95, 96], 73: [97], 74: [98], 75: [99], 76: [100], 77: [101], 78: [102, 103, 104, 105], 79: [106], 80: [107], 81: [108], 82: [109], 83: [110], 84: [111], 85: [112], 86: [113], 87: [114], 88: [115], 89: [116], 90: [117], 91: [118], 92: [119], 93: [120], 94: [121], 95: [122], 96: [123], 97: [124], 98: [125], 99: [126], 100: [127], 101: [128, 129], 102: [130, 131, 132], 103: [133], 104: [134, 135, 136, 137], 105: [138], 106: [139]})\n"
     ]
    }
   ],
   "source": [
    "def preproc_text(ex):\n",
    "    ex = ex[10:]\n",
    "    ex = ex.replace(\"_NEWLINE_\", \"\\n\")\n",
    "    return ex\n",
    "\n",
    "for d in data:\n",
    "    text = d['text'].numpy().decode('utf-8')\n",
    "    for para in text.split(\"_START_\"):\n",
    "        if not para.startswith(\"PARAGRAPH_\"):\n",
    "            continue\n",
    "        example = preproc_text(para)\n",
    "        encoded_input = tokenizer(example, return_tensors='pt')\n",
    "        output = model(**encoded_input)\n",
    "        out = predictor.predict(sentence=example)\n",
    "        word2veclist = map_words_to_vectors(out['words'], \n",
    "                     tokenizer.convert_ids_to_tokens(encoded_input['input_ids'].numpy()[0]))\n",
    "                    # output['last_hidden_state'][0])\n",
    "        print(word2veclist)\n",
    "    break"
   ]
  },
  {
   "cell_type": "code",
   "execution_count": 58,
   "metadata": {},
   "outputs": [
    {
     "data": {
      "text/plain": [
       "'\\nKasturba Road is a street in Bangalore, the capital of Karnataka, India, which is connected to M G Road to the north and J C Road to the south. Some important landmarks situated along Kasturba Road are Sree Kanteerava Stadium, Kanteerava Indoor Stadium, Cubbon Park, Government Museum, Venkatappa Art Gallery, Visvesvaraya Industrial and Technological Museum and UB City. A 600-year-old Ganesha temple is also situated on Kasturba Road._NEWLINE_It was earlier known as Sydney Road._NEWLINE_Other important landmarks close to the road are Karnataka High Court, Vidhana Soudha and Chinnaswamy Stadium.'"
      ]
     },
     "execution_count": 58,
     "metadata": {},
     "output_type": "execute_result"
    }
   ],
   "source": [
    "example"
   ]
  },
  {
   "cell_type": "code",
   "execution_count": 150,
   "metadata": {},
   "outputs": [],
   "source": [
    "TAGS = ['V', 'ARG0','ARG1','ARG2','ARG3','ARG4','ARGM']\n",
    "unique_tags = set()\n",
    "def build_repr(parse, word2veclist, vectors):\n",
    "    sent_repr = []\n",
    "    for verb in parse:\n",
    "        tag_2_vec = defaultdict(list)\n",
    "        assert len(verb['tags']) == len(word2veclist.keys())\n",
    "        for i, tag in enumerate(verb['tags']):\n",
    "            if tag == 'O' or  tag[2] == \"R\":\n",
    "                continue\n",
    "            unique_tags.add(tag[2:])\n",
    "            for vec_index in word2veclist[i]:\n",
    "                #print(tag)\n",
    "                #print(tag.split(\"-\"))\n",
    "                #print(tag.split(\"-\")[1])\n",
    "                tag_2_vec[tag.split(\"-\")[1]].append(vectors[vec_index])\n",
    "        for key in tag_2_vec.keys():\n",
    "            assert key in TAGS, key +  str(list(unique_tags))\n",
    "        verb_repr = []\n",
    "        for tag in TAGS:\n",
    "            if tag not in tag_2_vec:\n",
    "                continue\n",
    "            vecs = tag_2_vec[tag]\n",
    "            verb_repr.append((tag, np.mean(np.array(vecs), axis=0)))\n",
    "        sent_repr.append(verb_repr)\n",
    "    return sent_repr"
   ]
  },
  {
   "cell_type": "code",
   "execution_count": 151,
   "metadata": {},
   "outputs": [],
   "source": [
    "sent_repr = build_repr(out['verbs'], word2veclist, output['last_hidden_state'][0].detach().numpy())\n"
   ]
  },
  {
   "cell_type": "code",
   "execution_count": null,
   "metadata": {},
   "outputs": [],
   "source": []
  },
  {
   "cell_type": "code",
   "execution_count": 107,
   "metadata": {},
   "outputs": [],
   "source": []
  },
  {
   "cell_type": "code",
   "execution_count": null,
   "metadata": {},
   "outputs": [],
   "source": []
  },
  {
   "cell_type": "code",
   "execution_count": null,
   "metadata": {},
   "outputs": [],
   "source": []
  }
 ],
 "metadata": {
  "kernelspec": {
   "display_name": "Python [conda env:discoher]",
   "language": "python",
   "name": "conda-env-discoher-py"
  },
  "language_info": {
   "codemirror_mode": {
    "name": "ipython",
    "version": 3
   },
   "file_extension": ".py",
   "mimetype": "text/x-python",
   "name": "python",
   "nbconvert_exporter": "python",
   "pygments_lexer": "ipython3",
   "version": "3.7.9"
  }
 },
 "nbformat": 4,
 "nbformat_minor": 4
}
