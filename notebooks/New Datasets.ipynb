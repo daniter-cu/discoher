{
 "cells": [
  {
   "cell_type": "code",
   "execution_count": 1,
   "metadata": {},
   "outputs": [],
   "source": [
    "# Books Corpus"
   ]
  },
  {
   "cell_type": "code",
   "execution_count": 3,
   "metadata": {},
   "outputs": [],
   "source": [
    "path = \"/Users/daniter/Documents/jurafsky/commonsense/dataset/bookcorpus/books_large_p1.txt\""
   ]
  },
  {
   "cell_type": "code",
   "execution_count": 4,
   "metadata": {},
   "outputs": [],
   "source": [
    "data = []\n",
    "collect = True\n",
    "with open(path, \"r\") as f:\n",
    "    one_book = []\n",
    "    for i, line in enumerate(f):\n",
    "        if collect:\n",
    "            one_book.append(line)\n",
    "            if len(one_book) == 50:\n",
    "                data.append(one_book)\n",
    "                one_book = []\n",
    "                collect = False\n",
    "        if i % 10000 == 0:\n",
    "            collect = True\n",
    "            "
   ]
  },
  {
   "cell_type": "code",
   "execution_count": 8,
   "metadata": {},
   "outputs": [],
   "source": [
    "all_data = []\n",
    "for book in data:\n",
    "    lines = \" \".join([l.strip() for l in book])\n",
    "    all_data.append(lines)\n",
    "        "
   ]
  },
  {
   "cell_type": "code",
   "execution_count": 9,
   "metadata": {},
   "outputs": [
    {
     "data": {
      "text/plain": [
       "\"but che , i 'm thinking about it . '' another message came . `` i was very impressed with you , willing to die for what you believe . '' alejo hoped this was a good sign . `` but then again , so was gabriel , '' stalin added . `` i 'm still looking , che . god have mercy ? he knows i 'm looking , but the women here in spain are so beautiful ? '' alejo typed , `` do n't you want to talk on the phone ? my fingers are cramping . '' `` ca n't . time to sing . the priest is giving me the eye . talk to you later , alejo . '' alejo slid his phone back in his pocket with a smile and leaned his head back towards the sunshine . 34 lilac a country had never seemed so empty and hollow as spain did at that moment to stalin gomez . while mom and dad had their hearts set on a little house in japan , stalin had known immediately upon arriving to get them settled in that japan would never be for him . `` creepy , very creepy '' were the only words that described for him the temples with dull golden statues smiling pacifically at him as he passed . the mlange of slippery sea creatures tacked to wooden planks with wicked looking nails would have been eerie enough at some sort of taxidermy for water creatures display . the fact that it was in a part of the market meant for grocery shopping had given him the heebie-jeebies . with all the money he had pilfered from his bank account , stalin bought his parents a three bedroom house in a cozy neighborhood full of foreigners , a shiny silver lexus , and hired two servants to clean , cook , and fill the house with furniture . then he had gotten back on the plane to a more pleasant destination , planning on sending his parents tickets to come visit . they were n't that old yet , after all . spain seemed like a perfect pick to settle down and hide . it was warm , they spoke spanish , and rumors were that bathing was topless . at first , the city of cordoba , where stalin had rented a nice flat , had seemed very cosmopolitan and smacked of europe . all the excitement soon died away as he found himself lumbering down the gray sidewalks day after day , with no job , no steady girlfriend , and no friends to speak of . the conversation he had with alejo that day in the coffee shop about jesus kept ringing in stalin 's ears , ever since he had realized that for alejo , the whole jesus thing was more than just an intellectual debate about which religion was right . the exact moment stalin had realized this had been when alejo did n't flinch with a gun to his head and had said he would n't change his mind about jesus being god . that had been a very , very heavy day . today , stalin 's heart felt heavy as well , and as he left the massive cathedral where he had been at mass he bought a strawberry ice cream cone from a vendor on the sidewalk . then he turned down one of the ancient , narrow side streets to meander his way in the general direction of home . there really was no hurry ; in spain , no one went to bed before midnight , and at the moment it was just after seven . stalin took a large lick of the sickly-sweet ice cream , the tried to clean a sticky drop of pink off his lips with the paper-thin napkin wrapped around his cone . all of a sudden , he stopped , eyes falling upon a little sign with a picture of a white dove that said libreria la paz . below , in smaller letters , it said , `` libreria evangelica '' . a christian bookstore . and a non-catholic one . something about the store drew stalin towards its rugged stone steps like a piece of lint up the funnel of a vacuum cleaner , but he hesitated . he imagined himself walking into that store to browse books and finding himself swarmed by a pack of hunchbacked crones in black dresses and head coverings , who would then drag him over to a gold-crowned image of the virgin and force him to recite the rosary until he was born again . the glass door squeaked quietly and a little girl wearing a hot pink short set skipped down the steps , followed by a middle-aged guy in a polo shirt who could have been her father . there you go ? people younger than eighty come to this store . maybe it has something for me . realizing he had been holding his breath , stalin drew in a gust of air and then nearly shrieked , feeling the cold drip of melting ice cream soak his fingers . he hurriedly licked all the way around the cold cone , then each finger one by one , glancing around guiltily to see if anyone was watching . finally , stalin pulled himself together and clumped up the stairs to the bookstore , some part of him praying to god that there would be some books here worth reading that could explain to him more about what it was that would n't let him just put jesus at the back of his mind . a bell over the door jangled softly as stalin entered , and he was relieved when the man behind the counter only waved politely at him , then turned away to let the customer browse the shop in peace . it was a small bookstore , with white wooden shelves filled with different titles lining the walls and a small section for music and t-shirts . ignoring everything but the books , stalin began at one end , noticing right away that the volumes seemed to be rather thin . remembering to keep up on licking his ice cream so it would n't flood the bookstore 's red carpet , stalin cocked his head sideways to better scan the titles , getting more disgruntled as he went along . in one section , he found books with titles such as `` a new you in forty days !\""
      ]
     },
     "execution_count": 9,
     "metadata": {},
     "output_type": "execute_result"
    }
   ],
   "source": [
    "all_data[1]"
   ]
  },
  {
   "cell_type": "code",
   "execution_count": 10,
   "metadata": {},
   "outputs": [],
   "source": [
    "from transformers import GPT2Tokenizer"
   ]
  },
  {
   "cell_type": "code",
   "execution_count": 12,
   "metadata": {},
   "outputs": [
    {
     "name": "stderr",
     "output_type": "stream",
     "text": [
      "Token indices sequence length is longer than the specified maximum sequence length for this model (1231 > 1024). Running this sequence through the model will result in indexing errors\n"
     ]
    }
   ],
   "source": [
    "tokenizer = GPT2Tokenizer.from_pretrained('gpt2')\n",
    "x = tokenizer.encode(all_data[1], return_tensors=\"pt\")"
   ]
  },
  {
   "cell_type": "code",
   "execution_count": 14,
   "metadata": {},
   "outputs": [
    {
     "name": "stdout",
     "output_type": "stream",
     "text": [
      "232\n"
     ]
    }
   ],
   "source": [
    "short = 0\n",
    "for d in all_data:\n",
    "    x = tokenizer.encode(d, return_tensors=\"pt\")\n",
    "    if x.shape[1] < 512:\n",
    "        short += 1\n",
    "print(short)"
   ]
  },
  {
   "cell_type": "code",
   "execution_count": 15,
   "metadata": {},
   "outputs": [
    {
     "data": {
      "text/plain": [
       "4000"
      ]
     },
     "execution_count": 15,
     "metadata": {},
     "output_type": "execute_result"
    }
   ],
   "source": [
    "len(all_data)"
   ]
  },
  {
   "cell_type": "code",
   "execution_count": 16,
   "metadata": {},
   "outputs": [],
   "source": [
    "import glob"
   ]
  },
  {
   "cell_type": "code",
   "execution_count": 19,
   "metadata": {},
   "outputs": [],
   "source": [
    "litbank_file = glob.glob(\"../data/litbank/litbank/original/*\")\n"
   ]
  },
  {
   "cell_type": "code",
   "execution_count": 70,
   "metadata": {},
   "outputs": [],
   "source": [
    "data = []\n",
    "for fname in litbank_file:\n",
    "    book = []\n",
    "    section = []\n",
    "    with open(fname, \"r\") as f:\n",
    "        spaces = 0\n",
    "        for line in f:\n",
    "            if line.isspace():\n",
    "                spaces += 1\n",
    "            else:\n",
    "                if spaces < 2:\n",
    "                    section.append(line.strip())\n",
    "                else:\n",
    "                    book.append(section)\n",
    "                    section = []\n",
    "                    section.append(line.strip())\n",
    "                spaces = 0\n",
    "        if section:\n",
    "            book.append(section)\n",
    "    data.append(book)\n",
    "    \n",
    "all_data = []\n",
    "for book in data:\n",
    "    new_book = [\" \".join(sec) for sec in book if len(sec) > 50]\n",
    "    all_data.append(new_book)\n",
    "    \n",
    "all_data = [sec for book in all_data for sec in book]"
   ]
  },
  {
   "cell_type": "code",
   "execution_count": 67,
   "metadata": {},
   "outputs": [
    {
     "data": {
      "text/plain": [
       "8741"
      ]
     },
     "execution_count": 67,
     "metadata": {},
     "output_type": "execute_result"
    }
   ],
   "source": [
    "len(all_data[5][24])"
   ]
  },
  {
   "cell_type": "code",
   "execution_count": 69,
   "metadata": {},
   "outputs": [
    {
     "data": {
      "text/plain": [
       "3922"
      ]
     },
     "execution_count": 69,
     "metadata": {},
     "output_type": "execute_result"
    }
   ],
   "source": [
    "total = 0\n",
    "for book in all_data:\n",
    "    total += len(book)\n",
    "total"
   ]
  },
  {
   "cell_type": "code",
   "execution_count": 71,
   "metadata": {},
   "outputs": [
    {
     "data": {
      "text/plain": [
       "3922"
      ]
     },
     "execution_count": 71,
     "metadata": {},
     "output_type": "execute_result"
    }
   ],
   "source": [
    "len(all_data)"
   ]
  },
  {
   "cell_type": "code",
   "execution_count": null,
   "metadata": {},
   "outputs": [],
   "source": []
  },
  {
   "cell_type": "code",
   "execution_count": null,
   "metadata": {},
   "outputs": [],
   "source": []
  },
  {
   "cell_type": "code",
   "execution_count": null,
   "metadata": {},
   "outputs": [],
   "source": []
  },
  {
   "cell_type": "code",
   "execution_count": null,
   "metadata": {},
   "outputs": [],
   "source": []
  },
  {
   "cell_type": "code",
   "execution_count": null,
   "metadata": {},
   "outputs": [],
   "source": []
  },
  {
   "cell_type": "code",
   "execution_count": 72,
   "metadata": {},
   "outputs": [],
   "source": [
    "path = \"/Users/daniter/Downloads/sample-S2-records\"\n",
    "lines = []\n",
    "with open(path, \"r\") as f:\n",
    "    for line in f:\n",
    "        lines.append(line)"
   ]
  },
  {
   "cell_type": "code",
   "execution_count": 73,
   "metadata": {},
   "outputs": [],
   "source": [
    "import json"
   ]
  },
  {
   "cell_type": "code",
   "execution_count": 77,
   "metadata": {},
   "outputs": [],
   "source": [
    "lines = [json.loads(l) for l in lines]"
   ]
  },
  {
   "cell_type": "code",
   "execution_count": 81,
   "metadata": {},
   "outputs": [
    {
     "name": "stdout",
     "output_type": "stream",
     "text": [
      "torch.Size([1, 887])\n",
      "torch.Size([1, 203])\n",
      "torch.Size([1, 197])\n",
      "torch.Size([1, 317])\n",
      "torch.Size([1, 330])\n",
      "torch.Size([1, 102])\n",
      "torch.Size([1, 582])\n",
      "torch.Size([1, 118])\n",
      "torch.Size([1, 110])\n",
      "torch.Size([1, 275])\n",
      "torch.Size([1, 182])\n",
      "torch.Size([1, 334])\n",
      "torch.Size([1, 318])\n",
      "torch.Size([1, 158])\n",
      "torch.Size([1, 78])\n",
      "torch.Size([1, 249])\n",
      "torch.Size([1, 490])\n",
      "torch.Size([1, 253])\n",
      "torch.Size([1, 146])\n",
      "torch.Size([1, 113])\n",
      "torch.Size([1, 321])\n",
      "torch.Size([1, 838])\n",
      "torch.Size([1, 120])\n",
      "torch.Size([1, 83])\n",
      "torch.Size([1, 217])\n",
      "torch.Size([1, 249])\n",
      "torch.Size([1, 151])\n",
      "torch.Size([1, 65])\n",
      "torch.Size([1, 79])\n",
      "torch.Size([1, 133])\n",
      "torch.Size([1, 308])\n",
      "torch.Size([1, 211])\n",
      "torch.Size([1, 361])\n",
      "torch.Size([1, 213])\n",
      "torch.Size([1, 246])\n",
      "torch.Size([1, 228])\n",
      "torch.Size([1, 227])\n",
      "torch.Size([1, 265])\n",
      "torch.Size([1, 258])\n",
      "torch.Size([1, 212])\n",
      "torch.Size([1, 133])\n",
      "torch.Size([1, 108])\n",
      "torch.Size([1, 106])\n",
      "torch.Size([1, 419])\n",
      "torch.Size([1, 447])\n",
      "torch.Size([1, 266])\n",
      "torch.Size([1, 206])\n",
      "torch.Size([1, 185])\n",
      "torch.Size([1, 318])\n",
      "torch.Size([1, 203])\n",
      "torch.Size([1, 173])\n",
      "torch.Size([1, 114])\n",
      "torch.Size([1, 688])\n",
      "torch.Size([1, 146])\n",
      "torch.Size([1, 168])\n",
      "torch.Size([1, 181])\n",
      "torch.Size([1, 168])\n",
      "torch.Size([1, 208])\n",
      "torch.Size([1, 187])\n",
      "torch.Size([1, 348])\n",
      "torch.Size([1, 445])\n",
      "torch.Size([1, 143])\n",
      "torch.Size([1, 35])\n"
     ]
    }
   ],
   "source": [
    "for art in lines:\n",
    "    abstract = art['paperAbstract']\n",
    "    if not abstract or abstract.isspace():\n",
    "        continue\n",
    "    x = tokenizer.encode(abstract, return_tensors=\"pt\")\n",
    "    print(x.shape)"
   ]
  },
  {
   "cell_type": "code",
   "execution_count": 104,
   "metadata": {},
   "outputs": [],
   "source": [
    "filenames = glob.glob(\"/Users/daniter/Downloads/json/*.json\")\n",
    "all_intros = []\n",
    "for path in filenames:\n",
    "    with open(path, \"r\") as f:\n",
    "        doc = json.load(f)\n",
    "        intro = []\n",
    "        for ent in doc['body_text']:\n",
    "            if \"Introduction\" == ent['title']:\n",
    "                intro.append((ent['startOffset'], ent['sentence']))\n",
    "        intro = sorted(intro)\n",
    "        intro = [b for a,b in intro]\n",
    "        intro = \" \".join(intro)\n",
    "        all_intros.append(intro)"
   ]
  },
  {
   "cell_type": "code",
   "execution_count": 103,
   "metadata": {},
   "outputs": [
    {
     "data": {
      "text/plain": [
       "\"Organizations often adopt safety management system or behavior-based system approaches to managing their safety functions in an attempt to achieve performance excellence. Organizations typically prefer adopting one system versus the other probably due to both pragmatic (e.g., resource and implementation constraints) and philosophical reasons. Commonly adopted safety management system approaches are described in consensus standards such as OHSAS 18001:2007 (British Standards Institute, 2007), ANSI/AIHA Z10-2012 (American National Standards Institute, 2012), and the OSHA's Voluntary Protection Program (VPP) (Occupational Safety and Health Administration, 2011). These consensus standards do not strongly emphasize the “human element” when developing and implementing the required processes and procedures described in these standards. Conversely, traditional behavior-based systems adopt observational methodologies where workers use a list of defined critical behaviors, observe workers for these behaviors, and provide feedback. However, more advanced behavior-based systems (e.g., antecedent-behavior-consequence systems; DO-IT systems) uncover and correct organizational barriers (i.e., management system deficiencies) that inhibit safe acts (and therefore accidents) from occurring. The reality is that aspects of both of these systems are probably needed to effectively manage safety performance in organizations. An argument can be made that the two types of systems described above are complementary and that their respective strengths can be merged into a more balanced and comprehensive system to managing safety and in preventing accidents from occurring (DeJoy, 2005). Both aspects are prominently featured in the human performance approach to safety management which attempts to understand and eliminate the causes of human error (and thus accidents or events) in the workplace from both safety management and behavioral systems perspectives (see Fig. 1). The human performance approach to safety management in organizations can be viewed as potentially spanning the rational, natural and open system organizational approaches as described by Scott (1981). In human performance theory, mission, goals, policies, processes and programs (i.e., safety management system components) have latent organizational weaknesses that could give rise to flawed defenses and error precursors within organizations (Reason, 1990, 1997). These error precursors are unfavorable conditions that increase the probability of human errors while performing specific actions. Common error traps include time pressure, mental pressure, fatigue, being new to the task, distractions, and overconfidence (U.S. Department of Energy, 2009). In the human performance system, human error is merely a symptom of some trouble deeper in the system (Dekker, 2006). It is probably inevitable that latent organizational weaknesses (and resulting flawed defenses and error precursors) will arise within a system of safety management practices for a number of practical reasons. First, safety management systems cannot plan for, control, and defend against all potential error-prone situations because in doing so work would need to be planned and controlled to such a high and constraining degree that it would be time-consuming, unworkable and uneconomical. Second, safety management systems tend to be institutionalized through policies, plans, procedures, and processes and therefore are not easily and readily adaptable to the natural and inevitable variations occurring in work being conducted and the hazards being encountered. Lastly, humans, who are fallible, design and implement safety management systems. Therefore, the lifeblood of a safety management system is shared with the managers and workers who have birthed the system and have given it daily life (and sometimes death). From a behavioral perspective, workers bring their beliefs, values, and vision to the design and implementation of safety management systems and ultimately in performing work. In particular, the individual worker interfaces with the safety management system by participating or engaging (or by not participating or engaging) in the system. Motivation to participate can be affected by workers’ beliefs and values, which can impact the workers’ degree, quality and consistency of participation. When accidents occur, the behaviors of workers, who are at the “sharp edge” of accidents and who interface with both the hazards and the safety management system itself, are closely scrutinized during accident investigations. This inquiry focus most likely leads to the often quoted and misapplied statistic that the vast majority of all accidents are caused by unsafe acts (i.e., human behavior) (Seo, 2005). In the field of human performance improvement, there are a number of human performance tools that can be used to systematically reduce the chance of human error. These tools can be viewed as vehicles for providing mental and social skills that complement a worker's technical skills to promote safe and efficient task performance, such as carving out time to think about work, in particular the critical steps of that work (Muschara, 2012). Some human performance improvement tools commonly used include conducting pre- and post-task briefings, performing peer-checking, and using self-checking approaches such as “take-a-minute,” STAR (Stop-Think-Act-Review), and “stop and seek” for workers who do not believe they have the appropriate knowledge to make decisions (Wachter and Yorio, 2013). These human performance tools are emphatically “worker-centric” in that they engage workers to have more situational awareness concerning their safety, error traps present, tasks to be performed, and conditions/surroundings. Worker engagement in safety may systematically act to reduce the probability of human errors from occurring by making workers more involved with and aware of their tasks/surroundings and associated risks, as well as error traps that could be present. Thus, increased levels of worker engagement in safety activities could possibly be related to increased safety performance as measured by standard safety outcomes (e.g., accident rates). The overall goals of the two studies described in this article are two-fold: to theoretically and empirically develop the ideas around a system of safety management practices and to test its relationship with safety performance statistics such as accident rates (i.e., supporting a safety management system approach to managing safety performance) and to theoretically and empirically explore how these practices work (largely using a high performance work practice perspective) to achieve positive safety results through worker engagement (i.e., supporting an approach mediated by worker perceptions). If these goals are achieved, then the human performance approach to preventing accidents (i.e., a system comprised of both safety management and behavior-based system components presented in Fig. 1 and a system which is also represented by the person being the center of the safety management system presented in Fig. 2) is supported. In these studies we first looked at discerning a list of meaningful objective practices (based on stakeholder input) that could comprise a safety management system in line with viewing organizations as rational systems that pursue relatively specific goals and exhibit a relatively high formalized social structure. This perspective is in synch with the most commonly used safety management system consensus standards in that these practices are described largely independently of individual/variable actors (i.e., workers) who implement these practices/processes in organizations. In short, we devised a list of integrated practices/processes (some of which are actual components within these consensus standards) that if present could theoretically and empirically be linked with safety performance without major consideration of articulating the behavioral components within these constructs. Thus, we initially reified to some extent the characteristics of our safety management system component's constructs from employee perceptual definitions – largely to assess if the management system practices can be viewed from mainly a structural and objective perspective (such as that exhibited in most safety management consensus standards) and to determine if these objective high performance work practices would impact accident statistics. But, it should be noted that some of our practices are clearly designed from an interaction perspective which necessarily involves workers (i.e., employee involvement, cooperation facilitation, and communication and information perspective); however, these are related to processes being in place to achieve interaction goals, rather than promoting certain workers’ perceptions. Then, informed by social psychology research, we investigated the more subjective worker perceptual influences present in organizations and linked the extent of these perceptions with the degree of safety management system practices being implemented in order to discern their combined effects on safety performance. In this way, using a stepwise approach (first attempting to show that high performance work practices impact both worker perceptions and safety performance, and second attempting to show that worker perceptions can also impact high performance work practices and safety performance) we are responding to the criticism of rational system theory: that it largely ignores the impact of environment and behavior on the organization and organizational performance. This dualistic approach is similar to that presented by Fernández-Muñiz et al. (2007) in their model linking manager commitment to safety performance through the two independent constructs of employee involvement and the safety management system.\""
      ]
     },
     "execution_count": 103,
     "metadata": {},
     "output_type": "execute_result"
    }
   ],
   "source": [
    "intro"
   ]
  },
  {
   "cell_type": "code",
   "execution_count": 105,
   "metadata": {},
   "outputs": [
    {
     "data": {
      "text/plain": [
       "40001"
      ]
     },
     "execution_count": 105,
     "metadata": {},
     "output_type": "execute_result"
    }
   ],
   "source": [
    "len(all_intros)"
   ]
  },
  {
   "cell_type": "code",
   "execution_count": 106,
   "metadata": {},
   "outputs": [
    {
     "data": {
      "text/plain": [
       "\"Pit latrines are the predominant form of sanitation in low-income countries, particularly in Africa, because of their low-cost (Cairncross et al., 2010; Habitat, 2008; Jain, 2011). The main inconvenience with this type of sanitation facility is that the pit eventually fills up and thus the latrine cannot be used any further (Strauss et al., 1999; Thye et al., 2011). This causes a major problem in densely populated areas, as there is a lack of space for the relocation of the toilets, whilst the accumulation of high amounts of faecal sludge can lead to the spread of waterborne diseases and pollution of the environment. Hence, the safe emptying of the full pit is a necessity for sustainable faecal sludge management. The collected sludge has to be treated for pathogen inactivation and resource recovery, such as water for reuse, compost, fertilizer, biofuel, chemicals and construction materials (Dodane and Ronteltap, 2014). Safely organized pit emptying, transportation and processing of faecal sludge are crucial for the sustainable management of pit latrines. Technological solutions have been developed in order to overcome the challenges related to the handling of faecal sludge, which is a biohazardous material with potentially high pathogen content. Pit emptying devices have been designed in order to avoid traditional manual emptying practices where the worker is exposed to a high biological contamination risk (Mikhael et al., 2014; O'Riordan, 2009). These pit emptying technologies include pumping systems (among diaphragm pumps, trash pumps, Gobbler), pit screw augers and vacuum systems (Mikhael et al., 2014; O'Riordan, 2009). Efforts have being made in order to provide improved technical solutions for pit emptying within the Omni-Ingestor (OI) project (Strande, 2014), funded by the Bill & Melinda Gates Foundation (BMGF). The initiative Sanitation Fund Research for Africa, funded by the BMGF and the Water Research Commission from South Africa, places particular emphasis on the development of innovative techniques for pit desludging in Sub-Saharan African countries (Pillay and Bhagwan, 2014). The rheology of faecal sludge is an important parameter for the design and operation of pit emptying devices, as well as certain treatment process technologies, such as the viscous heater that pasteurizes the sludge after heating the material by viscous friction (Belcher et al., 2015). Currently, there is no enough information in literature on the rheological characteristics of faecal sludge. Only a few papers from the same authors deal with the rheology of human faecal material (Woolley et al., 2014b, 2014a). These papers focused on the study and modelling of the change of viscosity of fresh faeces with shear rate as a function of the moisture content and temperature. The results highlighted the shear-thinning and thixotropic behaviour of the faecal material, which was also observed for other types of slurry material such as sewage sludge and cattle manure (Amiri et al., 2012; El-Mashad et al., 2005; Ghafoori et al., 2007; Seyssiecq et al., 2003). In the study of Woolley et al. (2014a, 2014b), fresh faeces also exhibited a decrease of viscosity by increasing the temperature or the faeces moisture content. Like this, the viscosity decreased from 5 to 1 Pa s by increasing the moisture content from 67.5 to 85% at a shear rate of 100 s−1. Increasing the temperature of the sludge from 10 to 50 °C reduced the viscosity from 450 to 275 Pa.s, at a shear rate of 1 s−1. Nevertheless, the characteristics of fresh faeces, manure and sewage sludge differ to those of faecal sludge from pit latrines, in properties such as the moisture content, aging and degradability degree, which should lead to a different rheological behaviour. Zuma et al. (2015) and Bakare et al. (2012) found that the physico-chemical properties of faecal sludge can vary as a function of the latrine and position within the pit. Moreover, as pointed out by Niwagaba et al. (2014), the properties of faecal sludge can differ largely from one sanitation facility to another, due to diverse factors such as the local diet, disposal of trash and grey water, water infiltration and drainage of leachate. Biodegradation occurs within the pit and the degree of biodegradation depends on the age of the faecal sludge (Nwaneri, 2009; Nwaneri et al., 2008). In fact, the most aged faecal sludge situated at the bottom of the pit tends to be more biodegraded than the fresh sludge layers above it. Environmental conditions, such as temperature or water from rainfall that can be infiltrated into the pit, can affect the properties of the sludge. This variability could then have an influence on the rheological characteristics of the sludge. The present work was performed under the context of the “Reinvent The Toilet Challenge” program, initiated by the BMGF in order to improve the access to sanitation of people living in poverty (BMGF, 2012). This study aims to fill in the gap of knowledge on the rheological characteristics of faecal sludge, and to provide useful data to researchers and sanitation practitioners for the design of pit emptying equipment. The rheology of faecal sludge is an important of ventilated improved pit (VIP) latrines from the eThekwini municipality were characterized. Additional experiments were conducted by increasing the moisture content of faecal sludge, in order to simulate the material obtained from common pit emptying practices where water is added to the sludge in order to increase its ability to be pumped. From the experimental data, calculations were performed in order to better understand the influence of the sludge moisture content during pit emptying. The effect of temperature on the rheological characteristics was not included in this work, as the temperature in the laboratory during the experiments, namely 20 °C, was similar to that in the eThekwini municipality, varying in average between 18 and 25 °C along the year. Note that the term “feacal sludge” employed in this study denotes the waste from VIP latrines whereas “fresh faeces” refers to the waste dealt in the investigation of Woolley et al. (2014a, 2014b).\""
      ]
     },
     "execution_count": 106,
     "metadata": {},
     "output_type": "execute_result"
    }
   ],
   "source": [
    "all_intros[100]"
   ]
  },
  {
   "cell_type": "code",
   "execution_count": null,
   "metadata": {},
   "outputs": [],
   "source": []
  }
 ],
 "metadata": {
  "kernelspec": {
   "display_name": "Python [conda env:iterdiscoher]",
   "language": "python",
   "name": "conda-env-iterdiscoher-py"
  },
  "language_info": {
   "codemirror_mode": {
    "name": "ipython",
    "version": 3
   },
   "file_extension": ".py",
   "mimetype": "text/x-python",
   "name": "python",
   "nbconvert_exporter": "python",
   "pygments_lexer": "ipython3",
   "version": "3.7.9"
  }
 },
 "nbformat": 4,
 "nbformat_minor": 4
}
