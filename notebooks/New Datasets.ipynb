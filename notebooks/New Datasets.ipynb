{
 "cells": [
  {
   "cell_type": "code",
   "execution_count": 1,
   "metadata": {},
   "outputs": [],
   "source": [
    "# Books Corpus"
   ]
  },
  {
   "cell_type": "code",
   "execution_count": 3,
   "metadata": {},
   "outputs": [],
   "source": [
    "path = \"/Users/daniter/Documents/jurafsky/commonsense/dataset/bookcorpus/books_large_p1.txt\""
   ]
  },
  {
   "cell_type": "code",
   "execution_count": 4,
   "metadata": {},
   "outputs": [],
   "source": [
    "data = []\n",
    "collect = True\n",
    "with open(path, \"r\") as f:\n",
    "    one_book = []\n",
    "    for i, line in enumerate(f):\n",
    "        if collect:\n",
    "            one_book.append(line)\n",
    "            if len(one_book) == 50:\n",
    "                data.append(one_book)\n",
    "                one_book = []\n",
    "                collect = False\n",
    "        if i % 10000 == 0:\n",
    "            collect = True\n",
    "            "
   ]
  },
  {
   "cell_type": "code",
   "execution_count": 8,
   "metadata": {},
   "outputs": [],
   "source": [
    "all_data = []\n",
    "for book in data:\n",
    "    lines = \" \".join([l.strip() for l in book])\n",
    "    all_data.append(lines)\n",
    "        "
   ]
  },
  {
   "cell_type": "code",
   "execution_count": 9,
   "metadata": {},
   "outputs": [
    {
     "data": {
      "text/plain": [
       "\"but che , i 'm thinking about it . '' another message came . `` i was very impressed with you , willing to die for what you believe . '' alejo hoped this was a good sign . `` but then again , so was gabriel , '' stalin added . `` i 'm still looking , che . god have mercy ? he knows i 'm looking , but the women here in spain are so beautiful ? '' alejo typed , `` do n't you want to talk on the phone ? my fingers are cramping . '' `` ca n't . time to sing . the priest is giving me the eye . talk to you later , alejo . '' alejo slid his phone back in his pocket with a smile and leaned his head back towards the sunshine . 34 lilac a country had never seemed so empty and hollow as spain did at that moment to stalin gomez . while mom and dad had their hearts set on a little house in japan , stalin had known immediately upon arriving to get them settled in that japan would never be for him . `` creepy , very creepy '' were the only words that described for him the temples with dull golden statues smiling pacifically at him as he passed . the mlange of slippery sea creatures tacked to wooden planks with wicked looking nails would have been eerie enough at some sort of taxidermy for water creatures display . the fact that it was in a part of the market meant for grocery shopping had given him the heebie-jeebies . with all the money he had pilfered from his bank account , stalin bought his parents a three bedroom house in a cozy neighborhood full of foreigners , a shiny silver lexus , and hired two servants to clean , cook , and fill the house with furniture . then he had gotten back on the plane to a more pleasant destination , planning on sending his parents tickets to come visit . they were n't that old yet , after all . spain seemed like a perfect pick to settle down and hide . it was warm , they spoke spanish , and rumors were that bathing was topless . at first , the city of cordoba , where stalin had rented a nice flat , had seemed very cosmopolitan and smacked of europe . all the excitement soon died away as he found himself lumbering down the gray sidewalks day after day , with no job , no steady girlfriend , and no friends to speak of . the conversation he had with alejo that day in the coffee shop about jesus kept ringing in stalin 's ears , ever since he had realized that for alejo , the whole jesus thing was more than just an intellectual debate about which religion was right . the exact moment stalin had realized this had been when alejo did n't flinch with a gun to his head and had said he would n't change his mind about jesus being god . that had been a very , very heavy day . today , stalin 's heart felt heavy as well , and as he left the massive cathedral where he had been at mass he bought a strawberry ice cream cone from a vendor on the sidewalk . then he turned down one of the ancient , narrow side streets to meander his way in the general direction of home . there really was no hurry ; in spain , no one went to bed before midnight , and at the moment it was just after seven . stalin took a large lick of the sickly-sweet ice cream , the tried to clean a sticky drop of pink off his lips with the paper-thin napkin wrapped around his cone . all of a sudden , he stopped , eyes falling upon a little sign with a picture of a white dove that said libreria la paz . below , in smaller letters , it said , `` libreria evangelica '' . a christian bookstore . and a non-catholic one . something about the store drew stalin towards its rugged stone steps like a piece of lint up the funnel of a vacuum cleaner , but he hesitated . he imagined himself walking into that store to browse books and finding himself swarmed by a pack of hunchbacked crones in black dresses and head coverings , who would then drag him over to a gold-crowned image of the virgin and force him to recite the rosary until he was born again . the glass door squeaked quietly and a little girl wearing a hot pink short set skipped down the steps , followed by a middle-aged guy in a polo shirt who could have been her father . there you go ? people younger than eighty come to this store . maybe it has something for me . realizing he had been holding his breath , stalin drew in a gust of air and then nearly shrieked , feeling the cold drip of melting ice cream soak his fingers . he hurriedly licked all the way around the cold cone , then each finger one by one , glancing around guiltily to see if anyone was watching . finally , stalin pulled himself together and clumped up the stairs to the bookstore , some part of him praying to god that there would be some books here worth reading that could explain to him more about what it was that would n't let him just put jesus at the back of his mind . a bell over the door jangled softly as stalin entered , and he was relieved when the man behind the counter only waved politely at him , then turned away to let the customer browse the shop in peace . it was a small bookstore , with white wooden shelves filled with different titles lining the walls and a small section for music and t-shirts . ignoring everything but the books , stalin began at one end , noticing right away that the volumes seemed to be rather thin . remembering to keep up on licking his ice cream so it would n't flood the bookstore 's red carpet , stalin cocked his head sideways to better scan the titles , getting more disgruntled as he went along . in one section , he found books with titles such as `` a new you in forty days !\""
      ]
     },
     "execution_count": 9,
     "metadata": {},
     "output_type": "execute_result"
    }
   ],
   "source": [
    "all_data[1]"
   ]
  },
  {
   "cell_type": "code",
   "execution_count": 10,
   "metadata": {},
   "outputs": [],
   "source": [
    "from transformers import GPT2Tokenizer"
   ]
  },
  {
   "cell_type": "code",
   "execution_count": 12,
   "metadata": {},
   "outputs": [
    {
     "name": "stderr",
     "output_type": "stream",
     "text": [
      "Token indices sequence length is longer than the specified maximum sequence length for this model (1231 > 1024). Running this sequence through the model will result in indexing errors\n"
     ]
    }
   ],
   "source": [
    "tokenizer = GPT2Tokenizer.from_pretrained('gpt2')\n",
    "x = tokenizer.encode(all_data[1], return_tensors=\"pt\")"
   ]
  },
  {
   "cell_type": "code",
   "execution_count": 14,
   "metadata": {},
   "outputs": [
    {
     "name": "stdout",
     "output_type": "stream",
     "text": [
      "232\n"
     ]
    }
   ],
   "source": [
    "short = 0\n",
    "for d in all_data:\n",
    "    x = tokenizer.encode(d, return_tensors=\"pt\")\n",
    "    if x.shape[1] < 512:\n",
    "        short += 1\n",
    "print(short)"
   ]
  },
  {
   "cell_type": "code",
   "execution_count": 15,
   "metadata": {},
   "outputs": [
    {
     "data": {
      "text/plain": [
       "4000"
      ]
     },
     "execution_count": 15,
     "metadata": {},
     "output_type": "execute_result"
    }
   ],
   "source": [
    "len(all_data)"
   ]
  },
  {
   "cell_type": "code",
   "execution_count": 16,
   "metadata": {},
   "outputs": [],
   "source": [
    "import glob"
   ]
  },
  {
   "cell_type": "code",
   "execution_count": 19,
   "metadata": {},
   "outputs": [],
   "source": [
    "litbank_file = glob.glob(\"../data/litbank/litbank/original/*\")\n"
   ]
  },
  {
   "cell_type": "code",
   "execution_count": 70,
   "metadata": {},
   "outputs": [],
   "source": [
    "data = []\n",
    "for fname in litbank_file:\n",
    "    book = []\n",
    "    section = []\n",
    "    with open(fname, \"r\") as f:\n",
    "        spaces = 0\n",
    "        for line in f:\n",
    "            if line.isspace():\n",
    "                spaces += 1\n",
    "            else:\n",
    "                if spaces < 2:\n",
    "                    section.append(line.strip())\n",
    "                else:\n",
    "                    book.append(section)\n",
    "                    section = []\n",
    "                    section.append(line.strip())\n",
    "                spaces = 0\n",
    "        if section:\n",
    "            book.append(section)\n",
    "    data.append(book)\n",
    "    \n",
    "all_data = []\n",
    "for book in data:\n",
    "    new_book = [\" \".join(sec) for sec in book if len(sec) > 50]\n",
    "    all_data.append(new_book)\n",
    "    \n",
    "all_data = [sec for book in all_data for sec in book]"
   ]
  },
  {
   "cell_type": "code",
   "execution_count": 67,
   "metadata": {},
   "outputs": [
    {
     "data": {
      "text/plain": [
       "8741"
      ]
     },
     "execution_count": 67,
     "metadata": {},
     "output_type": "execute_result"
    }
   ],
   "source": [
    "len(all_data[5][24])"
   ]
  },
  {
   "cell_type": "code",
   "execution_count": 69,
   "metadata": {},
   "outputs": [
    {
     "data": {
      "text/plain": [
       "3922"
      ]
     },
     "execution_count": 69,
     "metadata": {},
     "output_type": "execute_result"
    }
   ],
   "source": [
    "total = 0\n",
    "for book in all_data:\n",
    "    total += len(book)\n",
    "total"
   ]
  },
  {
   "cell_type": "code",
   "execution_count": 71,
   "metadata": {},
   "outputs": [
    {
     "data": {
      "text/plain": [
       "3922"
      ]
     },
     "execution_count": 71,
     "metadata": {},
     "output_type": "execute_result"
    }
   ],
   "source": [
    "len(all_data)"
   ]
  },
  {
   "cell_type": "code",
   "execution_count": null,
   "metadata": {},
   "outputs": [],
   "source": []
  }
 ],
 "metadata": {
  "kernelspec": {
   "display_name": "Python [conda env:iterdiscoher]",
   "language": "python",
   "name": "conda-env-iterdiscoher-py"
  },
  "language_info": {
   "codemirror_mode": {
    "name": "ipython",
    "version": 3
   },
   "file_extension": ".py",
   "mimetype": "text/x-python",
   "name": "python",
   "nbconvert_exporter": "python",
   "pygments_lexer": "ipython3",
   "version": "3.7.9"
  }
 },
 "nbformat": 4,
 "nbformat_minor": 4
}
