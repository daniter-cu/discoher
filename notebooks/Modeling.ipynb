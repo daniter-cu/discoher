{
 "cells": [
  {
   "cell_type": "code",
   "execution_count": 1,
   "metadata": {},
   "outputs": [],
   "source": [
    "import sys\n",
    "sys.path.append(\"../src/\")"
   ]
  },
  {
   "cell_type": "code",
   "execution_count": 2,
   "metadata": {},
   "outputs": [],
   "source": [
    "%load_ext autoreload\n",
    "%autoreload 2\n",
    "import data_utils as du"
   ]
  },
  {
   "cell_type": "code",
   "execution_count": 3,
   "metadata": {},
   "outputs": [],
   "source": [
    "import matplotlib\n",
    "import numpy as np\n",
    "import matplotlib.pyplot as plt\n",
    "%matplotlib inline  \n",
    "import torch.optim as optim\n"
   ]
  },
  {
   "cell_type": "code",
   "execution_count": 4,
   "metadata": {},
   "outputs": [
    {
     "name": "stderr",
     "output_type": "stream",
     "text": [
      "INFO:absl:No config specified, defaulting to first: wiki40b/en\n",
      "INFO:absl:Load dataset info from gs://tfds-data/datasets/wiki40b/en/1.3.0\n",
      "INFO:absl:Field info.config_name from disk and from code do not match. Keeping the one from code.\n",
      "INFO:absl:Field info.config_description from disk and from code do not match. Keeping the one from code.\n",
      "INFO:absl:Field info.splits from disk and from code do not match. Keeping the one from code.\n",
      "INFO:absl:Field info.module_name from disk and from code do not match. Keeping the one from code.\n",
      "INFO:absl:Reusing dataset wiki40b (gs://tfds-data/datasets/wiki40b/en/1.3.0)\n",
      "INFO:absl:Constructing tf.data.Dataset for split train[:100], from gs://tfds-data/datasets/wiki40b/en/1.3.0\n"
     ]
    }
   ],
   "source": [
    "data = du.get_wiki_data(100)"
   ]
  },
  {
   "cell_type": "code",
   "execution_count": 247,
   "metadata": {},
   "outputs": [],
   "source": [
    "sent_reprs = du.encode_data(data[:5])"
   ]
  },
  {
   "cell_type": "code",
   "execution_count": 248,
   "metadata": {},
   "outputs": [
    {
     "data": {
      "text/plain": [
       "71"
      ]
     },
     "execution_count": 248,
     "metadata": {},
     "output_type": "execute_result"
    }
   ],
   "source": [
    "len(sent_reprs)"
   ]
  },
  {
   "cell_type": "code",
   "execution_count": 249,
   "metadata": {},
   "outputs": [],
   "source": [
    "from training import ModelRunner"
   ]
  },
  {
   "cell_type": "code",
   "execution_count": 497,
   "metadata": {},
   "outputs": [],
   "source": [
    "args = \"--epochs 2 --emsize 768 --nhid 1536 --bptt 10 --batch_size 4 --dropout 0 --nlayers 2\"\n",
    "runner = ModelRunner(args.split())"
   ]
  },
  {
   "cell_type": "code",
   "execution_count": 498,
   "metadata": {},
   "outputs": [
    {
     "data": {
      "text/plain": [
       "TransformerModel(\n",
       "  (pos_encoder): PositionalEncoding(\n",
       "    (dropout): Dropout(p=0.0, inplace=False)\n",
       "  )\n",
       "  (transformer_encoder): TransformerEncoder(\n",
       "    (layers): ModuleList(\n",
       "      (0): TransformerEncoderLayer(\n",
       "        (self_attn): MultiheadAttention(\n",
       "          (out_proj): _LinearWithBias(in_features=768, out_features=768, bias=True)\n",
       "        )\n",
       "        (linear1): Linear(in_features=768, out_features=1536, bias=True)\n",
       "        (dropout): Dropout(p=0.0, inplace=False)\n",
       "        (linear2): Linear(in_features=1536, out_features=768, bias=True)\n",
       "        (norm1): LayerNorm((768,), eps=1e-05, elementwise_affine=True)\n",
       "        (norm2): LayerNorm((768,), eps=1e-05, elementwise_affine=True)\n",
       "        (dropout1): Dropout(p=0.0, inplace=False)\n",
       "        (dropout2): Dropout(p=0.0, inplace=False)\n",
       "      )\n",
       "      (1): TransformerEncoderLayer(\n",
       "        (self_attn): MultiheadAttention(\n",
       "          (out_proj): _LinearWithBias(in_features=768, out_features=768, bias=True)\n",
       "        )\n",
       "        (linear1): Linear(in_features=768, out_features=1536, bias=True)\n",
       "        (dropout): Dropout(p=0.0, inplace=False)\n",
       "        (linear2): Linear(in_features=1536, out_features=768, bias=True)\n",
       "        (norm1): LayerNorm((768,), eps=1e-05, elementwise_affine=True)\n",
       "        (norm2): LayerNorm((768,), eps=1e-05, elementwise_affine=True)\n",
       "        (dropout1): Dropout(p=0.0, inplace=False)\n",
       "        (dropout2): Dropout(p=0.0, inplace=False)\n",
       "      )\n",
       "    )\n",
       "  )\n",
       ")"
      ]
     },
     "execution_count": 498,
     "metadata": {},
     "output_type": "execute_result"
    }
   ],
   "source": [
    "runner.model.train()"
   ]
  },
  {
   "cell_type": "code",
   "execution_count": 499,
   "metadata": {},
   "outputs": [
    {
     "name": "stdout",
     "output_type": "stream",
     "text": [
      "4 10 40\n"
     ]
    }
   ],
   "source": [
    "import numpy as np\n",
    "import torch\n",
    "\n",
    "batch_size = runner.args.batch_size\n",
    "bptt = runner.args.bptt\n",
    "total = batch_size * bptt\n",
    "print(batch_size, bptt, total)\n",
    "\n",
    "def get_vars_from_sent(sent_reprs):\n",
    "    reprs = []\n",
    "    for sent_repr in sent_reprs:\n",
    "        for verb_repr in sent_repr:\n",
    "            for tag, vec in verb_repr:\n",
    "                reprs.append(vec)\n",
    "    return np.array(reprs)\n",
    "full_data = get_vars_from_sent(sent_reprs)\n",
    "input_data = full_data[0:total]\n",
    "target_data = full_data[1:total+1]\n",
    "input_data = torch.tensor(input_data)\n",
    "input_data = input_data.view(batch_size, bptt, -1).permute(1,0,2)\n",
    "target_data = torch.tensor(target_data)\n",
    "target_data = target_data.view(batch_size, bptt, -1).permute(1,0,2)"
   ]
  },
  {
   "cell_type": "code",
   "execution_count": 500,
   "metadata": {},
   "outputs": [],
   "source": [
    "for i in range(bptt-1):\n",
    "    assert torch.equal(input_data[i+1], target_data[i])"
   ]
  },
  {
   "cell_type": "code",
   "execution_count": 501,
   "metadata": {},
   "outputs": [
    {
     "data": {
      "text/plain": [
       "torch.Size([10, 4, 768])"
      ]
     },
     "execution_count": 501,
     "metadata": {},
     "output_type": "execute_result"
    }
   ],
   "source": [
    "input_data.shape"
   ]
  },
  {
   "cell_type": "code",
   "execution_count": 502,
   "metadata": {},
   "outputs": [
    {
     "data": {
      "text/plain": [
       "torch.Size([10, 4, 768])"
      ]
     },
     "execution_count": 502,
     "metadata": {},
     "output_type": "execute_result"
    }
   ],
   "source": [
    "target_data.shape"
   ]
  },
  {
   "cell_type": "code",
   "execution_count": 503,
   "metadata": {},
   "outputs": [],
   "source": [
    "    #candidates = torch.rand(16, 768)\n",
    "    #target_options = target_data.reshape(-1, 768)\n",
    "    #for i in range(4):\n",
    "    #    candidates[i*4] = target_options[i]\n",
    "#     logits = torch.stack([logits[0,:5],\n",
    "#            logits[1,4:9],\n",
    "#            logits[2,8:13],\n",
    "#            logits[3,11:16]])"
   ]
  },
  {
   "cell_type": "code",
   "execution_count": 514,
   "metadata": {},
   "outputs": [],
   "source": [
    "criterion = torch.nn.CrossEntropyLoss()\n",
    "\n",
    "# optimizer = optim.SGD(runner.model.parameters(), lr=20, momentum=0.9)\n",
    "\n",
    "losses = []\n",
    "all_acc = []\n",
    "for _ in range(100):\n",
    "    runner.model.zero_grad()\n",
    "    output = runner.model(input_data)\n",
    "    logits = torch.matmul(output.reshape(-1, 768), target_data.reshape(-1, 768).t())\n",
    "    tmp = torch.diag_embed(torch.tensor([float('-inf')]*(total - 1)), offset=-1)\n",
    "    index = torch.LongTensor([0]+ list(range(total-batch_size+1,total))+ list(range(1,total-batch_size+1)))\n",
    "    mask_self_dot = tmp[index]\n",
    "    logits = logits + mask_self_dot\n",
    "    labels = torch.tensor(list(range(total)))\n",
    "    loss = criterion(logits, labels)\n",
    "    acc = torch.sum(torch.argmax(logits, axis=1) == labels) / total\n",
    "    all_acc.append(acc)\n",
    "    # loss = runner.criterion(output, target_data)\n",
    "    loss.backward()\n",
    "    \n",
    "    torch.nn.utils.clip_grad_norm_(runner.model.parameters(), 0.25)\n",
    "    for p in runner.model.parameters():\n",
    "        p.data.add_(p.grad, alpha=-.001)\n",
    "    # optimizer.step()\n",
    "    losses.append(loss.item())"
   ]
  },
  {
   "cell_type": "code",
   "execution_count": 520,
   "metadata": {},
   "outputs": [
    {
     "data": {
      "text/plain": [
       "tensor([ 0,  1,  2,  3,  4,  5,  6,  7,  8,  9, 10, 11, 12, 13, 14, 15, 16, 17,\n",
       "        18, 19, 20, 21, 22, 23, 24, 25, 26, 27, 28, 29, 30, 31, 32, 33, 18, 35,\n",
       "        36, 37, 38, 39])"
      ]
     },
     "execution_count": 520,
     "metadata": {},
     "output_type": "execute_result"
    }
   ],
   "source": [
    "torch.argmax(logits, axis=1)"
   ]
  },
  {
   "cell_type": "code",
   "execution_count": 516,
   "metadata": {},
   "outputs": [
    {
     "data": {
      "text/plain": [
       "[<matplotlib.lines.Line2D at 0x1b17975550>]"
      ]
     },
     "execution_count": 516,
     "metadata": {},
     "output_type": "execute_result"
    },
    {
     "data": {
      "image/png": "[encoded data removed]",
      "text/plain": [
       "<Figure size 432x288 with 1 Axes>"
      ]
     },
     "metadata": {
      "needs_background": "light"
     },
     "output_type": "display_data"
    }
   ],
   "source": [
    "plt.plot(losses)"
   ]
  },
  {
   "cell_type": "code",
   "execution_count": 517,
   "metadata": {},
   "outputs": [
    {
     "data": {
      "text/plain": [
       "[<matplotlib.lines.Line2D at 0x1b17a0bcd0>]"
      ]
     },
     "execution_count": 517,
     "metadata": {},
     "output_type": "execute_result"
    },
    {
     "data": {
      "image/png": "[encoded data removed]",
      "text/plain": [
       "<Figure size 432x288 with 1 Axes>"
      ]
     },
     "metadata": {
      "needs_background": "light"
     },
     "output_type": "display_data"
    }
   ],
   "source": [
    "plt.plot(all_acc)"
   ]
  },
  {
   "cell_type": "code",
   "execution_count": 519,
   "metadata": {},
   "outputs": [
    {
     "data": {
      "text/plain": [
       "[0.035093098878860474,\n",
       " 0.035092469304800034,\n",
       " 0.03509289398789406,\n",
       " 0.03509216383099556,\n",
       " 0.03509249538183212,\n",
       " 0.03509252518415451,\n",
       " 0.03509218618273735,\n",
       " 0.035092517733573914,\n",
       " 0.035092178732156754,\n",
       " 0.03509221971035004,\n",
       " 0.03509274870157242,\n",
       " 0.03509259596467018,\n",
       " 0.03509244695305824,\n",
       " 0.03509249538183212,\n",
       " 0.03509281203150749,\n",
       " 0.03509228676557541,\n",
       " 0.035092324018478394,\n",
       " 0.0350920744240284,\n",
       " 0.03509135916829109,\n",
       " 0.0350915901362896]"
      ]
     },
     "execution_count": 519,
     "metadata": {},
     "output_type": "execute_result"
    }
   ],
   "source": [
    "losses[-20:]"
   ]
  },
  {
   "cell_type": "code",
   "execution_count": 530,
   "metadata": {},
   "outputs": [],
   "source": [
    "# Eval\n",
    "eval_sent_reprs = du.encode_data(data[:5])\n",
    "full_eval_data = get_vars_from_sent(eval_sent_reprs)\n",
    "\n",
    "def run_eval():\n",
    "    runner.model.eval()\n",
    "\n",
    "    losses = []\n",
    "    all_acc = []\n",
    "    for i in range(10):\n",
    "        runner.model.zero_grad()\n",
    "        input_data, target_data = get_batch(full_eval_data, i)\n",
    "        output = runner.model(input_data)\n",
    "        logits = torch.matmul(output.reshape(-1, 768), target_data.reshape(-1, 768).t())\n",
    "        tmp = torch.diag_embed(torch.tensor([float('-inf')]*(total - 1)), offset=-1)\n",
    "        index = torch.LongTensor([0]+ list(range(total-batch_size+1,total))+ list(range(1,total-batch_size+1)))\n",
    "        mask_self_dot = tmp[index]\n",
    "        logits = logits + mask_self_dot\n",
    "        labels = torch.tensor(list(range(total)))\n",
    "        loss = criterion(logits, labels)\n",
    "        acc = torch.sum(torch.argmax(logits, axis=1) == labels) / total\n",
    "        all_acc.append(acc)\n",
    "        losses.append(loss.item())\n",
    "    return np.mean(losses), np.mean(all_acc)"
   ]
  },
  {
   "cell_type": "code",
   "execution_count": 523,
   "metadata": {},
   "outputs": [
    {
     "data": {
      "text/plain": [
       "([44.62490463256836], [tensor(0.1000)])"
      ]
     },
     "execution_count": 523,
     "metadata": {},
     "output_type": "execute_result"
    }
   ],
   "source": [
    "losses, all_acc"
   ]
  },
  {
   "cell_type": "code",
   "execution_count": 527,
   "metadata": {},
   "outputs": [
    {
     "name": "stdout",
     "output_type": "stream",
     "text": [
      "Tokens and words don't line up.\n",
      "['[CLS]', 'it', 'is', 'very', 'hard', ',', 'with', 'hardness', '7', '¹⁄₂', ',', 'a', 'little', 'harder', 'than', 'z', '##ir', '##con', ',', 'making', 'it', 'suitable', 'for', 'use', 'as', 'a', 'gems', '##tone', '.', '[SEP]']\n",
      "Tokens and words don't line up.\n",
      "['[CLS]', 'origins', 'of', 'the', 'chateau', 'can', 'be', 'traced', 'back', 'to', 'the', '17th', 'century', ',', 'around', '1635', ',', 'when', 'the', 'honor', '##e', 'family', 'builds', 'a', 'castle', 'on', 'the', 'sam', '##bre', 'river', 'bank', '.', '[SEP]']\n",
      "Tokens and words don't line up.\n",
      "['[CLS]', 'as', 'the', 'castle', 'in', 'march', '##ien', '##ne', 'was', 'located', 'in', 'neutral', 'territory', '(', 'under', 'authority', 'of', 'the', 'prince', '-', 'bishopric', 'of', 'liege', ')', ',', 'it', 'was', 'used', 'as', 'a', 'hospital', 'for', 'both', 'french', 'and', 'spanish', 'soldiers', '.', '[SEP]']\n",
      "Tokens and words don't line up.\n",
      "['[CLS]', 'in', '1717', ',', 'his', 'daughter', ',', 'marie', '-', 'agnes', 'bi', '##l', '##quin', ',', 'marries', 'jean', '-', 'louis', 'cart', '##ier', ',', 'son', 'of', 'the', 'general', 'treasurer', 'of', 'the', 'prince', '-', 'bishop', 'of', 'liege', '.', '[SEP]']\n",
      "Tokens and words don't line up.\n",
      "['[CLS]', 'in', '1740', ',', 'the', 'castle', 'hosts', 're', '##mac', '##le', 'le', 'lou', '##p', ',', 'a', 'famous', 'drafts', '##man', 'from', 'the', 'liege', 'region', '.', '[SEP]']\n",
      "Tokens and words don't line up.\n",
      "['[CLS]', 'marguerite', 'your', '##cen', '##ar', ',', 'a', 'belgian', '-', 'born', 'french', 'novelist', 'and', 'essay', '##ist', ',', 'and', 'the', 'first', 'woman', 'elected', 'to', 'the', 'academie', 'francaise', ',', 'is', 'the', 'daughter', 'of', 'fern', '##and', '##e', 'de', 'cart', '##ier', 'de', 'march', '##ien', '##ne', ',', 'from', 'the', 'cart', '##ier', 'family', 'related', 'to', 'the', 'cart', '##ier', 'castle', '.', '[SEP]']\n",
      "Tokens and words don't line up.\n",
      "['[CLS]', 'physical', 'disabilities', 'of', 'paralympic', 'swimmers', 'include', 'single', 'or', 'multiple', 'limb', 'loss', '(', 'through', 'birth', 'defects', 'and', '/', 'or', 'amp', '##utation', ')', ',', 'cerebral', 'pal', '##sy', ',', 'spinal', 'cord', 'injuries', '(', 'leading', 'to', 'paralysis', 'or', 'disability', 'in', 'limb', 'coordination', ')', ',', 'dwarf', '##ism', ',', 'and', 'disabilities', 'which', 'imp', '##air', 'the', 'use', 'of', 'joints', '.', '[SEP]']\n",
      "Tokens and words don't line up.\n",
      "['[CLS]', 'noah', \"'\", 's', 'ark', 'stars', 'paul', 'burke', 'as', 'young', 'vet', '##erina', '##rian', 'dr', '.', 'noah', 'mccann', ',', 'partner', 'with', 'the', 'older', 'dr', '.', 'sam', 'ri', '##ne', '##hart', ',', 'played', 'by', 'victor', 'rod', '##man', '(', '1892', '–', '1965', ')', ',', 'who', 'in', 'the', 'series', 'uses', 'a', 'wheelchair', '.', '[SEP]']\n",
      "Tokens and words don't line up.\n",
      "['[CLS]', 'noah', \"'\", 's', 'ark', 'aired', 'at', '8', ':', '30', 'p', '.', 'm', '.', 'est', 'on', 'tuesday', '##s', ',', 'opposite', 'the', 'brothers', '(', 'with', 'gale', 'gordon', ',', 'bob', 'sweeney', ',', 'and', 'barbara', 'billings', '##ley', ')', 'on', 'cbs', 'and', 'hugh', 'o', \"'\", 'brian', \"'\", 's', 'the', 'life', 'and', 'legend', 'of', 'wyatt', 'ear', '##p', 'on', 'abc', '.', '[SEP]']\n",
      "Tokens and words don't line up.\n",
      "['[CLS]', 'ten', '##no', '(', '天', '王', '[UNK]', 'ten', '##no', '-', 'mach', '##i', ')', 'was', 'a', 'town', 'located', 'in', 'mina', '##mia', '##kit', '##a', 'district', ',', 'ak', '##ita', 'prefecture', ',', 'japan', '.', '[SEP]']\n",
      "Tokens and words don't line up.\n",
      "['[CLS]', 'on', 'march', '22', ',', '2005', ',', 'ten', '##no', ',', 'along', 'with', 'the', 'towns', 'of', 'ii', '##tag', '##awa', 'and', 'show', '##a', '(', 'all', 'from', 'mina', '##mia', '##kit', '##a', 'district', ')', ',', 'merged', 'to', 'create', 'the', 'city', 'of', 'kata', '##gami', '.', '[SEP]']\n",
      "Tokens and words don't line up.\n",
      "['[CLS]', 'aurora', 'math', '##il', '##da', 'e', '##bel', '##ing', '(', '1826', '–', '1851', ')', 'was', 'a', 'swedish', 'soprano', 'opera', 'singer', '.', '[SEP]']\n",
      "Tokens and words don't line up.\n",
      "['[CLS]', 'after', 'first', 'appearing', 'as', 'a', 'concert', 'pianist', 'in', '1842', ',', 'she', 'made', 'her', 'singing', 'debut', 'at', 'stockholm', \"'\", 's', 'mind', '##re', 'theatre', 'in', '1844', '.', '[SEP]']\n",
      "Tokens and words don't line up.\n",
      "['[CLS]', 'nevertheless', ',', 'following', 'the', 'encouragement', 'of', 'the', 'composer', 'johan', 'magnus', 'rosen', ',', 'she', 'decided', 'to', 'take', 'singing', 'lessons', 'which', 'led', 'to', 'her', 'debut', 'in', 'the', 'opera', 'far', '##ine', '##lli', 'at', 'the', 'mind', '##re', 'theatre', 'in', '1844', '.', '[SEP]']\n",
      "Tokens and words don't line up.\n",
      "['[CLS]', 'in', '1845', ',', 'she', 'was', 'admitted', 'to', 'the', 'royal', 'opera', 'as', 'a', 'student', ',', 'making', 'a', 'highly', 'successful', 'debut', 'the', 'following', 'year', 'in', 'the', 'magic', 'flute', '.', '[SEP]']\n",
      "Tokens and words don't line up.\n",
      "['[CLS]', 'in', '1848', 'e', '##bel', '##ing', 'continued', 'her', 'studies', 'in', 'paris', 'under', 'manuel', 'garcia', '.', '[SEP]']\n",
      "Tokens and words don't line up.\n",
      "['[CLS]', 'thereafter', ',', 'she', 'did', 'cameo', '##s', '&', 'supporting', 'roles', 'in', 'few', 'shows', 'like', 'dil', 'cha', '##ah', '##ta', 'hai', 'and', 'ku', '##m', '##ku', '##m', '-', 'ek', 'p', '##yra', 'sa', 'band', '##han', '.', '[SEP]']\n",
      "Tokens and words don't line up.\n",
      "['[CLS]', 'she', 'didn', \"'\", 't', 'even', 'have', 'her', 'photographs', 'taken', 'for', 'self', '-', 'promotion', 'but', 'she', 'impressed', 'them', 'and', 'managed', 'to', 'get', 'a', 'call', 'back', 'in', 'two', 'days', '.', '[SEP]']\n",
      "Tokens and words don't line up.\n",
      "['[CLS]', 'she', 'was', 'chosen', 'among', '40', '–', '45', 'girls', 'based', 'on', 'her', 'talent', '.', '[SEP]']\n",
      "Tokens and words don't line up.\n",
      "['[CLS]', 'presently', 'she', 'is', 'working', 'with', 'sa', '##b', 'tv', 'as', 'ru', '##pal', '(', 'cha', '##ku', '##di', ')', 'in', 'their', 'new', 'tv', 'show', '\"', 'sa', '##at', 'ph', '##eron', 'ki', 'her', '##a', 'ph', '##eri', '\"', '.', '[SEP]']\n",
      "Tokens and words don't line up.\n",
      "['[CLS]', 'at', 'present', ',', 'she', 'is', 'living', 'with', 'her', 'husband', 'in', 'one', 'of', 'the', 'most', 'sought', '-', 'after', 'areas', 'of', 'mumbai', ',', 'lok', '##hand', '##wala', ',', 'and', '##her', '##i', '(', 'w', ')', '.', '[SEP]']\n",
      "Tokens and words don't line up.\n",
      "['[CLS]', 'crystals', 'of', 'this', 'kind', 'are', 'abundant', 'at', 'le', 'bo', '##urg', '-', 'd', \"'\", 'o', '##isan', '##s', 'in', 'dauphin', '##e', ',', 'where', 'they', 'are', 'associated', 'with', 'rock', '-', 'crystal', ',', 'fe', '##ld', '##spar', ',', 'and', 'ax', '##ini', '##te', 'in', 'cr', '##evic', '##es', 'in', 'granite', 'and', 'mic', '##a', '-', 'sc', '##his', '##t', '.', '[SEP]']\n",
      "Tokens and words don't line up.\n",
      "['[CLS]', 'at', 'temperatures', 'between', '550', 'and', 'about', '1000', '°c', ',', 'ana', '##tase', 'converts', 'to', 'ru', '##tile', '.', '[SEP]']\n",
      "Tokens and words don't line up.\n",
      "['[CLS]', 'he', 'was', 'sent', 'by', 'p', '&', 'o', 'steamer', 'to', 'southampton', ',', 'and', 'he', 'arrived', 'at', 'london', 'zoo', 'on', '25', 'may', '1850', '.', '[SEP]']\n",
      "Tokens and words don't line up.\n",
      "['[CLS]', 'in', 'the', 'united', 'states', 'job', 'ins', '##ec', '##urity', 'is', 'higher', 'for', 'men', 'than', 'women', ',', 'with', 'workers', 'aged', '30', '–', '64', 'experiencing', 'more', 'ins', '##ec', '##urity', 'when', 'compared', 'with', 'other', 'age', 'groups', '.', '[SEP]']\n",
      "Tokens and words don't line up.\n",
      "['[CLS]', 'in', '1960', ',', 'only', '5', '%', 'of', 'men', 'ages', '30', '–', '35', 'were', 'unemployed', 'whereas', 'roughly', '13', '%', 'were', 'unemployed', 'in', '2006', '.', '[SEP]']\n",
      "list index out of range\n",
      "['[CLS]', 'job', 'ins', '##ec', '##urity', ',', 'defined', 'as', 'being', 'worried', 'about', 'becoming', 'unemployed', ',', 'is', 'a', 'concern', 'to', '25', '%', 'of', 'u', '.', 's', '.', 'workers', '.', '[SEP]']\n",
      "Tokens and words don't line up.\n",
      "['[CLS]', 'jobs', 'that', 'are', 'not', 'backed', 'by', 'an', 'indefinite', 'contract', 'are', 'still', 'poorly', 'regarded', 'in', 'many', 'european', 'societies', ',', 'often', 'di', '##spar', '##aging', '##ly', 'described', 'as', '\"', 'pre', '##car', '##ious', '\"', 'or', '\"', 'mc', '##jo', '##bs', '\"', '—', 'even', 'when', 'the', 'company', 'has', 'good', 'prospects', '.', '[SEP]']\n"
     ]
    },
    {
     "name": "stdout",
     "output_type": "stream",
     "text": [
      "Tokens and words don't line up.\n",
      "['[CLS]', 'instead', ',', 'private', '-', 'and', 'public', '-', 'sector', 'employees', 'who', 'feel', 'they', 'have', 'been', 'unfair', '##ly', 'dismissed', 'have', 'the', 'right', 'to', 'take', 'the', 'company', 'to', 'an', 'employment', 'tribunal', 'in', 'order', 'to', 'be', 're', '-', 'ins', '##tated', 'or', 'to', 'obtain', 'extra', 'compensation', '.', '[SEP]']\n",
      "Tokens and words don't line up.\n",
      "['[CLS]', 'charles', 'nicolas', 'joseph', 'justin', 'fa', '##var', '##t', '(', '17', 'march', '1749', 'in', 'paris', '–', '1', 'or', '2', 'february', '1806', ')', 'was', 'a', 'french', 'playwright', 'at', 'the', 'come', '##die', '-', 'it', '##ali', '##enne', 'for', 'two', 'decades', '.', '[SEP]']\n",
      "Tokens and words don't line up.\n",
      "['[CLS]', 'fa', '##vard', 'was', 'also', 'an', 'actor', 'at', 'the', 'come', '##die', 'francaise', 'for', 'fifteen', 'years', '.', '[SEP]']\n",
      "Tokens and words don't line up.\n",
      "['[CLS]', 'he', 'wrote', 'a', 'number', 'of', 'successful', 'operas', 'com', '##iques', ',', 'such', 'as', 'le', 'dia', '##ble', 'bo', '##ite', '##ux', '(', '1782', ')', 'and', 'le', 'maria', '##ge', 'sing', '##uli', '##er', '(', '1787', ')', '.', '[SEP]']\n",
      "Tokens and words don't line up.\n",
      "['[CLS]', 'his', 'son', 'antoine', '-', 'pierre', '-', 'charles', 'fa', '##var', '##t', '(', '1780', '–', '1867', ')', 'was', 'in', 'the', 'diplomatic', 'service', ',', 'and', 'assisted', 'in', 'editing', 'his', 'grandfather', \"'\", 's', 'memoirs', ';', 'he', 'was', 'a', 'playwright', 'and', 'painter', 'as', 'well', '.', '[SEP]']\n",
      "Tokens and words don't line up.\n",
      "['[CLS]', 'in', '##ugh', '##uit', 'people', 'live', 'north', 'of', 'the', 'arctic', 'circle', 'on', 'the', 'west', 'coast', 'of', 'greenland', ',', 'between', '75', '##°', '—', '80', '##°', 'n', 'and', '58', '##°', '–', '74', '##°', 'w', '.', 'the', 'northernmost', 'settlement', 'was', 'at', 'the', 'village', 'of', 'eta', '##h', '(', 'at', '78', '##°', '19', \"'\", 'n', ')', ',', 'but', 'it', 'was', 'abandoned', 'due', 'to', 'the', 'extremely', 'harsh', 'conditions', 'there', '.', '[SEP]']\n",
      "Tokens and words don't line up.\n",
      "['[CLS]', 'such', 'sites', 'are', 'believed', 'to', 'allow', 'people', 'to', 'purchase', 'potentially', 'dangerous', 'prescription', '##s', 'with', 'ease', 'and', 'cannot', 'be', 'regulated', 'by', 'the', 'care', 'quality', 'commission', 'due', 'to', 'a', 'loop', '##hole', 'allowing', 'them', 'to', 'issue', 'prescription', '##s', 'via', 'third', 'party', 'doctors', 'in', 'romania', '.', '[SEP]']\n",
      "Tokens and words don't line up.\n",
      "['[CLS]', 'he', 'is', 'also', 'knowledge', '##able', 'about', 'and', 'collects', 'anything', 'from', 'the', 'european', 'empire', 'period', '1800', '–', '1820', ',', 'reflecting', 'his', 'fascination', 'with', 'the', 'minds', '##et', 'of', 'napoleon', '.', '[SEP]']\n",
      "Tokens and words don't line up.\n",
      "['[CLS]', 'when', 'hu', '##r', '-', 'bat', '##ila', ',', 'possibly', 'the', 'successor', 'of', 'te', '##pt', '##i', 'ah', '##ar', 'to', 'the', 'throne', 'of', 'el', '##am', ',', 'began', 'raiding', 'the', 'babylonian', 'empire', ',', 'he', 'tau', '##nted', 'ku', '##ri', '##gal', '##zu', 'to', 'do', 'battle', 'with', 'him', 'at', 'du', '##r', '-', 'sul', '##gi', '.', '[SEP]']\n",
      "Tokens and words don't line up.\n",
      "['[CLS]', 'ku', '##ri', '##gal', '##zu', 'launched', 'a', 'campaign', 'which', 'resulted', 'in', 'the', 'ab', '##ject', 'defeat', 'and', 'capture', 'of', 'hu', '##r', '-', 'bat', '##ila', ',', 'who', 'appears', 'in', 'no', 'other', 'inscriptions', '.', '[SEP]']\n",
      "Tokens and words don't line up.\n",
      "['[CLS]', 'a', 'small', 'ag', '##ate', 'tablet', ',', 'bored', 'length', '##ways', 'to', 'make', 'a', 'pendant', ',', 'is', 'engraved', 'with', 'nine', 'lines', 'of', 'sum', '##erian', 'on', 'one', 'side', ',', 'the', 'other', 'side', 'bearing', 'an', 'older', 'dedication', 'of', 'the', 'mother', 'of', 'king', 'sul', '##gi', 'of', 'ur', '(', '202', '##9', '–', '1982', 'bc', ',', 'short', 'chronology', ')', 'to', 'ina', '##nna', ':', 'ku', '##ri', '##gal', '##zu', ',', 'the', 'king', 'of', 'ka', '##rd', '##uni', '##yas', ',', 'conquered', 'the', 'palace', 'of', 'the', 'city', 'of', 'sas', '##a', 'in', 'el', '##am', 'and', 'gave', '(', 'this', 'object', ')', 'for', 'the', 'sake', 'of', 'his', 'life', 'as', 'a', 'gift', 'to', 'ni', '##nl', '##il', ',', 'his', 'lady', '.', '[SEP]']\n",
      "Tokens and words don't line up.\n",
      "['[CLS]', 'burn', '##a', '-', 'bu', '##ria', '##s', 'ii', 'reminded', 'ak', '##hen', '##ate', '##n', 'in', 'his', 'letter', ',', 'ea', '11', ',', 'that', 'ku', '##ri', '##gal', '##zu', 'had', 'been', 'sent', 'gold', 'by', 'one', 'of', 'his', 'ancestors', ',', 'and', ',', 'in', 'ea', '9', ',', 'reminded', 'tu', '##tan', '##kha', '##men', 'that', 'ku', '##ri', '##gal', '##zu', 'had', 'turned', 'down', 'a', 'request', 'from', 'the', 'can', '##aan', '##ites', 'to', 'form', 'an', 'alliance', 'against', 'egypt', '.', '[SEP]']\n",
      "Tokens and words don't line up.\n",
      "['[CLS]', 'he', 'gave', 'his', 'daughter', 'to', 'am', '##en', '##hot', '##ep', 'iii', ',', 'who', 'was', 'a', 'serial', 'practitioner', 'of', 'diplomatic', 'marriages', 'with', 'two', 'mit', '##ann', '##ite', 'princess', '##es', 'and', 'one', 'from', 'ar', '##zawa', 'in', 'his', 'hare', '##m', ',', 'and', 'who', 'would', 'even', 'later', 'go', 'on', 'to', 'wed', 'ku', '##ri', '##gal', '##zu', \"'\", 's', 'granddaughter', ',', 'the', 'daughter', 'of', 'ka', '##das', '##man', '-', 'en', '##li', '##l', '.', '[SEP]']\n",
      "Tokens and words don't line up.\n",
      "['[CLS]', 'apparently', ',', 'he', 'married', 'his', 'sister', 'to', 'the', 'el', '##ami', '##te', 'king', 'pa', '##hir', '-', 'iss', '##an', ',', 'the', 'son', 'of', 'i', '##ge', '-', 'hal', '##ki', ',', 'and', 'a', 'daughter', 'to', 'his', 'successor', ',', 'hum', '##ban', '-', 'nu', '##men', '##a', '.', '[SEP]']\n"
     ]
    },
    {
     "ename": "AssertionError",
     "evalue": "",
     "output_type": "error",
     "traceback": [
      "\u001b[0;31m---------------------------------------------------------------------------\u001b[0m",
      "\u001b[0;31mAssertionError\u001b[0m                            Traceback (most recent call last)",
      "\u001b[0;32m<ipython-input-527-26a812cfa000>\u001b[0m in \u001b[0;36m<module>\u001b[0;34m\u001b[0m\n\u001b[1;32m      1\u001b[0m \u001b[0;31m# A Little more data\u001b[0m\u001b[0;34m\u001b[0m\u001b[0;34m\u001b[0m\u001b[0;34m\u001b[0m\u001b[0m\n\u001b[0;32m----> 2\u001b[0;31m \u001b[0msent_reprs\u001b[0m \u001b[0;34m=\u001b[0m \u001b[0mdu\u001b[0m\u001b[0;34m.\u001b[0m\u001b[0mencode_data\u001b[0m\u001b[0;34m(\u001b[0m\u001b[0mdata\u001b[0m\u001b[0;34m[\u001b[0m\u001b[0;36m5\u001b[0m\u001b[0;34m:\u001b[0m\u001b[0;36m50\u001b[0m\u001b[0;34m]\u001b[0m\u001b[0;34m)\u001b[0m\u001b[0;34m\u001b[0m\u001b[0;34m\u001b[0m\u001b[0m\n\u001b[0m",
      "\u001b[0;32m~/Documents/jurafsky/srl-coh/hier_lm/src/data_utils.py\u001b[0m in \u001b[0;36mencode_data\u001b[0;34m(data)\u001b[0m\n\u001b[1;32m    124\u001b[0m                     \u001b[0mprint\u001b[0m\u001b[0;34m(\u001b[0m\u001b[0mtoken_strs\u001b[0m\u001b[0;34m)\u001b[0m\u001b[0;34m\u001b[0m\u001b[0;34m\u001b[0m\u001b[0m\n\u001b[1;32m    125\u001b[0m                     \u001b[0;32mcontinue\u001b[0m\u001b[0;34m\u001b[0m\u001b[0;34m\u001b[0m\u001b[0m\n\u001b[0;32m--> 126\u001b[0;31m                 \u001b[0msent_repr\u001b[0m \u001b[0;34m=\u001b[0m \u001b[0mbuild_repr\u001b[0m\u001b[0;34m(\u001b[0m\u001b[0msrl_parse\u001b[0m\u001b[0;34m[\u001b[0m\u001b[0;34m'verbs'\u001b[0m\u001b[0;34m]\u001b[0m\u001b[0;34m,\u001b[0m \u001b[0mword2veclist\u001b[0m\u001b[0;34m,\u001b[0m \u001b[0mtoken_vecs\u001b[0m\u001b[0;34m)\u001b[0m\u001b[0;34m\u001b[0m\u001b[0;34m\u001b[0m\u001b[0m\n\u001b[0m\u001b[1;32m    127\u001b[0m                 \u001b[0mreprs\u001b[0m\u001b[0;34m.\u001b[0m\u001b[0mappend\u001b[0m\u001b[0;34m(\u001b[0m\u001b[0msent_repr\u001b[0m\u001b[0;34m)\u001b[0m\u001b[0;34m\u001b[0m\u001b[0;34m\u001b[0m\u001b[0m\n\u001b[1;32m    128\u001b[0m     \u001b[0;32mreturn\u001b[0m \u001b[0mreprs\u001b[0m\u001b[0;34m\u001b[0m\u001b[0;34m\u001b[0m\u001b[0m\n",
      "\u001b[0;32m~/Documents/jurafsky/srl-coh/hier_lm/src/data_utils.py\u001b[0m in \u001b[0;36mbuild_repr\u001b[0;34m(parse, word2veclist, vectors)\u001b[0m\n\u001b[1;32m     65\u001b[0m     \u001b[0;32mfor\u001b[0m \u001b[0mverb\u001b[0m \u001b[0;32min\u001b[0m \u001b[0mparse\u001b[0m\u001b[0;34m:\u001b[0m\u001b[0;34m\u001b[0m\u001b[0;34m\u001b[0m\u001b[0m\n\u001b[1;32m     66\u001b[0m         \u001b[0mtag_2_vec\u001b[0m \u001b[0;34m=\u001b[0m \u001b[0mdefaultdict\u001b[0m\u001b[0;34m(\u001b[0m\u001b[0mlist\u001b[0m\u001b[0;34m)\u001b[0m\u001b[0;34m\u001b[0m\u001b[0;34m\u001b[0m\u001b[0m\n\u001b[0;32m---> 67\u001b[0;31m         \u001b[0;32massert\u001b[0m \u001b[0mlen\u001b[0m\u001b[0;34m(\u001b[0m\u001b[0mverb\u001b[0m\u001b[0;34m[\u001b[0m\u001b[0;34m'tags'\u001b[0m\u001b[0;34m]\u001b[0m\u001b[0;34m)\u001b[0m \u001b[0;34m==\u001b[0m \u001b[0mlen\u001b[0m\u001b[0;34m(\u001b[0m\u001b[0mword2veclist\u001b[0m\u001b[0;34m.\u001b[0m\u001b[0mkeys\u001b[0m\u001b[0;34m(\u001b[0m\u001b[0;34m)\u001b[0m\u001b[0;34m)\u001b[0m\u001b[0;34m\u001b[0m\u001b[0;34m\u001b[0m\u001b[0m\n\u001b[0m\u001b[1;32m     68\u001b[0m         \u001b[0;32mfor\u001b[0m \u001b[0mi\u001b[0m\u001b[0;34m,\u001b[0m \u001b[0mtag\u001b[0m \u001b[0;32min\u001b[0m \u001b[0menumerate\u001b[0m\u001b[0;34m(\u001b[0m\u001b[0mverb\u001b[0m\u001b[0;34m[\u001b[0m\u001b[0;34m'tags'\u001b[0m\u001b[0;34m]\u001b[0m\u001b[0;34m)\u001b[0m\u001b[0;34m:\u001b[0m\u001b[0;34m\u001b[0m\u001b[0;34m\u001b[0m\u001b[0m\n\u001b[1;32m     69\u001b[0m             \u001b[0;32mif\u001b[0m \u001b[0mtag\u001b[0m \u001b[0;34m==\u001b[0m \u001b[0;34m'O'\u001b[0m \u001b[0;32mor\u001b[0m \u001b[0mtag\u001b[0m\u001b[0;34m[\u001b[0m\u001b[0;36m2\u001b[0m\u001b[0;34m]\u001b[0m \u001b[0;34m==\u001b[0m \u001b[0;34m\"R\"\u001b[0m \u001b[0;32mor\u001b[0m \u001b[0mtag\u001b[0m\u001b[0;34m[\u001b[0m\u001b[0;36m2\u001b[0m\u001b[0;34m]\u001b[0m \u001b[0;34m==\u001b[0m \u001b[0;34m\"C\"\u001b[0m\u001b[0;34m:\u001b[0m\u001b[0;34m\u001b[0m\u001b[0;34m\u001b[0m\u001b[0m\n",
      "\u001b[0;31mAssertionError\u001b[0m: "
     ]
    }
   ],
   "source": [
    "# A Little more data\n",
    "sent_reprs = du.encode_data(data[5:50])"
   ]
  },
  {
   "cell_type": "code",
   "execution_count": 544,
   "metadata": {},
   "outputs": [],
   "source": [
    "def get_batch(full_data, i):\n",
    "    # In training loop\n",
    "    num_batches = int(len(full_data) / total)\n",
    "    if i > num_batches:\n",
    "        i = i % num_batches\n",
    "    start = i * total\n",
    "    end = (i+1)*total\n",
    "    input_data = full_data[start:end]\n",
    "    target_data = full_data[start + 1: end+1]\n",
    "    input_data = torch.tensor(input_data)\n",
    "    if torch.numel(input_data) / 768 != total:\n",
    "        print(\"partial\", )\n",
    "        return None, None\n",
    "    input_data = input_data.view(batch_size, bptt, -1).permute(1,0,2)\n",
    "    target_data = torch.tensor(target_data)\n",
    "    target_data = target_data.view(batch_size, bptt, -1).permute(1,0,2)\n",
    "    return input_data, target_data"
   ]
  },
  {
   "cell_type": "code",
   "execution_count": 560,
   "metadata": {},
   "outputs": [
    {
     "name": "stdout",
     "output_type": "stream",
     "text": [
      "4 10 40\n",
      "(69.14019393920898, 0.0925)\n",
      "partial\n",
      "(12.455908393859863, 0.055)\n",
      "(9.959041595458984, 0.060000002)\n",
      "(9.617847394943237, 0.0625)\n",
      "(7.5751854419708256, 0.082499996)\n",
      "(6.701488351821899, 0.072500005)\n",
      "(5.753696727752685, 0.1)\n",
      "(6.486123132705688, 0.095)\n",
      "(5.073921704292298, 0.125)\n",
      "(5.304004263877869, 0.13250001)\n"
     ]
    }
   ],
   "source": [
    "args = \"--epochs 2 --emsize 768 --nhid 1536 --bptt 10 --batch_size 4 --nlayers 2\"\n",
    "runner = ModelRunner(args.split())\n",
    "\n",
    "batch_size = runner.args.batch_size\n",
    "bptt = runner.args.bptt\n",
    "total = batch_size * bptt\n",
    "print(batch_size, bptt, total)\n",
    "\n",
    "\n",
    "\n",
    "full_data = get_vars_from_sent(sent_reprs)\n",
    "criterion = torch.nn.CrossEntropyLoss()\n",
    "\n",
    "\n",
    "losses = []\n",
    "all_acc = []\n",
    "for i in range(500):\n",
    "    runner.model.train()\n",
    "    runner.model.zero_grad()\n",
    "    input_data, target_data = get_batch(full_data, i)\n",
    "    if input_data is None:\n",
    "        continue\n",
    "    output = runner.model(input_data)\n",
    "    logits = torch.matmul(output.reshape(-1, 768), target_data.reshape(-1, 768).t())\n",
    "    tmp = torch.diag_embed(torch.tensor([float('-inf')]*(total - 1)), offset=-1)\n",
    "    index = torch.LongTensor([0]+ list(range(total-batch_size+1,total))+ list(range(1,total-batch_size+1)))\n",
    "    mask_self_dot = tmp[index]\n",
    "    logits = logits + mask_self_dot\n",
    "    labels = torch.tensor(list(range(total)))\n",
    "    loss = criterion(logits, labels)\n",
    "    acc = torch.sum(torch.argmax(logits, axis=1) == labels) / total\n",
    "    all_acc.append(acc)\n",
    "    loss.backward()\n",
    "    \n",
    "    torch.nn.utils.clip_grad_norm_(runner.model.parameters(), 0.25)\n",
    "    for p in runner.model.parameters():\n",
    "        p.data.add_(p.grad, alpha=-1)\n",
    "    losses.append(loss.item())\n",
    "    \n",
    "    if i % 50 == 0:\n",
    "        print(run_eval())\n"
   ]
  },
  {
   "cell_type": "code",
   "execution_count": 563,
   "metadata": {},
   "outputs": [
    {
     "data": {
      "text/plain": [
       "[<matplotlib.lines.Line2D at 0x1b4973ed50>]"
      ]
     },
     "execution_count": 563,
     "metadata": {},
     "output_type": "execute_result"
    },
    {
     "data": {
      "image/png": "[encoded data removed]",
      "text/plain": [
       "<Figure size 432x288 with 1 Axes>"
      ]
     },
     "metadata": {
      "needs_background": "light"
     },
     "output_type": "display_data"
    }
   ],
   "source": [
    "plt.plot(losses)"
   ]
  },
  {
   "cell_type": "code",
   "execution_count": 564,
   "metadata": {},
   "outputs": [
    {
     "data": {
      "text/plain": [
       "[<matplotlib.lines.Line2D at 0x1b49731e10>]"
      ]
     },
     "execution_count": 564,
     "metadata": {},
     "output_type": "execute_result"
    },
    {
     "data": {
      "image/png": "[encoded data removed]",
      "text/plain": [
       "<Figure size 432x288 with 1 Axes>"
      ]
     },
     "metadata": {
      "needs_background": "light"
     },
     "output_type": "display_data"
    }
   ],
   "source": [
    "plt.plot(all_acc)"
   ]
  },
  {
   "cell_type": "markdown",
   "metadata": {},
   "source": [
    "# Issues\n",
    "* Note that when training on sentence ABCD the targets are BCDE. If you use all the targets in the batch as negatives, for all the examples except the first, you will have a copy of the input as a candidate output (P(B,C,D,E | AB). Since we train on dot product, obviously the hightest dot product is with itself (ie. B \\dot B) so we have to mask that out in training. \n",
    "\n",
    "## TODO\n",
    "* Example where we memorize on hard examples\n",
    "* Easy examples with random negatives to show it works\n",
    "* Same as above but with examples from other documents.\n",
    "* Think about eval"
   ]
  },
  {
   "cell_type": "markdown",
   "metadata": {},
   "source": [
    "# TODO\n",
    "\n",
    "* Implement actual model (contrastive)\n",
    "    * Move code to runnable module\n",
    "    * Add distance metric or triplet loss? \n",
    "    \n",
    "* Build data pipeline\n",
    "* Run training / eval\n",
    "    * cluster"
   ]
  },
  {
   "cell_type": "markdown",
   "metadata": {},
   "source": [
    "# Thoughts and issues with modeling\n",
    "\n",
    "## Determinism\n",
    "* There is an issue with ordering. If you don't condition on anything the next token can be anything. Currently we have  a V,A0,A1... structure which the model will probably figure out. However, the order of verbs might be not obvious, especially if the entities are unknown. \n",
    "* We could use some conditioning like conditioning on the role name (eg. V or A1). This could  be included in the prediction / decoding\n",
    "* We could give some non-linear hints (predict A0 given V and V given A0). There might be some leakage from the representations. \n",
    "* We need a sentence level objective here as well.\n",
    "* Maybe the structure doesn't matter and the model will just figure it out.\n",
    "* Even if we condition, there could be multiple verbs that are reasonable. Maybe we need a variational objective."
   ]
  },
  {
   "cell_type": "code",
   "execution_count": 573,
   "metadata": {},
   "outputs": [
    {
     "data": {
      "text/plain": [
       "{'text': <tf.Tensor: shape=(), dtype=string, numpy=b'\\n_START_ARTICLE_\\nKaty de la Cruz\\n_START_SECTION_\\nEarly life\\n_START_PARAGRAPH_\\nCatalina de la Cruz was born in Bustos, Bulacan. Even as a young child, de la Cruz would be hired to sing at town fiestas, and at intermissions during cockfights and boxing matches. Her formal schooling ended at the third grade._NEWLINE_In 1914, when she was seven years old, she was hired by the owner of a Manila film theater to sing to the audiences in between movie screenings. Such performances were typical in Manila theaters during that period, and from those routines would emerge a distinct genre eventually known as bodabil. She learned her songs through listening to phonograph records, and mastered the English language with the help of her brother.\\n_START_SECTION_\\nBodabil star\\n_START_PARAGRAPH_\\nBy the age of thirteen, de la Cruz was a rising star in the bodabil circuit, performing alongside other leading stage performers such as Atang de la Rama. She soon became a solo headliner, performing in Manila\\'s largest theaters such as the Savoy, the Palace, and the Lux. By 1925, de la Cruz was the highest paid entertainer in the Philippines. She fell in love, and later married, the piano player of her stage show. Some of the chorus girls who performed alongside her onstage, such as Chichay, Etang Discher, and Mary Walter, later become prominent entertainers in their own right._NEWLINE_De la Cruz was acknowledged as a proficient performer of torch songs who drew comparisons to Sophie Tucker._NEWLINE_Initially, her signature tune was the bluesy ballad St. Louis Blues. After jazz became popular in the Philippines in the 1920s, de la Cruz adapted her singing style and soon mastered the art of scat singing, which became a trademark of hers. By the 1930s, de la Cruz would be most identified with the song Balut, a fast-paced jazzy tune written by Jerry Brandy. Her take on the song, which afforded her to showcase her scatting ability, has been described as impish and rustic, rounded out by her low, playfully dragging key. A slightly bawdy take, called \"Balut\", named for a notorious Filipino culinary delicacy of the same name, remains popular to date, with versions performed by the New Minstrels, Pilita Corrales, and Lani Misalucha._NEWLINE_She also occasionally acted in films, most prominently in Inspirasyon (1953), for which she received the FAMAS Best Supporting Actress Award in 1953. Many of her films were for Sampaguita Pictures.\\n_START_SECTION_\\nLater career\\n_START_PARAGRAPH_\\nAs bodabil slowly declined, de la Cruz concentrated on concert performances and international tours. In the late 1940s and early 1950s, she was a top-billed performer at the famed Forbidden City nightclub in San Francisco. In 1961, she starred in her own stage show in Las Vegas. De la Cruz also performed concert tours in Thailand, Taiwan, Hong Kong, Singapore, Australia, and Hawaii._NEWLINE_De la Cruz eventually retired to San Francisco, California, though she would occasionally perform until the late 1980s. In 1989, she visited the Philippines to attend the premiere at the Cultural Center of the Philippines of Katy!, a highly publicized stage musical based on her life.\\n_START_SECTION_\\nFamily\\n_START_PARAGRAPH_\\nOf de la Cruz\\'s four children, her daughter Angie followed her into showbusiness, pairing with Nikki Ross to form Wing Duo, a singing tandem that was popular on the bodabil circuit and on film during the 1950s.'>,\n",
       " 'version_id': <tf.Tensor: shape=(), dtype=string, numpy=b'9462519652370886522'>,\n",
       " 'wikidata_id': <tf.Tensor: shape=(), dtype=string, numpy=b'Q5288151'>}"
      ]
     },
     "execution_count": 573,
     "metadata": {},
     "output_type": "execute_result"
    }
   ],
   "source": [
    "data[10]"
   ]
  },
  {
   "cell_type": "code",
   "execution_count": null,
   "metadata": {},
   "outputs": [],
   "source": []
  }
 ],
 "metadata": {
  "kernelspec": {
   "display_name": "Python [conda env:discoher]",
   "language": "python",
   "name": "conda-env-discoher-py"
  },
  "language_info": {
   "codemirror_mode": {
    "name": "ipython",
    "version": 3
   },
   "file_extension": ".py",
   "mimetype": "text/x-python",
   "name": "python",
   "nbconvert_exporter": "python",
   "pygments_lexer": "ipython3",
   "version": "3.7.9"
  }
 },
 "nbformat": 4,
 "nbformat_minor": 4
}
