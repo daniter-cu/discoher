{
 "cells": [
  {
   "cell_type": "code",
   "execution_count": 1,
   "metadata": {},
   "outputs": [],
   "source": [
    "import sys\n",
    "sys.path.append(\"../src/\")"
   ]
  },
  {
   "cell_type": "code",
   "execution_count": 2,
   "metadata": {},
   "outputs": [],
   "source": [
    "%load_ext autoreload\n",
    "%autoreload 2\n",
    "import data_utils as du"
   ]
  },
  {
   "cell_type": "code",
   "execution_count": 3,
   "metadata": {},
   "outputs": [],
   "source": [
    "import matplotlib\n",
    "import numpy as np\n",
    "import matplotlib.pyplot as plt\n",
    "%matplotlib inline  \n",
    "import torch.optim as optim\n"
   ]
  },
  {
   "cell_type": "code",
   "execution_count": 4,
   "metadata": {},
   "outputs": [
    {
     "name": "stderr",
     "output_type": "stream",
     "text": [
      "INFO:absl:No config specified, defaulting to first: wiki40b/en\n",
      "INFO:absl:Load dataset info from gs://tfds-data/datasets/wiki40b/en/1.3.0\n",
      "INFO:absl:Field info.config_name from disk and from code do not match. Keeping the one from code.\n",
      "INFO:absl:Field info.config_description from disk and from code do not match. Keeping the one from code.\n",
      "INFO:absl:Field info.splits from disk and from code do not match. Keeping the one from code.\n",
      "INFO:absl:Field info.module_name from disk and from code do not match. Keeping the one from code.\n",
      "INFO:absl:Reusing dataset wiki40b (gs://tfds-data/datasets/wiki40b/en/1.3.0)\n",
      "INFO:absl:Constructing tf.data.Dataset for split train[:100], from gs://tfds-data/datasets/wiki40b/en/1.3.0\n"
     ]
    }
   ],
   "source": [
    "data = du.get_wiki_data(100)"
   ]
  },
  {
   "cell_type": "code",
   "execution_count": 247,
   "metadata": {},
   "outputs": [],
   "source": [
    "sent_reprs = du.encode_data(data[:5])"
   ]
  },
  {
   "cell_type": "code",
   "execution_count": 248,
   "metadata": {},
   "outputs": [
    {
     "data": {
      "text/plain": [
       "71"
      ]
     },
     "execution_count": 248,
     "metadata": {},
     "output_type": "execute_result"
    }
   ],
   "source": [
    "len(sent_reprs)"
   ]
  },
  {
   "cell_type": "code",
   "execution_count": 249,
   "metadata": {},
   "outputs": [],
   "source": [
    "from training import ModelRunner"
   ]
  },
  {
   "cell_type": "code",
   "execution_count": 497,
   "metadata": {},
   "outputs": [],
   "source": [
    "args = \"--epochs 2 --emsize 768 --nhid 1536 --bptt 10 --batch_size 4 --dropout 0 --nlayers 2\"\n",
    "runner = ModelRunner(args.split())"
   ]
  },
  {
   "cell_type": "code",
   "execution_count": 498,
   "metadata": {},
   "outputs": [
    {
     "data": {
      "text/plain": [
       "TransformerModel(\n",
       "  (pos_encoder): PositionalEncoding(\n",
       "    (dropout): Dropout(p=0.0, inplace=False)\n",
       "  )\n",
       "  (transformer_encoder): TransformerEncoder(\n",
       "    (layers): ModuleList(\n",
       "      (0): TransformerEncoderLayer(\n",
       "        (self_attn): MultiheadAttention(\n",
       "          (out_proj): _LinearWithBias(in_features=768, out_features=768, bias=True)\n",
       "        )\n",
       "        (linear1): Linear(in_features=768, out_features=1536, bias=True)\n",
       "        (dropout): Dropout(p=0.0, inplace=False)\n",
       "        (linear2): Linear(in_features=1536, out_features=768, bias=True)\n",
       "        (norm1): LayerNorm((768,), eps=1e-05, elementwise_affine=True)\n",
       "        (norm2): LayerNorm((768,), eps=1e-05, elementwise_affine=True)\n",
       "        (dropout1): Dropout(p=0.0, inplace=False)\n",
       "        (dropout2): Dropout(p=0.0, inplace=False)\n",
       "      )\n",
       "      (1): TransformerEncoderLayer(\n",
       "        (self_attn): MultiheadAttention(\n",
       "          (out_proj): _LinearWithBias(in_features=768, out_features=768, bias=True)\n",
       "        )\n",
       "        (linear1): Linear(in_features=768, out_features=1536, bias=True)\n",
       "        (dropout): Dropout(p=0.0, inplace=False)\n",
       "        (linear2): Linear(in_features=1536, out_features=768, bias=True)\n",
       "        (norm1): LayerNorm((768,), eps=1e-05, elementwise_affine=True)\n",
       "        (norm2): LayerNorm((768,), eps=1e-05, elementwise_affine=True)\n",
       "        (dropout1): Dropout(p=0.0, inplace=False)\n",
       "        (dropout2): Dropout(p=0.0, inplace=False)\n",
       "      )\n",
       "    )\n",
       "  )\n",
       ")"
      ]
     },
     "execution_count": 498,
     "metadata": {},
     "output_type": "execute_result"
    }
   ],
   "source": [
    "runner.model.train()"
   ]
  },
  {
   "cell_type": "code",
   "execution_count": 499,
   "metadata": {},
   "outputs": [
    {
     "name": "stdout",
     "output_type": "stream",
     "text": [
      "4 10 40\n"
     ]
    }
   ],
   "source": [
    "import numpy as np\n",
    "import torch\n",
    "\n",
    "batch_size = runner.args.batch_size\n",
    "bptt = runner.args.bptt\n",
    "total = batch_size * bptt\n",
    "print(batch_size, bptt, total)\n",
    "\n",
    "def get_vars_from_sent(sent_reprs):\n",
    "    reprs = []\n",
    "    for sent_repr in sent_reprs:\n",
    "        for verb_repr in sent_repr:\n",
    "            for tag, vec in verb_repr:\n",
    "                reprs.append(vec)\n",
    "    return np.array(reprs)\n",
    "full_data = get_vars_from_sent(sent_reprs)\n",
    "input_data = full_data[0:total]\n",
    "target_data = full_data[1:total+1]\n",
    "input_data = torch.tensor(input_data)\n",
    "input_data = input_data.view(batch_size, bptt, -1).permute(1,0,2)\n",
    "target_data = torch.tensor(target_data)\n",
    "target_data = target_data.view(batch_size, bptt, -1).permute(1,0,2)"
   ]
  },
  {
   "cell_type": "code",
   "execution_count": 500,
   "metadata": {},
   "outputs": [],
   "source": [
    "for i in range(bptt-1):\n",
    "    assert torch.equal(input_data[i+1], target_data[i])"
   ]
  },
  {
   "cell_type": "code",
   "execution_count": 501,
   "metadata": {},
   "outputs": [
    {
     "data": {
      "text/plain": [
       "torch.Size([10, 4, 768])"
      ]
     },
     "execution_count": 501,
     "metadata": {},
     "output_type": "execute_result"
    }
   ],
   "source": [
    "input_data.shape"
   ]
  },
  {
   "cell_type": "code",
   "execution_count": 502,
   "metadata": {},
   "outputs": [
    {
     "data": {
      "text/plain": [
       "torch.Size([10, 4, 768])"
      ]
     },
     "execution_count": 502,
     "metadata": {},
     "output_type": "execute_result"
    }
   ],
   "source": [
    "target_data.shape"
   ]
  },
  {
   "cell_type": "code",
   "execution_count": 503,
   "metadata": {},
   "outputs": [],
   "source": [
    "    #candidates = torch.rand(16, 768)\n",
    "    #target_options = target_data.reshape(-1, 768)\n",
    "    #for i in range(4):\n",
    "    #    candidates[i*4] = target_options[i]\n",
    "#     logits = torch.stack([logits[0,:5],\n",
    "#            logits[1,4:9],\n",
    "#            logits[2,8:13],\n",
    "#            logits[3,11:16]])"
   ]
  },
  {
   "cell_type": "code",
   "execution_count": 514,
   "metadata": {},
   "outputs": [],
   "source": [
    "criterion = torch.nn.CrossEntropyLoss()\n",
    "\n",
    "# optimizer = optim.SGD(runner.model.parameters(), lr=20, momentum=0.9)\n",
    "\n",
    "losses = []\n",
    "all_acc = []\n",
    "for _ in range(100):\n",
    "    runner.model.zero_grad()\n",
    "    output = runner.model(input_data)\n",
    "    logits = torch.matmul(output.reshape(-1, 768), target_data.reshape(-1, 768).t())\n",
    "    tmp = torch.diag_embed(torch.tensor([float('-inf')]*(total - 1)), offset=-1)\n",
    "    index = torch.LongTensor([0]+ list(range(total-batch_size+1,total))+ list(range(1,total-batch_size+1)))\n",
    "    mask_self_dot = tmp[index]\n",
    "    logits = logits + mask_self_dot\n",
    "    labels = torch.tensor(list(range(total)))\n",
    "    loss = criterion(logits, labels)\n",
    "    acc = torch.sum(torch.argmax(logits, axis=1) == labels) / total\n",
    "    all_acc.append(acc)\n",
    "    # loss = runner.criterion(output, target_data)\n",
    "    loss.backward()\n",
    "    \n",
    "    torch.nn.utils.clip_grad_norm_(runner.model.parameters(), 0.25)\n",
    "    for p in runner.model.parameters():\n",
    "        p.data.add_(p.grad, alpha=-.001)\n",
    "    # optimizer.step()\n",
    "    losses.append(loss.item())"
   ]
  },
  {
   "cell_type": "code",
   "execution_count": 520,
   "metadata": {},
   "outputs": [
    {
     "data": {
      "text/plain": [
       "tensor([ 0,  1,  2,  3,  4,  5,  6,  7,  8,  9, 10, 11, 12, 13, 14, 15, 16, 17,\n",
       "        18, 19, 20, 21, 22, 23, 24, 25, 26, 27, 28, 29, 30, 31, 32, 33, 18, 35,\n",
       "        36, 37, 38, 39])"
      ]
     },
     "execution_count": 520,
     "metadata": {},
     "output_type": "execute_result"
    }
   ],
   "source": [
    "torch.argmax(logits, axis=1)"
   ]
  },
  {
   "cell_type": "code",
   "execution_count": 516,
   "metadata": {},
   "outputs": [
    {
     "data": {
      "text/plain": [
       "[<matplotlib.lines.Line2D at 0x1b17975550>]"
      ]
     },
     "execution_count": 516,
     "metadata": {},
     "output_type": "execute_result"
    },
    {
     "data": {
      "image/png": "[encoded data removed]",
      "text/plain": [
       "<Figure size 432x288 with 1 Axes>"
      ]
     },
     "metadata": {
      "needs_background": "light"
     },
     "output_type": "display_data"
    }
   ],
   "source": [
    "plt.plot(losses)"
   ]
  },
  {
   "cell_type": "code",
   "execution_count": 517,
   "metadata": {},
   "outputs": [
    {
     "data": {
      "text/plain": [
       "[<matplotlib.lines.Line2D at 0x1b17a0bcd0>]"
      ]
     },
     "execution_count": 517,
     "metadata": {},
     "output_type": "execute_result"
    },
    {
     "data": {
      "image/png": "[encoded data removed]",
      "text/plain": [
       "<Figure size 432x288 with 1 Axes>"
      ]
     },
     "metadata": {
      "needs_background": "light"
     },
     "output_type": "display_data"
    }
   ],
   "source": [
    "plt.plot(all_acc)"
   ]
  },
  {
   "cell_type": "code",
   "execution_count": 519,
   "metadata": {},
   "outputs": [
    {
     "data": {
      "text/plain": [
       "[0.035093098878860474,\n",
       " 0.035092469304800034,\n",
       " 0.03509289398789406,\n",
       " 0.03509216383099556,\n",
       " 0.03509249538183212,\n",
       " 0.03509252518415451,\n",
       " 0.03509218618273735,\n",
       " 0.035092517733573914,\n",
       " 0.035092178732156754,\n",
       " 0.03509221971035004,\n",
       " 0.03509274870157242,\n",
       " 0.03509259596467018,\n",
       " 0.03509244695305824,\n",
       " 0.03509249538183212,\n",
       " 0.03509281203150749,\n",
       " 0.03509228676557541,\n",
       " 0.035092324018478394,\n",
       " 0.0350920744240284,\n",
       " 0.03509135916829109,\n",
       " 0.0350915901362896]"
      ]
     },
     "execution_count": 519,
     "metadata": {},
     "output_type": "execute_result"
    }
   ],
   "source": [
    "losses[-20:]"
   ]
  },
  {
   "cell_type": "markdown",
   "metadata": {},
   "source": [
    "# Issues\n",
    "* The model doesn't train very well, even with small data.\n",
    "* Although with careful optimization we can memorize the problem seems hard\n",
    "* If we use random negatives, it becomes much easier so clearly the problem is just very hard.\n",
    "* In this case, all vectors are from 2 adjacent sentences. Real data will have to be much easier.\n",
    "* Although I am only trying to memorize, the real model will have lots of data and training time.\n",
    "* maybe better without positional encodings\n",
    "\n",
    "## TODO\n",
    "* Example where we memorize on hard examples\n",
    "* Easy examples with random negatives to show it works\n",
    "* Same as above but with examples from other documents.\n",
    "* Think about eval"
   ]
  },
  {
   "cell_type": "markdown",
   "metadata": {},
   "source": [
    "# TODO\n",
    "\n",
    "* Implement actual model (contrastive)\n",
    "    * Move code to runnable module\n",
    "    * Add distance metric or triplet loss? \n",
    "    \n",
    "* Build data pipeline\n",
    "* Run training / eval\n",
    "    * cluster"
   ]
  },
  {
   "cell_type": "markdown",
   "metadata": {},
   "source": [
    "# Thoughts and issues with modeling\n",
    "\n",
    "## Determinism\n",
    "* There is an issue with ordering. If you don't condition on anything the next token can be anything. Currently we have  a V,A0,A1... structure which the model will probably figure out. However, the order of verbs might be not obvious, especially if the entities are unknown. \n",
    "* We could use some conditioning like conditioning on the role name (eg. V or A1). This could  be included in the prediction / decoding\n",
    "* We could give some non-linear hints (predict A0 given V and V given A0). There might be some leakage from the representations. \n",
    "* We need a sentence level objective here as well.\n",
    "* Maybe the structure doesn't matter and the model will just figure it out.\n",
    "* Even if we condition, there could be multiple verbs that are reasonable. Maybe we need a variational objective."
   ]
  },
  {
   "cell_type": "code",
   "execution_count": null,
   "metadata": {},
   "outputs": [],
   "source": []
  }
 ],
 "metadata": {
  "kernelspec": {
   "display_name": "Python [conda env:discoher]",
   "language": "python",
   "name": "conda-env-discoher-py"
  },
  "language_info": {
   "codemirror_mode": {
    "name": "ipython",
    "version": 3
   },
   "file_extension": ".py",
   "mimetype": "text/x-python",
   "name": "python",
   "nbconvert_exporter": "python",
   "pygments_lexer": "ipython3",
   "version": "3.7.9"
  }
 },
 "nbformat": 4,
 "nbformat_minor": 4
}
