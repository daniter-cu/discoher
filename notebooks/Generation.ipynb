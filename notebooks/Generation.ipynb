{
 "cells": [
  {
   "cell_type": "code",
   "execution_count": 1,
   "metadata": {},
   "outputs": [],
   "source": [
    "import sys\n",
    "sys.path.append(\"../src/\")\n",
    "%load_ext autoreload\n",
    "%autoreload 2\n",
    "import faiss  \n",
    "import torch"
   ]
  },
  {
   "cell_type": "code",
   "execution_count": 2,
   "metadata": {},
   "outputs": [],
   "source": [
    "index = faiss.IndexFlatIP(100)   # build the index, d=size of vectors "
   ]
  },
  {
   "cell_type": "code",
   "execution_count": 3,
   "metadata": {},
   "outputs": [],
   "source": [
    "import numpy as np"
   ]
  },
  {
   "cell_type": "code",
   "execution_count": 4,
   "metadata": {},
   "outputs": [],
   "source": [
    "xb = np.random.rand(100,100).astype(np.float32)"
   ]
  },
  {
   "cell_type": "code",
   "execution_count": 5,
   "metadata": {},
   "outputs": [
    {
     "data": {
      "text/plain": [
       "dtype('float32')"
      ]
     },
     "execution_count": 5,
     "metadata": {},
     "output_type": "execute_result"
    }
   ],
   "source": [
    "xb.dtype"
   ]
  },
  {
   "cell_type": "code",
   "execution_count": 6,
   "metadata": {},
   "outputs": [
    {
     "name": "stdout",
     "output_type": "stream",
     "text": [
      "100\n"
     ]
    }
   ],
   "source": [
    "# here we assume xb contains a n-by-d numpy matrix of type float32\n",
    "index.add(xb)                  # add vectors to the index\n",
    "print(index.ntotal)"
   ]
  },
  {
   "cell_type": "code",
   "execution_count": 7,
   "metadata": {},
   "outputs": [],
   "source": [
    "xq = np.random.rand(2,100).astype(np.float32)"
   ]
  },
  {
   "cell_type": "code",
   "execution_count": 8,
   "metadata": {},
   "outputs": [],
   "source": [
    "D, I = index.search(xq, 1)"
   ]
  },
  {
   "cell_type": "code",
   "execution_count": 9,
   "metadata": {},
   "outputs": [
    {
     "data": {
      "text/plain": [
       "array([[28.680365],\n",
       "       [28.900494]], dtype=float32)"
      ]
     },
     "execution_count": 9,
     "metadata": {},
     "output_type": "execute_result"
    }
   ],
   "source": [
    "D"
   ]
  },
  {
   "cell_type": "code",
   "execution_count": 10,
   "metadata": {},
   "outputs": [
    {
     "data": {
      "text/plain": [
       "array([[ 7],\n",
       "       [83]])"
      ]
     },
     "execution_count": 10,
     "metadata": {},
     "output_type": "execute_result"
    }
   ],
   "source": [
    "I"
   ]
  },
  {
   "cell_type": "code",
   "execution_count": 11,
   "metadata": {},
   "outputs": [
    {
     "data": {
      "text/plain": [
       "array([[5.54404408e-02, 9.70241845e-01, 5.42561829e-01, 4.98816460e-01,\n",
       "        3.60423803e-01, 6.46621704e-01, 7.44715273e-01, 4.82015073e-01,\n",
       "        7.64980376e-01, 2.03234881e-01, 4.51820880e-01, 8.77226517e-02,\n",
       "        9.63550270e-01, 3.22889358e-01, 7.31347919e-01, 6.65698588e-01,\n",
       "        2.64263183e-01, 2.38808230e-01, 6.82938933e-01, 9.18583393e-01,\n",
       "        3.28900784e-01, 5.23584366e-01, 2.33002394e-01, 2.31518969e-02,\n",
       "        8.76193762e-01, 2.00873077e-01, 9.34594035e-01, 7.16190636e-01,\n",
       "        3.80562931e-01, 1.62701443e-01, 4.36069667e-01, 8.61753166e-01,\n",
       "        5.05655468e-01, 8.26638818e-01, 7.57649481e-01, 1.85768127e-01,\n",
       "        5.20699024e-01, 5.02426028e-02, 2.03172907e-01, 5.80699623e-01,\n",
       "        4.00809556e-01, 6.54295504e-01, 5.51003456e-01, 4.18148875e-01,\n",
       "        2.29290023e-01, 5.40377378e-01, 9.36542094e-01, 4.37755466e-01,\n",
       "        6.62251413e-01, 5.49782395e-01, 8.06210995e-01, 4.61299568e-02,\n",
       "        1.85929030e-01, 8.21717143e-01, 9.58036184e-01, 9.30223167e-02,\n",
       "        9.94520724e-01, 8.98633957e-01, 6.99503362e-01, 2.94734985e-01,\n",
       "        5.66290915e-01, 7.86440670e-01, 4.95081842e-01, 4.13516939e-01,\n",
       "        5.09148657e-01, 4.55423981e-01, 2.80482531e-01, 4.00620937e-01,\n",
       "        4.97479409e-01, 9.41517591e-01, 2.22638473e-02, 3.52570742e-01,\n",
       "        2.01547891e-01, 3.83399159e-01, 1.81446731e-01, 8.94650578e-01,\n",
       "        7.95155227e-01, 2.05602020e-01, 6.13954306e-01, 1.13032728e-01,\n",
       "        7.38886744e-02, 9.12189662e-01, 2.45531881e-03, 5.11772372e-02,\n",
       "        1.67930901e-01, 4.55048323e-01, 6.93117678e-01, 2.68778145e-01,\n",
       "        2.99306363e-01, 4.67238516e-01, 3.38508159e-01, 1.53692529e-01,\n",
       "        9.37102795e-01, 7.90090561e-01, 4.51188952e-01, 2.02564046e-01,\n",
       "        4.09733742e-01, 1.20349139e-01, 4.07990992e-01, 7.79005229e-01],\n",
       "       [6.60166800e-01, 3.74046303e-02, 3.32345515e-02, 7.79154539e-01,\n",
       "        8.82479250e-01, 2.47170404e-01, 8.16296339e-01, 7.54556000e-01,\n",
       "        3.15267891e-01, 5.45958340e-01, 6.45885348e-01, 7.30921865e-01,\n",
       "        9.75108325e-01, 3.77857059e-01, 3.98059815e-01, 5.82813680e-01,\n",
       "        4.13118511e-01, 7.62537062e-01, 7.56287158e-01, 4.82621759e-01,\n",
       "        1.90198570e-01, 2.25597665e-01, 6.48394823e-01, 6.89520240e-01,\n",
       "        8.36387336e-01, 5.31445384e-01, 8.79401341e-02, 2.40644515e-01,\n",
       "        6.43555462e-01, 8.68233085e-01, 5.78766882e-01, 7.04055607e-01,\n",
       "        1.06988385e-01, 3.97269458e-01, 9.63203907e-01, 9.38812315e-01,\n",
       "        2.63402648e-02, 1.51751041e-01, 5.94603829e-02, 3.95776063e-01,\n",
       "        4.42870647e-01, 4.61882353e-01, 8.55488598e-01, 1.45702407e-01,\n",
       "        8.88771176e-01, 6.25500917e-01, 2.03934953e-01, 9.86050606e-01,\n",
       "        6.52756512e-01, 1.49777502e-01, 1.70451567e-01, 9.02826130e-01,\n",
       "        5.02359807e-01, 5.67665517e-01, 6.62800550e-01, 3.90726447e-01,\n",
       "        3.60463895e-02, 1.81742936e-01, 7.31217980e-01, 2.31089741e-01,\n",
       "        7.71649122e-01, 2.56803572e-01, 4.37299728e-01, 3.70601267e-01,\n",
       "        6.37513876e-01, 2.82826602e-01, 5.00426292e-01, 4.03320074e-01,\n",
       "        3.99739027e-01, 3.40545267e-01, 3.95296931e-01, 9.58954871e-01,\n",
       "        5.44039011e-01, 6.57554626e-01, 1.96373418e-01, 7.53380835e-01,\n",
       "        9.05727208e-01, 7.07152069e-01, 6.55801177e-01, 5.29172838e-01,\n",
       "        3.56950372e-01, 7.09346950e-01, 8.33924472e-01, 1.66095152e-01,\n",
       "        1.71390604e-02, 8.01475763e-01, 4.80451137e-01, 5.26297331e-01,\n",
       "        3.89766216e-01, 6.99043214e-01, 4.78623986e-01, 9.23322201e-01,\n",
       "        2.62882918e-01, 2.83574313e-01, 5.08418620e-01, 7.45953381e-01,\n",
       "        2.09508002e-01, 5.62452316e-01, 1.02819744e-02, 9.26873181e-04]],\n",
       "      dtype=float32)"
      ]
     },
     "execution_count": 11,
     "metadata": {},
     "output_type": "execute_result"
    }
   ],
   "source": [
    "xq"
   ]
  },
  {
   "cell_type": "code",
   "execution_count": 12,
   "metadata": {},
   "outputs": [
    {
     "data": {
      "text/plain": [
       "array([0.36709774, 0.01868419, 0.7844161 , 0.13255318, 0.01773141,\n",
       "       0.46975434, 0.6031421 , 0.8325629 , 0.03444909, 0.6948054 ,\n",
       "       0.03885154, 0.33044648, 0.14642146, 0.52995616, 0.11065452,\n",
       "       0.5043714 , 0.11057313, 0.19892928, 0.83174425, 0.31607446,\n",
       "       0.8923153 , 0.53857535, 0.72438264, 0.76872605, 0.19023292,\n",
       "       0.1933642 , 0.39589378, 0.05573777, 0.8583997 , 0.84888303,\n",
       "       0.20365712, 0.26207957, 0.8564358 , 0.12472252, 0.45748293,\n",
       "       0.59283   , 0.93222123, 0.41048843, 0.04060174, 0.8758207 ,\n",
       "       0.1422287 , 0.907882  , 0.7169842 , 0.47282323, 0.4419565 ,\n",
       "       0.07808255, 0.59086484, 0.01656216, 0.28013968, 0.6866983 ,\n",
       "       0.17540969, 0.55518633, 0.23562117, 0.30155936, 0.68702507,\n",
       "       0.39415923, 0.5698617 , 0.47218543, 0.9824452 , 0.9529985 ,\n",
       "       0.54422194, 0.4511032 , 0.44910878, 0.14000134, 0.46984   ,\n",
       "       0.8565914 , 0.7001015 , 0.6423666 , 0.93737584, 0.8731875 ,\n",
       "       0.9646698 , 0.90118146, 0.39553335, 0.0117071 , 0.66705453,\n",
       "       0.99732345, 0.0490909 , 0.33377543, 0.9820902 , 0.9944703 ,\n",
       "       0.5627718 , 0.05214163, 0.25800028, 0.00222581, 0.36132413,\n",
       "       0.68767625, 0.03323626, 0.632163  , 0.94008803, 0.4282756 ,\n",
       "       0.12798399, 0.82537293, 0.78760654, 0.89879966, 0.81956965,\n",
       "       0.8707726 , 0.53822947, 0.584942  , 0.87811065, 0.62467635],\n",
       "      dtype=float32)"
      ]
     },
     "execution_count": 12,
     "metadata": {},
     "output_type": "execute_result"
    }
   ],
   "source": [
    "xb[32]"
   ]
  },
  {
   "cell_type": "code",
   "execution_count": null,
   "metadata": {},
   "outputs": [],
   "source": []
  },
  {
   "cell_type": "code",
   "execution_count": 122,
   "metadata": {},
   "outputs": [],
   "source": [
    "# Load model\n",
    "device = torch.device(\"cpu\")\n",
    "with open(\"../checkpoints/chkpt-1-3000-model.pt\", 'rb') as f:\n",
    "    model = torch.load(f, map_location=device)"
   ]
  },
  {
   "cell_type": "code",
   "execution_count": 39,
   "metadata": {},
   "outputs": [],
   "source": [
    "from torch.utils.data import DataLoader\n",
    "import data\n",
    "import glob\n",
    "\n",
    "val_data_files = glob.glob(\"../data/val/*.pkl\")\n",
    "valid_dataset = data.HierLMDataset(val_data_files, seq_len=64, device=device,\n",
    "                                  provenance=True)\n",
    "valid_data_loader = DataLoader(valid_dataset, batch_size=64,\n",
    "                                    num_workers=0)"
   ]
  },
  {
   "cell_type": "code",
   "execution_count": 40,
   "metadata": {},
   "outputs": [],
   "source": [
    "for batch_index, batch in enumerate(valid_data_loader):\n",
    "    break"
   ]
  },
  {
   "cell_type": "code",
   "execution_count": 48,
   "metadata": {},
   "outputs": [
    {
     "data": {
      "text/plain": [
       "('V', 'demonstrated')"
      ]
     },
     "execution_count": 48,
     "metadata": {},
     "output_type": "execute_result"
    }
   ],
   "source": [
    "batch[1][0][0][0], batch[1][0][1][0] # (text is at 1, seq, [tag/text], batch)"
   ]
  },
  {
   "cell_type": "code",
   "execution_count": 59,
   "metadata": {},
   "outputs": [],
   "source": [
    "batch_data = batch[0]\n",
    "batch_text = batch[1]"
   ]
  },
  {
   "cell_type": "code",
   "execution_count": 58,
   "metadata": {},
   "outputs": [
    {
     "name": "stdout",
     "output_type": "stream",
     "text": [
      "demonstrated\n",
      "the helicopter\n",
      "its early battlefield capabilities\n",
      "in the korean war\n",
      "began\n",
      "the united states army\n",
      "experimenting with expanded roles and missions for them\n",
      "after the helicopter demonstrated its early battlefield capabilities in the korean war\n",
      "experimenting\n",
      "the united states army\n",
      "with expanded roles and missions for them\n",
      "expanded\n",
      "roles and\n",
      "culminated\n",
      "this\n",
      "with the formation of the tactical mobility requirements board , which strongly recommended the adaptation of helicopters in a variety of roles and missions\n",
      "in 1962\n",
      "recommended\n",
      "the tactical mobility requirements board\n",
      "the adaptation of helicopters in a variety of roles and missions\n",
      "strongly\n",
      "was\n",
      "activated\n",
      "the 11th air assault division\n",
      "in 1963 to test a number of the board ' s concepts and recommendations about air mobility\n",
      "test\n",
      "the 11th air assault division\n",
      "a number of the board ' s concepts and recommendations about air mobility\n",
      "assigned\n",
      "the 155mm howitzers\n",
      "to army divisions\n",
      "then as medium support artillery\n",
      "were\n",
      "the 155mm howitzers then assigned to army divisions as medium support artillery\n",
      "transportable by helicopters\n",
      "not\n",
      "was\n",
      "developed\n",
      "the concept of aerial rocket artillery ( ara )\n",
      "as a substitute\n",
      "because the 155mm howitzers then assigned to army divisions as medium support artillery were not transportable by helicopters\n",
      "armed\n",
      "helicopters\n",
      "rocket\n",
      "was\n",
      "the original test unit for rocket - armed helicopters within the 11th air assault division\n",
      "the 2nd battalion , 42nd artillery ( later designated the 3rd battalion , 377th artillery )\n",
      "designated\n",
      "the 2nd battalion , 42nd artillery\n",
      "the 3rd battalion , 377th artillery\n",
      "later\n",
      "was\n",
      "redesignated\n",
      "the 11th air assault\n",
      "as the 1st cavalry division\n",
      "when\n",
      "sent\n",
      "the 11th air assault\n",
      "to vietnam\n",
      "when\n",
      "became\n",
      "the 3 / 377th\n",
      "the 2nd battalion , 20th artillery ( max \" )\n",
      "when the 11th air assault was redesignated as the 1st cavalry division and sent to vietnam using the radio call sign \" blue\n"
     ]
    }
   ],
   "source": [
    "for i in range(64):\n",
    "    print(batch[1][i][1][0])"
   ]
  },
  {
   "cell_type": "code",
   "execution_count": 62,
   "metadata": {},
   "outputs": [
    {
     "data": {
      "text/plain": [
       "torch.Size([64, 65, 768])"
      ]
     },
     "execution_count": 62,
     "metadata": {},
     "output_type": "execute_result"
    }
   ],
   "source": [
    "batch_data.shape"
   ]
  },
  {
   "cell_type": "code",
   "execution_count": 63,
   "metadata": {},
   "outputs": [],
   "source": [
    "grab_all_vecs = batch_data[:,1:].reshape((-1, batch_data.shape[2]))"
   ]
  },
  {
   "cell_type": "code",
   "execution_count": 64,
   "metadata": {},
   "outputs": [
    {
     "data": {
      "text/plain": [
       "torch.Size([4096, 768])"
      ]
     },
     "execution_count": 64,
     "metadata": {},
     "output_type": "execute_result"
    }
   ],
   "source": [
    "grab_all_vecs.shape"
   ]
  },
  {
   "cell_type": "code",
   "execution_count": 65,
   "metadata": {},
   "outputs": [],
   "source": [
    "# Create index\n",
    "index = faiss.IndexFlatIP(batch_data.shape[2])   # build the index, d=size of vectors "
   ]
  },
  {
   "cell_type": "code",
   "execution_count": 66,
   "metadata": {},
   "outputs": [],
   "source": [
    "index.add(grab_all_vecs.numpy().astype(np.float32))"
   ]
  },
  {
   "cell_type": "code",
   "execution_count": 67,
   "metadata": {},
   "outputs": [],
   "source": [
    "output = model(batch_data[0,0].view(1,1,-1))"
   ]
  },
  {
   "cell_type": "code",
   "execution_count": 68,
   "metadata": {},
   "outputs": [
    {
     "data": {
      "text/plain": [
       "torch.Size([1, 1, 768])"
      ]
     },
     "execution_count": 68,
     "metadata": {},
     "output_type": "execute_result"
    }
   ],
   "source": [
    "output.shape"
   ]
  },
  {
   "cell_type": "code",
   "execution_count": 69,
   "metadata": {},
   "outputs": [],
   "source": [
    "D, I = index.search(output[0,0].detach().numpy().astype(np.float32).reshape(1,-1), 1)"
   ]
  },
  {
   "cell_type": "code",
   "execution_count": 70,
   "metadata": {},
   "outputs": [
    {
     "data": {
      "text/plain": [
       "array([[3.2349136]], dtype=float32)"
      ]
     },
     "execution_count": 70,
     "metadata": {},
     "output_type": "execute_result"
    }
   ],
   "source": [
    "D"
   ]
  },
  {
   "cell_type": "code",
   "execution_count": 71,
   "metadata": {},
   "outputs": [
    {
     "data": {
      "text/plain": [
       "array([[879]])"
      ]
     },
     "execution_count": 71,
     "metadata": {},
     "output_type": "execute_result"
    }
   ],
   "source": [
    "I"
   ]
  },
  {
   "cell_type": "code",
   "execution_count": 75,
   "metadata": {},
   "outputs": [
    {
     "data": {
      "text/plain": [
       "('V', 'entered')"
      ]
     },
     "execution_count": 75,
     "metadata": {},
     "output_type": "execute_result"
    }
   ],
   "source": [
    "seq = I[0][0] % 64\n",
    "bb = I[0][0] // 64\n",
    "(batch_text[seq][0][bb], batch_text[seq][1][bb])"
   ]
  },
  {
   "cell_type": "code",
   "execution_count": 82,
   "metadata": {},
   "outputs": [],
   "source": [
    "model.eval()\n",
    "pass"
   ]
  },
  {
   "cell_type": "code",
   "execution_count": 124,
   "metadata": {},
   "outputs": [
    {
     "name": "stdout",
     "output_type": "stream",
     "text": [
      "('V', 'rejected')\n",
      "('ARG0', 'quist')\n",
      "('V', 'has')\n",
      "('ARGM', 'purposely')\n",
      "('V', 'made')\n",
      "('ARG0', 'lawmakers')\n",
      "('ARGM', 'legally')\n",
      "('V', 'own')\n",
      "('V', 'owning')\n",
      "('ARG2', 'from owning a firearm')\n",
      "('ARG1', 'a firearm')\n",
      "('ARG1', 'a gun')\n",
      "('ARG1', 'a lasting political impact on events in india')\n",
      "('V', 'had')\n",
      "('ARG0', 'the great famine')\n",
      "('ARG1', 'the great famine')\n",
      "('V', 'occurred')\n",
      "('ARG1', 'the famine')\n",
      "('ARG1', 'famine')\n",
      "('V', 'affected')\n",
      "('V', 'affected')\n",
      "('ARG0', 'it')\n",
      "('ARGM', 'for a period of two years')\n",
      "('V', 'covered')\n",
      "('ARG1', 'famine')\n"
     ]
    }
   ],
   "source": [
    "input_seq = batch_data[0,0].view(1,1,-1)\n",
    "history = []\n",
    "for i in range(25):\n",
    "    output = model(input_seq)\n",
    "    new_tok = output[i,0].detach().numpy().astype(np.float32).reshape(1,-1)\n",
    "    D, I = index.search(new_tok, 5)\n",
    "    choose = 0\n",
    "    new_input_idx = I[0][choose]\n",
    "    while history and new_input_idx in history:\n",
    "        choose += 1\n",
    "        if choose >= I.shape[1]:\n",
    "            new_input_idx = np.random.choice(64*64)\n",
    "        else:\n",
    "            new_input_idx = I[0][choose]\n",
    "    history.append(new_input_idx)\n",
    "    # print(new_input_idx)\n",
    "    seq = new_input_idx % 64\n",
    "    bb = new_input_idx // 64\n",
    "    print((batch_text[seq][0][bb], batch_text[seq][1][bb]))\n",
    "    new_input = grab_all_vecs[new_input_idx]\n",
    "    new_input = new_input.view(1,1,-1)\n",
    "    input_seq = torch.cat([input_seq, new_input], axis=0)\n",
    "    # print(input_seq.shape)"
   ]
  },
  {
   "cell_type": "code",
   "execution_count": null,
   "metadata": {},
   "outputs": [],
   "source": []
  }
 ],
 "metadata": {
  "kernelspec": {
   "display_name": "Python [conda env:discoher]",
   "language": "python",
   "name": "conda-env-discoher-py"
  },
  "language_info": {
   "codemirror_mode": {
    "name": "ipython",
    "version": 3
   },
   "file_extension": ".py",
   "mimetype": "text/x-python",
   "name": "python",
   "nbconvert_exporter": "python",
   "pygments_lexer": "ipython3",
   "version": "3.7.9"
  }
 },
 "nbformat": 4,
 "nbformat_minor": 4
}
